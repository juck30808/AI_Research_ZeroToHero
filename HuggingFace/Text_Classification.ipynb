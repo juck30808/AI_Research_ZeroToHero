{
 "cells": [
  {
   "cell_type": "code",
   "execution_count": 1,
   "id": "b87bdaa9",
   "metadata": {},
   "outputs": [],
   "source": [
    "try:\n",
    "    from transformers import pipeline\n",
    "except:\n",
    "    !pip install transformers datasets"
   ]
  },
  {
   "cell_type": "markdown",
   "id": "3cb6675e",
   "metadata": {},
   "source": [
    "我們剛剛介紹的情感分析可以被認為是文本分類的一種特殊情況，其中類別（或類別）只有正面、負面或中性。文本分類更通用，因為它可以將傳入文本（例如句子、段落或文檔）分類（或分類）到預定義的類別中。讓我們看看這在實踐中意味著什麼。"
   ]
  },
  {
   "cell_type": "code",
   "execution_count": 2,
   "id": "59f1dc57",
   "metadata": {},
   "outputs": [
    {
     "data": {
      "application/vnd.jupyter.widget-view+json": {
       "model_id": "e43e29854844441581d00878fe17fe25",
       "version_major": 2,
       "version_minor": 0
      },
      "text/plain": [
       "Downloading (…)lve/main/config.json:   0%|          | 0.00/1.15k [00:00<?, ?B/s]"
      ]
     },
     "metadata": {},
     "output_type": "display_data"
    },
    {
     "name": "stderr",
     "output_type": "stream",
     "text": [
      "C:\\Users\\cti110016\\AppData\\Local\\anaconda3\\Lib\\site-packages\\huggingface_hub\\file_download.py:133: UserWarning: `huggingface_hub` cache-system uses symlinks by default to efficiently store duplicated files but your machine does not support them in C:\\Users\\cti110016\\.cache\\huggingface\\hub. Caching files will still work but in a degraded version that might require more space on your disk. This warning can be disabled by setting the `HF_HUB_DISABLE_SYMLINKS_WARNING` environment variable. For more details, see https://huggingface.co/docs/huggingface_hub/how-to-cache#limitations.\n",
      "To support symlinks on Windows, you either need to activate Developer Mode or to run Python as an administrator. In order to see activate developer mode, see this article: https://docs.microsoft.com/en-us/windows/apps/get-started/enable-your-device-for-development\n",
      "  warnings.warn(message)\n"
     ]
    },
    {
     "data": {
      "application/vnd.jupyter.widget-view+json": {
       "model_id": "34cc902d08bb4c7a8a1ea1698a1f0e7f",
       "version_major": 2,
       "version_minor": 0
      },
      "text/plain": [
       "Downloading model.safetensors:   0%|          | 0.00/1.63G [00:00<?, ?B/s]"
      ]
     },
     "metadata": {},
     "output_type": "display_data"
    },
    {
     "data": {
      "application/vnd.jupyter.widget-view+json": {
       "model_id": "a6523f91e93d49d4b89690a07f6e852b",
       "version_major": 2,
       "version_minor": 0
      },
      "text/plain": [
       "Downloading (…)okenizer_config.json:   0%|          | 0.00/26.0 [00:00<?, ?B/s]"
      ]
     },
     "metadata": {},
     "output_type": "display_data"
    },
    {
     "data": {
      "application/vnd.jupyter.widget-view+json": {
       "model_id": "3549e5a1c50140d98f86b85482f6ef3b",
       "version_major": 2,
       "version_minor": 0
      },
      "text/plain": [
       "Downloading (…)olve/main/vocab.json:   0%|          | 0.00/899k [00:00<?, ?B/s]"
      ]
     },
     "metadata": {},
     "output_type": "display_data"
    },
    {
     "data": {
      "application/vnd.jupyter.widget-view+json": {
       "model_id": "75590bf547b24f0791241a466aca3f8d",
       "version_major": 2,
       "version_minor": 0
      },
      "text/plain": [
       "Downloading (…)olve/main/merges.txt:   0%|          | 0.00/456k [00:00<?, ?B/s]"
      ]
     },
     "metadata": {},
     "output_type": "display_data"
    },
    {
     "data": {
      "application/vnd.jupyter.widget-view+json": {
       "model_id": "6d83a48b9d924eae86bcfcd242601d3b",
       "version_major": 2,
       "version_minor": 0
      },
      "text/plain": [
       "Downloading (…)/main/tokenizer.json:   0%|          | 0.00/1.36M [00:00<?, ?B/s]"
      ]
     },
     "metadata": {},
     "output_type": "display_data"
    },
    {
     "data": {
      "text/plain": [
       "{'sequence': 'This is a tutorial about using pre-trained models through HuggingFace',\n",
       " 'labels': ['education', 'business', 'music', 'sports', 'politics'],\n",
       " 'scores': [0.40113669633865356,\n",
       "  0.2170695662498474,\n",
       "  0.1454731822013855,\n",
       "  0.1450750082731247,\n",
       "  0.09124555438756943]}"
      ]
     },
     "execution_count": 2,
     "metadata": {},
     "output_type": "execute_result"
    }
   ],
   "source": [
    "# Specify model\n",
    "model = 'facebook/bart-large-mnli'\n",
    "\n",
    "# Specify Task\n",
    "task = 'zero-shot-classification'\n",
    "\n",
    "# Specify input text\n",
    "input_text = 'This is a tutorial about using pre-trained models through HuggingFace'\n",
    "\n",
    "# Identify the classes/categories/labels\n",
    "labels = ['business', 'sports', 'education', 'politics', 'music']\n",
    "\n",
    "# Instantiate pipeline\n",
    "classifier = pipeline(task, model = model)\n",
    "\n",
    "# Store the output of the analysis\n",
    "output = classifier(input_text, candidate_labels = labels)\n",
    "\n",
    "# Return output\n",
    "output"
   ]
  },
  {
   "cell_type": "markdown",
   "id": "1acdbd3f",
   "metadata": {},
   "source": [
    "結果非常有趣！分數對應於每個標籤，從最大到最小排序以便於閱讀。例如，結果表明我們的句子被標記為“教育”，得分約為 40%，其次是“商業”，得分約為 22%，而“音樂”、“體育”和“政治”的標籤得分非常低分數，這對我來說總體來說是有意義的。"
   ]
  },
  {
   "cell_type": "code",
   "execution_count": null,
   "id": "781a8723",
   "metadata": {},
   "outputs": [],
   "source": []
  }
 ],
 "metadata": {
  "kernelspec": {
   "display_name": "Python 3 (ipykernel)",
   "language": "python",
   "name": "python3"
  },
  "language_info": {
   "codemirror_mode": {
    "name": "ipython",
    "version": 3
   },
   "file_extension": ".py",
   "mimetype": "text/x-python",
   "name": "python",
   "nbconvert_exporter": "python",
   "pygments_lexer": "ipython3",
   "version": "3.11.3"
  }
 },
 "nbformat": 4,
 "nbformat_minor": 5
}
