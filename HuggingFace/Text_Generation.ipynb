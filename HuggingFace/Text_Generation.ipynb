{
 "cells": [
  {
   "cell_type": "code",
   "execution_count": null,
   "id": "6550fefd",
   "metadata": {},
   "outputs": [],
   "source": [
    "try:\n",
    "    from transformers import pipeline\n",
    "except:\n",
    "    !pip install transformers datasets"
   ]
  },
  {
   "cell_type": "markdown",
   "id": "385ff240",
   "metadata": {},
   "source": [
    "為了實現文本生成，我們將從 transformers 庫導入 pipeline ，使用其中一種 GPT 模型並執行以下步驟。我還在代碼中添加了註釋，以便您可以更輕鬆地執行以下步驟：\n",
    "1. Import libraries 導入庫\n",
    "2. Specify the name of the pre-trained model to be used for this specific task 指定用於此特定任務的預訓練模型的名稱\n",
    "3. Specify the sentence, which will be completed by the model 指定句子，該句子將由模型完成\n",
    "4. Create an instance of pipeline as generator 創建 pipeline 的實例作為 generator\n",
    "5. Perform the text generation and store the results as output 執行文本生成並將結果存儲為 output\n",
    "6. Return the results 返回結果\n",
    "\n",
    "reference: https://towardsdatascience.com/implement-nlp-tasks-using-hugging-face-77dfdcad65fd"
   ]
  },
  {
   "cell_type": "code",
   "execution_count": 1,
   "id": "6ac9b84a",
   "metadata": {},
   "outputs": [
    {
     "data": {
      "application/vnd.jupyter.widget-view+json": {
       "model_id": "92852382b2b8463bad1a1aaae2207fb6",
       "version_major": 2,
       "version_minor": 0
      },
      "text/plain": [
       "Downloading (…)lve/main/config.json:   0%|          | 0.00/665 [00:00<?, ?B/s]"
      ]
     },
     "metadata": {},
     "output_type": "display_data"
    },
    {
     "name": "stderr",
     "output_type": "stream",
     "text": [
      "C:\\Users\\cti110016\\AppData\\Local\\anaconda3\\Lib\\site-packages\\huggingface_hub\\file_download.py:133: UserWarning: `huggingface_hub` cache-system uses symlinks by default to efficiently store duplicated files but your machine does not support them in C:\\Users\\cti110016\\.cache\\huggingface\\hub. Caching files will still work but in a degraded version that might require more space on your disk. This warning can be disabled by setting the `HF_HUB_DISABLE_SYMLINKS_WARNING` environment variable. For more details, see https://huggingface.co/docs/huggingface_hub/how-to-cache#limitations.\n",
      "To support symlinks on Windows, you either need to activate Developer Mode or to run Python as an administrator. In order to see activate developer mode, see this article: https://docs.microsoft.com/en-us/windows/apps/get-started/enable-your-device-for-development\n",
      "  warnings.warn(message)\n"
     ]
    },
    {
     "data": {
      "application/vnd.jupyter.widget-view+json": {
       "model_id": "9f1c783bc213486abf4df124801d3e90",
       "version_major": 2,
       "version_minor": 0
      },
      "text/plain": [
       "Downloading model.safetensors:   0%|          | 0.00/548M [00:00<?, ?B/s]"
      ]
     },
     "metadata": {},
     "output_type": "display_data"
    },
    {
     "data": {
      "application/vnd.jupyter.widget-view+json": {
       "model_id": "c69cb519f7b4401db3a3521a6fc3bfaf",
       "version_major": 2,
       "version_minor": 0
      },
      "text/plain": [
       "Downloading (…)neration_config.json:   0%|          | 0.00/124 [00:00<?, ?B/s]"
      ]
     },
     "metadata": {},
     "output_type": "display_data"
    },
    {
     "data": {
      "application/vnd.jupyter.widget-view+json": {
       "model_id": "095765884a29410387b72f15aa878c4a",
       "version_major": 2,
       "version_minor": 0
      },
      "text/plain": [
       "Downloading (…)olve/main/vocab.json:   0%|          | 0.00/1.04M [00:00<?, ?B/s]"
      ]
     },
     "metadata": {},
     "output_type": "display_data"
    },
    {
     "data": {
      "application/vnd.jupyter.widget-view+json": {
       "model_id": "1a87ca765c674aa1b078f5da037348d0",
       "version_major": 2,
       "version_minor": 0
      },
      "text/plain": [
       "Downloading (…)olve/main/merges.txt:   0%|          | 0.00/456k [00:00<?, ?B/s]"
      ]
     },
     "metadata": {},
     "output_type": "display_data"
    },
    {
     "data": {
      "application/vnd.jupyter.widget-view+json": {
       "model_id": "80115c5f19e64510b27c5acfdd6fa98f",
       "version_major": 2,
       "version_minor": 0
      },
      "text/plain": [
       "Downloading (…)/main/tokenizer.json:   0%|          | 0.00/1.36M [00:00<?, ?B/s]"
      ]
     },
     "metadata": {},
     "output_type": "display_data"
    },
    {
     "name": "stderr",
     "output_type": "stream",
     "text": [
      "Xformers is not installed correctly. If you want to use memory_efficient_attention to accelerate training use the following command to install Xformers\n",
      "pip install xformers.\n",
      "Setting `pad_token_id` to `eos_token_id`:50256 for open-end generation.\n"
     ]
    },
    {
     "data": {
      "text/plain": [
       "[{'generated_text': 'If you are interested in learing more about data science, I can teach you how to do that, just come in and get an idea for how to write about it on any of the Web sites that are available.\\n\\nNow,'}]"
      ]
     },
     "execution_count": 1,
     "metadata": {},
     "output_type": "execute_result"
    }
   ],
   "source": [
    "from transformers import pipeline\n",
    "\n",
    "model = \"gpt2\"                       # Specify the model\n",
    "task = \"text-generation\"             # Specify the task\n",
    "generator = pipeline(model = model, task = task, max_new_tokens = 30)  # Instantiate pipeline\n",
    "\n",
    "# Specify input text, Perform text generation and store the results\n",
    "input_text = \"If you are interested in learing more about data science, I can teach you how to\"\n",
    "output = generator(input_text)\n",
    "output"
   ]
  },
  {
   "cell_type": "markdown",
   "id": "73e208b2",
   "metadata": {},
   "source": [
    "我們可以在結果中看到，模型接受了我們提供的輸入文本，並根據訓練的數據和我們提供的句子生成了附加文本。請注意，我使用 max_new_tokens 將輸出長度限制為 30 個標記，以防止出現冗長的響應。生成的文本聽起來合理且與上下文相關。"
   ]
  },
  {
   "cell_type": "code",
   "execution_count": null,
   "id": "b4726c7b",
   "metadata": {},
   "outputs": [],
   "source": []
  }
 ],
 "metadata": {
  "kernelspec": {
   "display_name": "Python 3 (ipykernel)",
   "language": "python",
   "name": "python3"
  },
  "language_info": {
   "codemirror_mode": {
    "name": "ipython",
    "version": 3
   },
   "file_extension": ".py",
   "mimetype": "text/x-python",
   "name": "python",
   "nbconvert_exporter": "python",
   "pygments_lexer": "ipython3",
   "version": "3.11.3"
  }
 },
 "nbformat": 4,
 "nbformat_minor": 5
}
