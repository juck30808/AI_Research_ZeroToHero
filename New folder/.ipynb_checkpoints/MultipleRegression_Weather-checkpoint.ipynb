{
 "cells": [
  {
   "cell_type": "markdown",
   "metadata": {},
   "source": [
    "# Linear-Regression"
   ]
  },
  {
   "cell_type": "markdown",
   "metadata": {},
   "source": [
    "## Example: Predicting Bicycle Traffic 預測自行車流量"
   ]
  },
  {
   "cell_type": "markdown",
   "metadata": {},
   "source": [
    "> As an example, let's take a look at whether we can predict the number of bicycle trips across Seattle's Fremont Bridge based on weather, season, and other factors.\n",
    "We have seen this data already in [Working With Time Series](03.11-Working-with-Time-Series.ipynb).\n",
    "\n",
    "我們來看一個例子，試圖從天氣、季節和其他因素中對西雅圖費利蒙大橋的自行車交通流量數據進行預測。我們已經在[在時間序列上操作](03.11-Working-with-Time-Series.ipynb)一節中使用過這個數據。\n",
    "\n",
    "> In this section, we will join the bike data with another dataset, and try to determine the extent to which weather and seasonal factors—temperature, precipitation, and daylight hours—affect the volume of bicycle traffic through this corridor.\n",
    "Fortunately, the NOAA makes available their daily [weather station data](http://www.ncdc.noaa.gov/cdo-web/search?datasetid=GHCND) (I used station ID USW00024233) and we can easily use Pandas to join the two data sources.\n",
    "We will perform a simple linear regression to relate weather and other information to bicycle counts, in order to estimate how a change in any one of these parameters affects the number of riders on a given day.\n",
    "\n",
    "本節中，我們會將自行車數據與另外一個數據集聯合起來，然後從中找到哪些天氣和季節因素，比方說溫度、降雨和日照時間，會影響到這條交通要道自行車流量數據。幸運的是美國國家海洋和大氣管理局NOAA公開了每天[氣象站數據](http://www.ncdc.noaa.gov/cdo-web/search?datasetid=GHCND)（ID USW00024233），我們可以使用Pandas很容易地聯合兩個數據集。然後我們使用簡單的線性回歸來擬合相關的天氣以及其他因素和自行車數量，以此來估計給定一天的任何其中一個參數改變對騎行者數量的影響。\n",
    "\n",
    "> In particular, this is an example of how the tools of Scikit-Learn can be used in a statistical modeling framework, in which the parameters of the model are assumed to have interpretable meaning.\n",
    "As discussed previously, this is not a standard approach within machine learning, but such interpretation is possible for some models.Let's start by loading the two datasets, indexing by date:\n",
    "\n",
    "特別這是在統計模型框架中使用Scikit-Learn工具的例子，其中的模型參數被認為是有可解釋的含義的。正如之前討論的，這不是機器學期的標準方法，但是對於一些模型來說這樣的解釋是存在的。讓我們首先載入兩個數據集，使用日期進行索引："
   ]
  },
  {
   "cell_type": "code",
   "execution_count": null,
   "metadata": {},
   "outputs": [],
   "source": [
    "# !curl -o FremontBridge.csv https://data.seattle.gov/api/views/65db-xm6k/rows.csv?accessType=DOWNLOAD"
   ]
  },
  {
   "cell_type": "code",
   "execution_count": null,
   "metadata": {},
   "outputs": [],
   "source": [
    "import pandas as pd\n",
    "\n",
    "counts = pd.read_csv(\"input/FremontBridge.csv\", index_col=\"Date\", parse_dates=True)\n",
    "weather = pd.read_csv(\"input/BicycleWeather.csv\", index_col=\"DATE\", parse_dates=True)"
   ]
  },
  {
   "cell_type": "markdown",
   "metadata": {},
   "source": [
    "> we will compute the total daily bicycle traffic, and put this in its own dataframe:\n",
    "\n",
    "我們計算每天自行車的總流量，把這個數據放進它自己的DataFrame中："
   ]
  },
  {
   "cell_type": "code",
   "execution_count": null,
   "metadata": {},
   "outputs": [],
   "source": [
    "daily = counts.resample(\"d\").sum()\n",
    "daily[\"Total\"] = daily.sum(axis=1)\n",
    "daily = daily[[\"Total\"]]  # 移除其他列"
   ]
  },
  {
   "cell_type": "markdown",
   "metadata": {},
   "source": [
    "> We saw previously that the patterns of use generally vary from day to day; let's account for this in our data by adding binary columns that indicate the day of the week:\n",
    "\n",
    "我們之前看到自行車流量隨著星期天數而發生不同變化；因此讓我們將這點也考慮進來，為這個數據集增加7個布爾值的列表示星期天數："
   ]
  },
  {
   "cell_type": "code",
   "execution_count": null,
   "metadata": {},
   "outputs": [],
   "source": [
    "days = [\"Mon\", \"Tue\", \"Wed\", \"Thu\", \"Fri\", \"Sat\", \"Sun\"]\n",
    "for i in range(7):\n",
    "    daily[days[i]] = (daily.index.dayofweek == i).astype(float)"
   ]
  },
  {
   "cell_type": "markdown",
   "metadata": {},
   "source": [
    "> Similarly, we might expect riders to behave differently on holidays; let's add an indicator of this as well:\n",
    "\n",
    "類似的，我們也期望騎手們在節日會有不同習慣；讓我們將這點也考慮進來，加入一個標識列："
   ]
  },
  {
   "cell_type": "code",
   "execution_count": null,
   "metadata": {},
   "outputs": [],
   "source": [
    "from pandas.tseries.holiday import USFederalHolidayCalendar\n",
    "\n",
    "cal = USFederalHolidayCalendar()\n",
    "holidays = cal.holidays(\"2012\", \"2016\")\n",
    "daily = daily.join(pd.Series(1, index=holidays, name=\"holiday\"))\n",
    "daily[\"holiday\"].fillna(0, inplace=True)"
   ]
  },
  {
   "cell_type": "markdown",
   "metadata": {},
   "source": [
    "> We also might suspect that the hours of daylight would affect how many people ride;\n",
    "\n",
    "我們同樣猜測日照時間也會影響多少人騎自行車："
   ]
  },
  {
   "cell_type": "code",
   "execution_count": null,
   "metadata": {},
   "outputs": [],
   "source": [
    "from datetime import datetime\n",
    "\n",
    "\n",
    "def hours_of_daylight(date, axis=23.44, latitude=47.61):\n",
    "    \"\"\"\n",
    "    計算給定日期的日照時間\n",
    "    axis 23.44 黃赤夾角\n",
    "    latitude 47.61 西雅圖緯度\n",
    "    \"\"\"\n",
    "    # 2000年12月21日是冬至日，日照時間最短\n",
    "    days = (date - datetime(2000, 12, 21)).days\n",
    "    m = 1.0 - np.tan(np.radians(latitude)) * np.tan(\n",
    "        np.radians(axis) * np.cos(days * 2 * np.pi / 365.25)\n",
    "    )\n",
    "    return 24.0 * np.degrees(np.arccos(1 - np.clip(m, 0, 2))) / 180.0\n",
    "\n",
    "\n",
    "daily[\"daylight_hrs\"] = list(map(hours_of_daylight, daily.index))\n",
    "daily[[\"daylight_hrs\"]].plot()\n",
    "plt.ylim(8, 17)"
   ]
  },
  {
   "cell_type": "markdown",
   "metadata": {},
   "source": [
    "> We can also add the average temperature and total precipitation to the data.\n",
    "In addition to the inches of precipitation, let's add a flag that indicates whether a day is dry (has zero precipitation):\n",
    "\n",
    "我們也可以增加平均氣溫和總降雨量數據。除了單位為英寸的降雨量列外，我們再增加一列標誌表示當天是否乾燥（降雨量為0）："
   ]
  },
  {
   "cell_type": "code",
   "execution_count": null,
   "metadata": {},
   "outputs": [],
   "source": [
    "# 氣溫單位是0.1攝氏度，求平均值\n",
    "weather[\"TMIN\"] /= 10\n",
    "weather[\"TMAX\"] /= 10\n",
    "weather[\"Temp (C)\"] = 0.5 * (weather[\"TMIN\"] + weather[\"TMAX\"])\n",
    "\n",
    "# 降雨量單位是0.1毫米，轉換為英寸\n",
    "weather[\"PRCP\"] /= 254\n",
    "weather[\"dry day\"] = (weather[\"PRCP\"] == 0).astype(int)\n",
    "\n",
    "daily = daily.join(weather[[\"PRCP\", \"Temp (C)\", \"dry day\"]])"
   ]
  },
  {
   "cell_type": "markdown",
   "metadata": {},
   "source": [
    "> Finally, let's add a counter that increases from day 1, and measures how many years have passed.\n",
    "This will let us measure any observed annual increase or decrease in daily crossings:\n",
    "\n",
    "最後，讓我們增加一列計數器從第一天開始計數，然後轉換成經過的年的小數數值。該列會在每年進行循環："
   ]
  },
  {
   "cell_type": "code",
   "execution_count": null,
   "metadata": {},
   "outputs": [],
   "source": [
    "daily[\"annual\"] = (daily.index - daily.index[0]).days / 365.0\n",
    "daily.head()"
   ]
  },
  {
   "cell_type": "markdown",
   "metadata": {},
   "source": [
    "> With this in place, we can choose the columns to use, and fit a linear regression model to our data.\n",
    "We will set ``fit_intercept = False``, because the daily flags essentially operate as their own day-specific intercepts: Finally, we can compare the total and predicted bicycle traffic visually:\n",
    "\n",
    "有了數據後，我們可以選擇使用哪些列來讓線性回歸模型進行擬合。我們設置`fit_intercept=False`，因為每天的數據都有著那一天自己的截距：最終我們將預測的自行車交通流量和實際總量進行比較繪製圖表："
   ]
  },
  {
   "cell_type": "code",
   "execution_count": null,
   "metadata": {},
   "outputs": [],
   "source": [
    "# 移除所有有空值的行\n",
    "daily.dropna(axis=0, how=\"any\", inplace=True)\n",
    "\n",
    "# 用來擬合模型的列包括星期幾、日照小時數、降水量、是否有雨、氣溫、該天的年計數\n",
    "column_names = [\n",
    "    \"Mon\",\n",
    "    \"Tue\",\n",
    "    \"Wed\",\n",
    "    \"Thu\",\n",
    "    \"Fri\",\n",
    "    \"Sat\",\n",
    "    \"Sun\",\n",
    "    \"holiday\",\n",
    "    \"daylight_hrs\",\n",
    "    \"PRCP\",\n",
    "    \"dry day\",\n",
    "    \"Temp (C)\",\n",
    "    \"annual\",\n",
    "]\n",
    "X = daily[column_names]\n",
    "y = daily[\"Total\"]\n",
    "\n",
    "model = LinearRegression(fit_intercept=False)\n",
    "model.fit(X, y)\n",
    "daily[\"predicted\"] = model.predict(X)\n",
    "daily[[\"Total\", \"predicted\"]].plot(alpha=0.5);"
   ]
  },
  {
   "cell_type": "markdown",
   "metadata": {},
   "source": [
    "> It is evident that we have missed some key features, especially during the summer time.\n",
    "Either our features are not complete (i.e., people decide whether to ride to work based on more than just these) or there are some nonlinear relationships that we have failed to take into account (e.g., perhaps people ride less at both high and low temperatures).\n",
    "Nevertheless, our rough approximation is enough to give us some insights, and we can take a look at the coefficients of the linear model to estimate how much each feature contributes to the daily bicycle count:\n",
    "\n",
    "很明顯我們遺失了一些關鍵的特徵，特別是在夏天的時候。或者我們的特徵不完整（如決定人們是否騎行的因素不止上述那些特徵）或者數據之間具有非線性的關係我們並未考慮進來（如人們在高溫和低溫的情況下都會減少騎行）。無論如何，我們這個粗糙的估計給了我們一些內在解釋，我們可以查看這個線性模型的係數，從中得到每個特徵是如何影響每天自行車總量的："
   ]
  },
  {
   "cell_type": "code",
   "execution_count": null,
   "metadata": {},
   "outputs": [],
   "source": [
    "params = pd.Series(model.coef_, index=X.columns)\n",
    "params"
   ]
  },
  {
   "cell_type": "markdown",
   "metadata": {},
   "source": [
    "> These numbers are difficult to interpret without some measure of their uncertainty.\n",
    "We can compute these uncertainties quickly using bootstrap resamplings of the data:\n",
    "\n",
    "這些數字如果沒有一種對它們不確定性的度量方式的話很難解讀。我們可以使用對數據的重採樣來快速的計算這些不確定性："
   ]
  },
  {
   "cell_type": "code",
   "execution_count": null,
   "metadata": {},
   "outputs": [],
   "source": [
    "from sklearn.utils import resample\n",
    "\n",
    "np.random.seed(1)\n",
    "err = np.std([model.fit(*resample(X, y)).coef_ for i in range(1000)], 0)\n",
    "\n",
    "print(pd.DataFrame({\"effect\": params.round(0), \"error\": err.round(0)}))"
   ]
  },
  {
   "cell_type": "markdown",
   "metadata": {},
   "source": [
    "> We first see that there is a relatively stable trend in the weekly baseline: there are many more riders on weekdays than on weekends and holidays.\n",
    "We see that for each additional hour of daylight, 129 ± 9 more people choose to ride; a temperature increase of one degree Celsius encourages 65 ± 4 people to grab their bicycle; a dry day means an average of 548 ± 33 more riders, and each inch of precipitation means 665 ± 62 more people leave their bike at home.\n",
    "Once all these effects are accounted for, we see a modest increase of 27 ± 18 new daily riders each year.\n",
    "\n",
    "首先看到的是每週相對穩定的變化趨勢：顯然工作日比周末的騎行者要多得多。如果每天日照時間多一個小時，就會多出240.0 ± 31.0個騎行者；氣溫升高一攝氏度會多出135.0 ± 10.0個騎行者；晴天意味著會多出1032.0 ± 103.0個騎行者；而每多一英寸降雨意味著會有1389.0 ± 175.0個人決定將自行車留在家。一旦所有因素都計算在內，我們發現每年同一天會平均多出38.0 ± 109.0個騎行者。\n",
    "> Our model is almost certainly missing some relevant information. For example, nonlinear effects (such as effects of precipitation *and* cold temperature) and nonlinear trends within each variable (such as disinclination to ride at very cold and very hot temperatures) cannot be accounted for in this model.\n",
    "Additionally, we have thrown away some of the finer-grained information (such as the difference between a rainy morning and a rainy afternoon), and we have ignored correlations between days (such as the possible effect of a rainy Tuesday on Wednesday's numbers, or the effect of an unexpected sunny day after a streak of rainy days).\n",
    "These are all potentially interesting effects, and you now have the tools to begin exploring them if you wish!\n",
    "\n",
    "我們的模型基本可以肯定遺漏了一些相關的信息。例如，非線性效果（比方說降水量*和*低氣溫的共同作用）和每個變量的非線性趨勢（比方說在非常熱和非常冷的天氣下騎車的縮減量），這個模型都沒有計算在內。除此之外，我們還拋棄了一些細顆粒度的信息（例如下雨早晨和下雨下午的區別），而且我們還忽略了連續天數之間的關聯（比方說預報週三下雨結果週二就下雨了或者是連續雨天后的一個意料外的晴天）。這些都是潛在有趣的效應，並且你現在已經有了能夠進一步探索它們的工具了。"
   ]
  },
  {
   "cell_type": "markdown",
   "metadata": {},
   "source": [
    "<!--NAVIGATION-->\n",
    "< [深入：朴素贝叶斯分类](05.05-Naive-Bayes.ipynb) | [目录](Index.ipynb) | [深入：支持向量机](05.07-Support-Vector-Machines.ipynb) >\n",
    "\n",
    "<a href=\"https://colab.research.google.com/github/wangyingsm/Python-Data-Science-Handbook/blob/master/notebooks/05.06-Linear-Regression.ipynb\"><img align=\"left\" src=\"https://colab.research.google.com/assets/colab-badge.svg\" alt=\"Open in Colab\" title=\"Open and Execute in Google Colaboratory\"></a>\n"
   ]
  },
  {
   "cell_type": "markdown",
   "metadata": {},
   "source": [
    "## Example"
   ]
  },
  {
   "cell_type": "code",
   "execution_count": null,
   "metadata": {},
   "outputs": [],
   "source": [
    "import numpy as np\n",
    "from numpy.testing import assert_almost_equal\n",
    "\n",
    "np.set_printoptions(precision=2)  # .2\n",
    "rng = np.random.RandomState(1)\n",
    "\n",
    "# 初始化實驗數據並減去平均\n",
    "W = rng.rand(2, 2)\n",
    "X_normal = rng.normal(scale=5, size=(2, 20))\n",
    "X_orig = W @ X_normal  # @ 就是你學過的矩陣相乘運算\n",
    "X_mean = X_orig.mean(axis=1)[:, np.newaxis]\n",
    "X = X_orig - X_mean\n",
    "mean = X.mean(axis=1)\n",
    "\n",
    "# 測試 numerical 相等，確保樣本的平均已經為 0 實作演算法時十分重要\n",
    "assert_almost_equal(0, mean)\n",
    "print(\"X.shape:\", X.shape, \"\\n\")\n",
    "print(X)"
   ]
  },
  {
   "cell_type": "code",
   "execution_count": null,
   "metadata": {},
   "outputs": [],
   "source": [
    "\"\"\"\n",
    "每個樣本為一個 column vector，索引從 0 開始\n",
    "第一個 「 : 」 代表取得所有對應的 rows\n",
    "\"\"\"\n",
    "X[:, 0]"
   ]
  },
  {
   "cell_type": "code",
   "execution_count": null,
   "metadata": {},
   "outputs": [],
   "source": [
    "\"\"\"\n",
    "除了 NumPy 比較特別以外，有實際用過 scikit-learn、PyTorch 或是 TensorFlow 做過矩陣運算的讀者們應該都清楚，\n",
    "實作上這些函式庫常會將數據矩陣 X 做轉置（transpose），使其維度變成 (n_samples, n_features)。這樣的好處是\n",
    "每一個列向量（row vector）都直接對應到一個樣本。這使得我們可以更輕鬆地存取特定樣本：\n",
    "\"\"\"\n",
    "# sanity check\n",
    "assert_almost_equal(X[:, 0], X.T[0])\n",
    "X.T[0]"
   ]
  },
  {
   "cell_type": "code",
   "execution_count": null,
   "metadata": {},
   "outputs": [],
   "source": [
    "\"\"\"\n",
    "array([[ 2.89,  0.32,  5.8 , -6.52,  3.94, -4.21],    <- n_features *2\n",
    "       [ 1.52,  0.91,  1.52, -0.88, -0.03, -1.26]])\n",
    "                        ^\n",
    "                    n_samples*6\n",
    "\"\"\"\n",
    "X[:, :6]"
   ]
  },
  {
   "cell_type": "code",
   "execution_count": null,
   "metadata": {},
   "outputs": [],
   "source": [
    "X[:, 0]"
   ]
  },
  {
   "cell_type": "code",
   "execution_count": null,
   "metadata": {},
   "outputs": [],
   "source": [
    "X[:, 1]"
   ]
  },
  {
   "cell_type": "code",
   "execution_count": null,
   "metadata": {},
   "outputs": [],
   "source": [
    "X[:, 2]"
   ]
  },
  {
   "cell_type": "markdown",
   "metadata": {},
   "source": [
    "### 笛卡爾座標系統(Cartesian coordinate system)\n",
    "\n",
    "現在想像你興沖沖地跑去見指導教授，迫不及待地獻上你剛搜集到的熱騰騰數據 X。教授僅看了一眼便道：\n",
    "\n",
    "- 兩個特徵有點多，你能不能想辦法只用一個特徵來表示這些樣本的特性？\n",
    "\n",
    "你連忙點頭稱是，接著便離開教授的辦公室。回到螢幕前，你盯著 X 裡頭的這些數字 #越想越不對勁。到底要怎樣才能把這些 2 維向量 x 各自用一個新的數值表示，同時又能保持這些樣本的特性不變呢？僅僅是將看似毫無章法的數據 X 描繪在這個座標系統上面，我們就能透過與生俱來的幾何直覺預測兩特徵 f1 與 f2 之間存在著某種程度的線性關係。這是幾何觀點上的一大勝利。這個發現讓我們離降維的目標近了許多。"
   ]
  },
  {
   "cell_type": "code",
   "execution_count": null,
   "metadata": {},
   "outputs": [],
   "source": [
    "import matplotlib.pyplot as plt\n",
    "\n",
    "plt.scatter(X[0], X[1])"
   ]
  },
  {
   "cell_type": "code",
   "execution_count": null,
   "metadata": {},
   "outputs": [],
   "source": [
    "import matplotlib.pyplot as plt\n",
    "\n",
    "plt.style.use(\"seaborn\")\n",
    "\n",
    "# 第一個參數為所有的 xs, 第二個參數為所有的 ys\n",
    "plt.scatter(X[0, :], X[1, :])\n",
    "plt.axis(\"equal\");"
   ]
  },
  {
   "cell_type": "markdown",
   "metadata": {},
   "source": [
    "向量投影到某低維子空間，事實上就是在線性地降低其維度。事實上這就是線性降維與 PCA 的核心精神：將原始數據拆解成更具代表性的主成分，並以其作為新的基準，重新描述數據。"
   ]
  },
  {
   "cell_type": "code",
   "execution_count": null,
   "metadata": {},
   "outputs": [],
   "source": [
    "# 該直線的單位向量（顯示到小數後第兩位）\n",
    "v = np.array([0.9691344, 0.246533])\n",
    "print(\"v       :\", v)  # shape: (2,)\n",
    "assert_almost_equal(1, np.linalg.norm(v))\n",
    "\n",
    "# 使用 v 建立投影矩陣 Ｐ1\n",
    "# 因為 P 是將 X 投影到 1 維，因此加個 1 在後面\n",
    "P1 = v[np.newaxis, :]  # shape: (1, 2)\n",
    "print(\"P1      :\", P1)\n",
    "\n",
    "# 利用 P1 將數據 X 投影到 v 所在子空間\n",
    "L = P1 @ X\n",
    "\n",
    "# 前 4 個樣本的新特徵 L 跟動畫內結果相同\n",
    "print(\"L[:, :4]:\", L[:, :4])"
   ]
  },
  {
   "cell_type": "markdown",
   "metadata": {},
   "source": [
    "跳脫你的慣性思維，x 軸並不一定得水平展開。只要你想，這世上的任何直線都能是你的 x 軸。任何向量都可以是你描述手中數據的新基準。PCA 是一種拆解並重新表述數據的技巧，只要你想這世上的任何直線都能是你的 x 軸。任何向量都可以是你描述手中數據的新基準。PCA 就是一種拆解並重新表述數據的技巧，"
   ]
  },
  {
   "cell_type": "code",
   "execution_count": null,
   "metadata": {},
   "outputs": [],
   "source": [
    "from sklearn.decomposition import PCA\n",
    "\n",
    "random_state = 9527  # 最大化 reproductivity\n",
    "\n",
    "pca_1d = PCA(1, random_state=random_state)\n",
    "L_sk = pca_1d.fit_transform(X.T).T\n",
    "\n",
    "print(\"L_sk.shape:\", L_sk.shape)\n",
    "print(\"L_sk:\", L_sk[:, :4])\n",
    "\n",
    "# sklearn API 得到的結果跟我們手動計算結果相同\n",
    "assert_almost_equal(L_sk, L)"
   ]
  },
  {
   "cell_type": "code",
   "execution_count": null,
   "metadata": {},
   "outputs": [],
   "source": [
    "\"\"\"\n",
    "多數 Python 機器學習函式庫的預期輸入都是 n_samples 優先。\n",
    "這是為何在呼叫 scikit-learn 時我先轉置 X 使其維度變為 (n_samples, n_features)，\n",
    "接著再將其結果轉置回我想要的 (n_transformed_features, n_samples)：\n",
    "\"\"\"\n",
    "L_sk = pca_1d.fit_transform(X.T).T\n",
    "data = X.T\n",
    "L_transpose = pca_1d.transform(data)\n",
    "assert_almost_equal(L.T, L_transpose)\n",
    "L"
   ]
  },
  {
   "cell_type": "markdown",
   "metadata": {},
   "source": [
    "## Project2"
   ]
  },
  {
   "cell_type": "code",
   "execution_count": null,
   "metadata": {},
   "outputs": [],
   "source": [
    "import matplotlib.pyplot as plt\n",
    "import numpy as np\n",
    "import pandas as pd\n",
    "import seaborn as sns\n",
    "\n",
    "data = pd.read_excel(\"input/insurance.xlsx\")\n",
    "data.head()  # data.shape #data.info()"
   ]
  },
  {
   "cell_type": "code",
   "execution_count": null,
   "metadata": {},
   "outputs": [],
   "source": [
    "# Label Encode Object Types\n",
    "d_types = dict(data.dtypes)\n",
    "for name, type_ in d_types.items():\n",
    "    if str(type_) == \"object\":\n",
    "        print(f\"<======== {name} ===========>\")\n",
    "        print(data[name].value_counts())"
   ]
  },
  {
   "cell_type": "code",
   "execution_count": null,
   "metadata": {},
   "outputs": [],
   "source": [
    "from sklearn.preprocessing import LabelEncoder\n",
    "\n",
    "for name, type_ in d_types.items():\n",
    "    if str(type_) == \"object\":\n",
    "        Le = LabelEncoder()\n",
    "        data[name] = Le.fit_transform(data[name])"
   ]
  },
  {
   "cell_type": "code",
   "execution_count": null,
   "metadata": {},
   "outputs": [],
   "source": [
    "from sklearn.preprocessing import OneHotEncoder\n",
    "\n",
    "onehotencoder = OneHotEncoder()\n",
    "part = onehotencoder.fit_transform(data[\"region\"].values.reshape(-1, 1)).toarray()\n",
    "values = dict(data[\"region\"].value_counts())\n",
    "\n",
    "for e, (val, _) in enumerate(values.items()):\n",
    "    data[\"region_\" + str(val)] = part[:, e]\n",
    "\n",
    "data = data.drop([\"region\"], axis=1)\n",
    "data.head()"
   ]
  },
  {
   "cell_type": "code",
   "execution_count": null,
   "metadata": {},
   "outputs": [],
   "source": [
    "remaining_columns = list(data.columns)\n",
    "remaining_columns.remove(\"expenses\")\n",
    "\n",
    "X = data[remaining_columns].values\n",
    "Y = data[\"expenses\"].values\n",
    "\n",
    "from sklearn.model_selection import train_test_split\n",
    "\n",
    "Xtrain, Xtest, Ytrain, Ytest = train_test_split(X, Y, test_size=0.2, random_state=4)\n",
    "\n",
    "from sklearn.preprocessing import StandardScaler\n",
    "\n",
    "Scaler = StandardScaler()\n",
    "Xtrain = Scaler.fit_transform(Xtrain)\n",
    "Xtest = Scaler.transform(Xtest)"
   ]
  },
  {
   "cell_type": "markdown",
   "metadata": {},
   "source": [
    "### standardized (mean should be 1)"
   ]
  },
  {
   "cell_type": "code",
   "execution_count": null,
   "metadata": {},
   "outputs": [],
   "source": [
    "means = []\n",
    "\n",
    "plt.ylim(-1, 1)\n",
    "for i in range(X.shape[1]):\n",
    "    means.append(np.mean(Xtest[:, i]))\n",
    "\n",
    "plt.plot(means, scaley=False)"
   ]
  },
  {
   "cell_type": "code",
   "execution_count": null,
   "metadata": {},
   "outputs": [],
   "source": [
    "vars = []\n",
    "\n",
    "plt.ylim(0, 2)\n",
    "for i in range(X.shape[1]):\n",
    "    vars.append(np.var(Xtest[:, i]))\n",
    "\n",
    "plt.plot(vars)"
   ]
  },
  {
   "cell_type": "markdown",
   "metadata": {},
   "source": [
    "###  LinearRegression\n",
    "### 普通線性回歸\n",
    "\n",
    "-  model.coef_ # 可查看係數\n",
    "-  model.intercept_ # 可查看截距值"
   ]
  },
  {
   "cell_type": "code",
   "execution_count": null,
   "metadata": {},
   "outputs": [],
   "source": [
    "from sklearn.linear_model import LinearRegression\n",
    "\n",
    "model = LinearRegression()\n",
    "model.fit(Xtrain, Ytrain)"
   ]
  },
  {
   "cell_type": "code",
   "execution_count": null,
   "metadata": {},
   "outputs": [],
   "source": [
    "# Y = W.X + c\n",
    "model.coef_.dot(Xtest[10, :]) + model.intercept_"
   ]
  },
  {
   "cell_type": "code",
   "execution_count": null,
   "metadata": {
    "scrolled": true
   },
   "outputs": [],
   "source": [
    "model.predict(Xtest[10, :].reshape(1, -1))"
   ]
  },
  {
   "cell_type": "code",
   "execution_count": null,
   "metadata": {},
   "outputs": [],
   "source": [
    "# rfecv.support_  #保留排名\n",
    "# rfecv.ranking_  #重要度排名\n",
    "# model.coef_ # 可查看係數\n",
    "# model.intercept_ # 可查看截距值"
   ]
  },
  {
   "cell_type": "markdown",
   "metadata": {},
   "source": [
    "### Recursive Feature Elimination (RFECV) \n",
    "### 遞歸特徵消除：特徵擷取\n",
    "\n",
    "通過交叉驗證來找到最優的特徵數量。如果減少特徵會造成性能損失，那麼將不會去除任何特徵。這個方法用以選取單模型特徵相當不錯，但是有兩個缺陷，一，計算量大。二，隨著學習器（評估器）的改變，最佳特徵組合也會改變，有些時候會造成不利影響。\n",
    "\n",
    "- 對要訓練的機器學習算法進行建模\n",
    "- 確定在一次迭代中要消除的特徵數量。\n",
    "- 由於 RFECV 是遞歸迭代的，我們需要強行停止它。"
   ]
  },
  {
   "cell_type": "code",
   "execution_count": null,
   "metadata": {},
   "outputs": [],
   "source": [
    "from sklearn.feature_selection import RFECV\n",
    "from sklearn.linear_model import LinearRegression\n",
    "\n",
    "# 特徵選取\n",
    "model = LinearRegression()\n",
    "rfecv = RFECV(model, step=1, min_features_to_select=4, n_jobs=-1)  # 每次去除特徵數  #最小特徵數\n",
    "rfecv.fit(Xtrain, Ytrain)\n",
    "model.fit(Xtrain, Ytrain)"
   ]
  },
  {
   "cell_type": "code",
   "execution_count": null,
   "metadata": {},
   "outputs": [],
   "source": [
    "selected_features = np.where(rfecv.support_)[0]\n",
    "selected_features\n",
    "\n",
    "Xtrain = Xtrain[:, selected_features]\n",
    "Xtrain\n",
    "# Xtest = Xtest[:,selected_features]"
   ]
  },
  {
   "cell_type": "code",
   "execution_count": null,
   "metadata": {},
   "outputs": [],
   "source": [
    "# Y = W.X + c\n",
    "model.coef_.dot(Xtest[10, :]) + model.intercept_"
   ]
  },
  {
   "cell_type": "code",
   "execution_count": null,
   "metadata": {},
   "outputs": [],
   "source": [
    "model.predict(Xtest[10, :].reshape(1, -1))"
   ]
  },
  {
   "cell_type": "code",
   "execution_count": null,
   "metadata": {},
   "outputs": [],
   "source": []
  },
  {
   "cell_type": "markdown",
   "metadata": {},
   "source": [
    "### Apparent Temperature Prediction"
   ]
  },
  {
   "cell_type": "code",
   "execution_count": null,
   "metadata": {
    "executionInfo": {
     "elapsed": 1198,
     "status": "ok",
     "timestamp": 1611004852756,
     "user": {
      "displayName": "Dhruv Chadha",
      "photoUrl": "",
      "userId": "14962908375780794970"
     },
     "user_tz": -330
    },
    "id": "anhTOqB0Isxy"
   },
   "outputs": [],
   "source": [
    "import datetime as dt\n",
    "\n",
    "import matplotlib.pyplot as plt\n",
    "import numpy as np\n",
    "import pandas as pd\n",
    "import seaborn as sns\n",
    "from sklearn import datasets, linear_model\n",
    "from sklearn.metrics import mean_squared_error, r2_score\n",
    "\n",
    "data = pd.read_csv(\"input/weather_data.csv\")\n",
    "data.head()"
   ]
  },
  {
   "cell_type": "code",
   "execution_count": null,
   "metadata": {
    "colab": {
     "base_uri": "https://localhost:8080/",
     "height": 457
    },
    "executionInfo": {
     "elapsed": 1236,
     "status": "ok",
     "timestamp": 1611004853894,
     "user": {
      "displayName": "Dhruv Chadha",
      "photoUrl": "",
      "userId": "14962908375780794970"
     },
     "user_tz": -330
    },
    "id": "gVoLlWtJIsym",
    "outputId": "929fcd03-05ca-4788-9cb9-2e35925c114e"
   },
   "outputs": [],
   "source": [
    "data.describe(include=\"all\")"
   ]
  },
  {
   "cell_type": "markdown",
   "metadata": {
    "id": "y-OSCJWvIsyn"
   },
   "source": [
    "## DATA CLEANING"
   ]
  },
  {
   "cell_type": "code",
   "execution_count": null,
   "metadata": {
    "executionInfo": {
     "elapsed": 1289,
     "status": "ok",
     "timestamp": 1611004854509,
     "user": {
      "displayName": "Dhruv Chadha",
      "photoUrl": "",
      "userId": "14962908375780794970"
     },
     "user_tz": -330
    },
    "id": "TAfMCkOmIsyp"
   },
   "outputs": [],
   "source": [
    "cols = [\n",
    "    \"Summary\",\n",
    "    \"Precip Type\",\n",
    "    \"Daily Summary\",\n",
    "    \"Wind Bearing (degrees)\",\n",
    "    \"Visibility (km)\",\n",
    "    \"Loud Cover\",\n",
    "]\n",
    "data = data.drop(cols, axis=1)"
   ]
  },
  {
   "cell_type": "code",
   "execution_count": null,
   "metadata": {
    "colab": {
     "base_uri": "https://localhost:8080/"
    },
    "executionInfo": {
     "elapsed": 1609,
     "status": "ok",
     "timestamp": 1611004855079,
     "user": {
      "displayName": "Dhruv Chadha",
      "photoUrl": "",
      "userId": "14962908375780794970"
     },
     "user_tz": -330
    },
    "id": "Y7s9H18bIsyq",
    "outputId": "933b591c-28a7-452c-bd54-6d80e1b2f7d7"
   },
   "outputs": [],
   "source": [
    "# Converting Formatted Date from Object to DateTimeObject.\n",
    "data[\"Formatted Date\"] = pd.to_datetime(data[\"Formatted Date\"])\n",
    "data.info()"
   ]
  },
  {
   "cell_type": "code",
   "execution_count": null,
   "metadata": {
    "executionInfo": {
     "elapsed": 2082,
     "status": "ok",
     "timestamp": 1611004855678,
     "user": {
      "displayName": "Dhruv Chadha",
      "photoUrl": "",
      "userId": "14962908375780794970"
     },
     "user_tz": -330
    },
    "id": "4A_gVI4kIsyr"
   },
   "outputs": [],
   "source": [
    "# Indexing according to date and time and Setting Index.\n",
    "idata = data.sort_values(by=[\"Formatted Date\"])\n",
    "idata = idata.set_index(\"Formatted Date\")\n",
    "idata.index"
   ]
  },
  {
   "cell_type": "code",
   "execution_count": null,
   "metadata": {
    "colab": {
     "base_uri": "https://localhost:8080/"
    },
    "executionInfo": {
     "elapsed": 1640,
     "status": "ok",
     "timestamp": 1611004855679,
     "user": {
      "displayName": "Dhruv Chadha",
      "photoUrl": "",
      "userId": "14962908375780794970"
     },
     "user_tz": -330
    },
    "id": "rDZFtFMEIsys",
    "outputId": "4bac1f9b-9b33-4d5f-b549-32888bf60743"
   },
   "outputs": [],
   "source": [
    "# removing duplicate values in the index\n",
    "idata.index.drop_duplicates(keep=\"first\")"
   ]
  },
  {
   "cell_type": "markdown",
   "metadata": {
    "id": "pcCIyxR2Isyv"
   },
   "source": [
    "## EXPLORATORY DATA ANALYSIS"
   ]
  },
  {
   "cell_type": "code",
   "execution_count": null,
   "metadata": {
    "colab": {
     "base_uri": "https://localhost:8080/",
     "height": 225
    },
    "executionInfo": {
     "elapsed": 1503,
     "status": "ok",
     "timestamp": 1611004855680,
     "user": {
      "displayName": "Dhruv Chadha",
      "photoUrl": "",
      "userId": "14962908375780794970"
     },
     "user_tz": -330
    },
    "id": "zKdefOh2Isyt",
    "outputId": "f7de92ce-1555-4d51-fedc-7dbb8ef46621"
   },
   "outputs": [],
   "source": [
    "# data after cleaning\n",
    "idata.dropna()\n",
    "idata.head()\n",
    "idata.plot(y=\"Temperature (C)\", figsize=(20, 10))"
   ]
  },
  {
   "cell_type": "code",
   "execution_count": null,
   "metadata": {
    "colab": {
     "base_uri": "https://localhost:8080/",
     "height": 225
    },
    "executionInfo": {
     "elapsed": 2647,
     "status": "ok",
     "timestamp": 1611004857624,
     "user": {
      "displayName": "Dhruv Chadha",
      "photoUrl": "",
      "userId": "14962908375780794970"
     },
     "user_tz": -330
    },
    "id": "yi363hnMIsyw",
    "outputId": "6874502e-1f74-4d16-e1d9-8895bd78b651"
   },
   "outputs": [],
   "source": [
    "# resampling the data into day format\n",
    "idata.index = pd.to_datetime(idata.index, utc=True)\n",
    "idata2 = idata.resample(rule=\"D\").mean()\n",
    "idata2.head()\n",
    "idata2.plot(y=\"Temperature (C)\", figsize=(20, 10))"
   ]
  },
  {
   "cell_type": "code",
   "execution_count": null,
   "metadata": {
    "colab": {
     "base_uri": "https://localhost:8080/",
     "height": 431
    },
    "executionInfo": {
     "elapsed": 3971,
     "status": "ok",
     "timestamp": 1611004859364,
     "user": {
      "displayName": "Dhruv Chadha",
      "photoUrl": "",
      "userId": "14962908375780794970"
     },
     "user_tz": -330
    },
    "id": "EpMyiwv_Isyx",
    "outputId": "1d68031d-0b79-47f7-9ffa-cbb97f3d3bef"
   },
   "outputs": [],
   "source": [
    "# extracting data from the month of January\n",
    "jan2006 = idata[\"2006-01-01\":\"2006-01-31\"]\n",
    "jan2006.head()\n",
    "jan2006.plot(\n",
    "    y=[\"Apparent Temperature (C)\", \"Temperature (C)\"], kind=\"line\", figsize=(20, 10)\n",
    ")"
   ]
  },
  {
   "cell_type": "code",
   "execution_count": null,
   "metadata": {
    "colab": {
     "base_uri": "https://localhost:8080/",
     "height": 225
    },
    "executionInfo": {
     "elapsed": 3631,
     "status": "ok",
     "timestamp": 1611004859373,
     "user": {
      "displayName": "Dhruv Chadha",
      "photoUrl": "",
      "userId": "14962908375780794970"
     },
     "user_tz": -330
    },
    "id": "Uvo7_fXDIsyz",
    "outputId": "c278ef13-af2b-46c1-be52-f6337804cae9"
   },
   "outputs": [],
   "source": [
    "# resampling\n",
    "JAN = jan2006.resample(rule=\"D\").mean()\n",
    "JAN.head()\n",
    "JAN.plot(\n",
    "    y=[\"Apparent Temperature (C)\", \"Temperature (C)\"], kind=\"line\", figsize=(20, 10)\n",
    ")"
   ]
  },
  {
   "cell_type": "code",
   "execution_count": null,
   "metadata": {
    "executionInfo": {
     "elapsed": 3183,
     "status": "ok",
     "timestamp": 1611004859375,
     "user": {
      "displayName": "Dhruv Chadha",
      "photoUrl": "",
      "userId": "14962908375780794970"
     },
     "user_tz": -330
    },
    "id": "eqTwxvJTIsy0"
   },
   "outputs": [],
   "source": [
    "winter = idata2[\"2006-01-01\":\"2006-02-28\"]\n",
    "winter2 = idata2[\"2006-12-01\":\"2006-12-31\"]\n",
    "spring = idata2[\"2006-03-01\":\"2006-05-31\"]\n",
    "summer = idata2[\"2006-06-01\":\"2006-08-31\"]\n",
    "winter.plot(y=[\"Temperature (C)\", \"Apparent Temperature (C)\"], figsize=(20, 10))\n",
    "winter2.plot(y=[\"Temperature (C)\", \"Apparent Temperature (C)\"], figsize=(20, 10))"
   ]
  },
  {
   "cell_type": "code",
   "execution_count": null,
   "metadata": {
    "colab": {
     "base_uri": "https://localhost:8080/",
     "height": 614
    },
    "executionInfo": {
     "elapsed": 4679,
     "status": "ok",
     "timestamp": 1611004861204,
     "user": {
      "displayName": "Dhruv Chadha",
      "photoUrl": "",
      "userId": "14962908375780794970"
     },
     "user_tz": -330
    },
    "id": "XjPFpIa9Isy1",
    "outputId": "427dc397-3968-40ca-d48c-11aa45b21118"
   },
   "outputs": [],
   "source": [
    "spring.plot(y=[\"Temperature (C)\", \"Apparent Temperature (C)\"], figsize=(20, 10))"
   ]
  },
  {
   "cell_type": "code",
   "execution_count": null,
   "metadata": {
    "colab": {
     "base_uri": "https://localhost:8080/",
     "height": 610
    },
    "executionInfo": {
     "elapsed": 4502,
     "status": "ok",
     "timestamp": 1611004861205,
     "user": {
      "displayName": "Dhruv Chadha",
      "photoUrl": "",
      "userId": "14962908375780794970"
     },
     "user_tz": -330
    },
    "id": "wx1iMJJsIsy2",
    "outputId": "396ba871-d1aa-49f3-ec22-22fb07dafdd2"
   },
   "outputs": [],
   "source": [
    "summer.plot(y=[\"Temperature (C)\", \"Apparent Temperature (C)\"], figsize=(20, 10))"
   ]
  },
  {
   "cell_type": "markdown",
   "metadata": {
    "id": "kXRRR2fZIsy3"
   },
   "source": [
    "## Correlation in data"
   ]
  },
  {
   "cell_type": "code",
   "execution_count": null,
   "metadata": {
    "colab": {
     "base_uri": "https://localhost:8080/",
     "height": 195
    },
    "executionInfo": {
     "elapsed": 4086,
     "status": "ok",
     "timestamp": 1611004861205,
     "user": {
      "displayName": "Dhruv Chadha",
      "photoUrl": "",
      "userId": "14962908375780794970"
     },
     "user_tz": -330
    },
    "id": "f2W4QBltIsy3",
    "outputId": "f279a57c-68cd-4de5-b907-d6810a0df853"
   },
   "outputs": [],
   "source": [
    "# checking correlation between the cols\n",
    "data.corr()"
   ]
  },
  {
   "cell_type": "code",
   "execution_count": null,
   "metadata": {
    "colab": {
     "base_uri": "https://localhost:8080/",
     "height": 715
    },
    "executionInfo": {
     "elapsed": 3885,
     "status": "ok",
     "timestamp": 1611004861206,
     "user": {
      "displayName": "Dhruv Chadha",
      "photoUrl": "",
      "userId": "14962908375780794970"
     },
     "user_tz": -330
    },
    "id": "E_cEHpDPIsy4",
    "outputId": "920fa199-ffa1-423e-80f2-4e2335915105"
   },
   "outputs": [],
   "source": [
    "# plotting the correlation\n",
    "plt.figure(figsize=(10, 10))\n",
    "sns.heatmap(data.corr(), annot=True)\n",
    "plt.show()"
   ]
  },
  {
   "cell_type": "markdown",
   "metadata": {
    "id": "av3FXdosIsy5"
   },
   "source": [
    "## Data Visualization"
   ]
  },
  {
   "cell_type": "code",
   "execution_count": null,
   "metadata": {
    "colab": {
     "base_uri": "https://localhost:8080/",
     "height": 511
    },
    "executionInfo": {
     "elapsed": 4107,
     "status": "ok",
     "timestamp": 1611004861864,
     "user": {
      "displayName": "Dhruv Chadha",
      "photoUrl": "",
      "userId": "14962908375780794970"
     },
     "user_tz": -330
    },
    "id": "wFds4IpjIsy5",
    "outputId": "41bc6912-fa92-47fb-fcd6-1ce1b9fc6ae2"
   },
   "outputs": [],
   "source": [
    "sns.jointplot(\"Temperature (C)\", \"Apparent Temperature (C)\", kind=\"reg\", data=data)"
   ]
  },
  {
   "cell_type": "code",
   "execution_count": null,
   "metadata": {
    "colab": {
     "base_uri": "https://localhost:8080/",
     "height": 458
    },
    "executionInfo": {
     "elapsed": 5010,
     "status": "ok",
     "timestamp": 1611004862925,
     "user": {
      "displayName": "Dhruv Chadha",
      "photoUrl": "",
      "userId": "14962908375780794970"
     },
     "user_tz": -330
    },
    "id": "wdUBRrwiIsy6",
    "outputId": "40dcfca4-7aa2-4766-de02-1e09b92e67f8"
   },
   "outputs": [],
   "source": [
    "sns.jointplot(kind=\"reg\", y=data[\"Humidity\"], x=data[\"Temperature (C)\"])"
   ]
  },
  {
   "cell_type": "code",
   "execution_count": null,
   "metadata": {
    "colab": {
     "base_uri": "https://localhost:8080/",
     "height": 458
    },
    "executionInfo": {
     "elapsed": 10041,
     "status": "ok",
     "timestamp": 1611004868192,
     "user": {
      "displayName": "Dhruv Chadha",
      "photoUrl": "",
      "userId": "14962908375780794970"
     },
     "user_tz": -330
    },
    "id": "H0gfxBsRIsy7",
    "outputId": "e3e0a16f-0234-432b-c0c9-929935cb49c9"
   },
   "outputs": [],
   "source": [
    "sns.jointplot(kind=\"reg\", y=data[\"Pressure (millibars)\"], x=data[\"Temperature (C)\"])"
   ]
  },
  {
   "cell_type": "code",
   "execution_count": null,
   "metadata": {
    "colab": {
     "base_uri": "https://localhost:8080/",
     "height": 511
    },
    "executionInfo": {
     "elapsed": 10680,
     "status": "ok",
     "timestamp": 1611004869022,
     "user": {
      "displayName": "Dhruv Chadha",
      "photoUrl": "",
      "userId": "14962908375780794970"
     },
     "user_tz": -330
    },
    "id": "wWCt1UihIsy7",
    "outputId": "4ddfceba-f31d-494f-b71a-c5d3b17c8a7d"
   },
   "outputs": [],
   "source": [
    "sns.jointplot(\"Apparent Temperature (C)\", \"Pressure (millibars)\", kind=\"reg\", data=data)"
   ]
  },
  {
   "cell_type": "code",
   "execution_count": null,
   "metadata": {
    "colab": {
     "base_uri": "https://localhost:8080/",
     "height": 458
    },
    "executionInfo": {
     "elapsed": 12559,
     "status": "ok",
     "timestamp": 1611004871113,
     "user": {
      "displayName": "Dhruv Chadha",
      "photoUrl": "",
      "userId": "14962908375780794970"
     },
     "user_tz": -330
    },
    "id": "haafHGSpIsy8",
    "outputId": "0bf9f3c5-ccb7-4cda-d0ce-489a2d43396c"
   },
   "outputs": [],
   "source": [
    "sns.jointplot(kind=\"reg\", y=data[\"Wind Speed (km/h)\"], x=data[\"Temperature (C)\"])"
   ]
  },
  {
   "cell_type": "code",
   "execution_count": null,
   "metadata": {
    "colab": {
     "base_uri": "https://localhost:8080/",
     "height": 511
    },
    "executionInfo": {
     "elapsed": 13949,
     "status": "ok",
     "timestamp": 1611004872769,
     "user": {
      "displayName": "Dhruv Chadha",
      "photoUrl": "",
      "userId": "14962908375780794970"
     },
     "user_tz": -330
    },
    "id": "frZYjE45Isy8",
    "outputId": "efe89b64-a22f-4eeb-9625-ae7a36445a65"
   },
   "outputs": [],
   "source": [
    "sns.jointplot(\"Apparent Temperature (C)\", \"Wind Speed (km/h)\", kind=\"reg\", data=data)"
   ]
  },
  {
   "cell_type": "code",
   "execution_count": null,
   "metadata": {
    "colab": {
     "base_uri": "https://localhost:8080/",
     "height": 511
    },
    "executionInfo": {
     "elapsed": 15035,
     "status": "ok",
     "timestamp": 1611004874023,
     "user": {
      "displayName": "Dhruv Chadha",
      "photoUrl": "",
      "userId": "14962908375780794970"
     },
     "user_tz": -330
    },
    "id": "WHuWWXsMIsy9",
    "outputId": "25cb676e-0bf9-42ec-aa86-9c9899fb19e2"
   },
   "outputs": [],
   "source": [
    "sns.jointplot(\"Apparent Temperature (C)\", \"Humidity\", kind=\"reg\", data=data)"
   ]
  },
  {
   "cell_type": "code",
   "execution_count": null,
   "metadata": {
    "colab": {
     "base_uri": "https://localhost:8080/",
     "height": 458
    },
    "executionInfo": {
     "elapsed": 17186,
     "status": "ok",
     "timestamp": 1611004876344,
     "user": {
      "displayName": "Dhruv Chadha",
      "photoUrl": "",
      "userId": "14962908375780794970"
     },
     "user_tz": -330
    },
    "id": "R-F0gfjWIsy9",
    "outputId": "68e56939-08cc-49bf-a85d-afdfafd38cd3"
   },
   "outputs": [],
   "source": [
    "sns.jointplot(kind=\"hex\", y=data[\"Humidity\"], x=data[\"Pressure (millibars)\"])"
   ]
  },
  {
   "cell_type": "code",
   "execution_count": null,
   "metadata": {
    "colab": {
     "base_uri": "https://localhost:8080/",
     "height": 458
    },
    "executionInfo": {
     "elapsed": 18099,
     "status": "ok",
     "timestamp": 1611004877620,
     "user": {
      "displayName": "Dhruv Chadha",
      "photoUrl": "",
      "userId": "14962908375780794970"
     },
     "user_tz": -330
    },
    "id": "xXv8ppOlIsy-",
    "outputId": "e752cd16-3fb2-488c-8a97-3827f1cdefb9"
   },
   "outputs": [],
   "source": [
    "sns.jointplot(kind=\"hex\", y=data[\"Humidity\"], x=data[\"Temperature (C)\"])"
   ]
  },
  {
   "cell_type": "code",
   "execution_count": null,
   "metadata": {
    "colab": {
     "base_uri": "https://localhost:8080/",
     "height": 458
    },
    "executionInfo": {
     "elapsed": 18380,
     "status": "ok",
     "timestamp": 1611004878036,
     "user": {
      "displayName": "Dhruv Chadha",
      "photoUrl": "",
      "userId": "14962908375780794970"
     },
     "user_tz": -330
    },
    "id": "QI2uLhhCIsy-",
    "outputId": "f8f3c812-af81-49d3-b1b1-6b3ba4fd177d"
   },
   "outputs": [],
   "source": [
    "sns.jointplot(kind=\"hex\", y=data[\"Humidity\"], x=data[\"Apparent Temperature (C)\"])"
   ]
  },
  {
   "cell_type": "code",
   "execution_count": null,
   "metadata": {
    "colab": {
     "base_uri": "https://localhost:8080/",
     "height": 920
    },
    "executionInfo": {
     "elapsed": 31038,
     "status": "ok",
     "timestamp": 1611004890828,
     "user": {
      "displayName": "Dhruv Chadha",
      "photoUrl": "",
      "userId": "14962908375780794970"
     },
     "user_tz": -330
    },
    "id": "qkM0sz6pIsy_",
    "outputId": "92a1c2ff-0fb9-4f28-d57f-71e5d32cef24"
   },
   "outputs": [],
   "source": [
    "plt.figure(figsize=(20, 20))\n",
    "sns.pairplot(data)\n",
    "plt.show()"
   ]
  },
  {
   "cell_type": "code",
   "execution_count": null,
   "metadata": {
    "colab": {
     "base_uri": "https://localhost:8080/",
     "height": 431
    },
    "executionInfo": {
     "elapsed": 30803,
     "status": "ok",
     "timestamp": 1611004890829,
     "user": {
      "displayName": "Dhruv Chadha",
      "photoUrl": "",
      "userId": "14962908375780794970"
     },
     "user_tz": -330
    },
    "id": "dQlEAWIAIsy_",
    "outputId": "c38d8bc3-980d-4cca-d348-6410171503a7"
   },
   "outputs": [],
   "source": [
    "X = idata[\"2006-01-01\":\"2006-07-20\"]  # taking 70% of the data for training\n",
    "X1 = idata[\"2006-07-21\":\"2006-12-31\"]  # 30% of data for testing"
   ]
  },
  {
   "cell_type": "code",
   "execution_count": null,
   "metadata": {
    "colab": {
     "base_uri": "https://localhost:8080/"
    },
    "executionInfo": {
     "elapsed": 29927,
     "status": "ok",
     "timestamp": 1611004890830,
     "user": {
      "displayName": "Dhruv Chadha",
      "photoUrl": "",
      "userId": "14962908375780794970"
     },
     "user_tz": -330
    },
    "id": "CQIlHye8IszA",
    "outputId": "506affc2-e50b-4e13-a3a9-8b6a6fc3a5e7"
   },
   "outputs": [],
   "source": [
    "# taking cols for training the model\n",
    "X_train = X[\n",
    "    [\"Temperature (C)\", \"Humidity\", \"Wind Speed (km/h)\", \"Pressure (millibars)\"]\n",
    "]\n",
    "Y_train = X[\"Apparent Temperature (C)\"]\n",
    "Y_train"
   ]
  },
  {
   "cell_type": "code",
   "execution_count": null,
   "metadata": {
    "colab": {
     "base_uri": "https://localhost:8080/"
    },
    "executionInfo": {
     "elapsed": 29476,
     "status": "ok",
     "timestamp": 1611004890835,
     "user": {
      "displayName": "Dhruv Chadha",
      "photoUrl": "",
      "userId": "14962908375780794970"
     },
     "user_tz": -330
    },
    "id": "lx2yNtgyIszB",
    "outputId": "d7a52b33-4f29-496c-832a-0a5e5a5bc35d"
   },
   "outputs": [],
   "source": [
    "regr = linear_model.LinearRegression()\n",
    "\n",
    "# Train the model using the training sets\n",
    "regr.fit(X_train, Y_train)"
   ]
  },
  {
   "cell_type": "code",
   "execution_count": null,
   "metadata": {
    "colab": {
     "base_uri": "https://localhost:8080/",
     "height": 431
    },
    "executionInfo": {
     "elapsed": 29867,
     "status": "ok",
     "timestamp": 1611004891393,
     "user": {
      "displayName": "Dhruv Chadha",
      "photoUrl": "",
      "userId": "14962908375780794970"
     },
     "user_tz": -330
    },
    "id": "LEnLChBCIszB",
    "outputId": "6f804729-f967-43ec-c733-a0b730e7daf4"
   },
   "outputs": [],
   "source": [
    "# taking cols for testing\n",
    "X_test = X1[\n",
    "    [\"Temperature (C)\", \"Humidity\", \"Wind Speed (km/h)\", \"Pressure (millibars)\"]\n",
    "]\n",
    "X_test.head()"
   ]
  },
  {
   "cell_type": "code",
   "execution_count": null,
   "metadata": {
    "colab": {
     "base_uri": "https://localhost:8080/"
    },
    "executionInfo": {
     "elapsed": 29651,
     "status": "ok",
     "timestamp": 1611004891394,
     "user": {
      "displayName": "Dhruv Chadha",
      "photoUrl": "",
      "userId": "14962908375780794970"
     },
     "user_tz": -330
    },
    "id": "Y864hXCKIszC",
    "outputId": "02043484-8118-4d68-d0ee-019b7a8d0f39"
   },
   "outputs": [],
   "source": [
    "Y_test = X1[\"Apparent Temperature (C)\"]\n",
    "Y_test.head()"
   ]
  },
  {
   "cell_type": "code",
   "execution_count": null,
   "metadata": {
    "executionInfo": {
     "elapsed": 29458,
     "status": "ok",
     "timestamp": 1611004891394,
     "user": {
      "displayName": "Dhruv Chadha",
      "photoUrl": "",
      "userId": "14962908375780794970"
     },
     "user_tz": -330
    },
    "id": "qfxYFc44IszC"
   },
   "outputs": [],
   "source": [
    "# predicting the Apparent Temperature\n",
    "y_pred = regr.predict(X_test)\n",
    "regr.score(X_test, Y_test)"
   ]
  },
  {
   "cell_type": "markdown",
   "metadata": {
    "id": "RIOkXd0cIszD"
   },
   "source": [
    "### Showing the Actual Apparent Temperature and the predicted Apparent Temperature "
   ]
  },
  {
   "cell_type": "code",
   "execution_count": null,
   "metadata": {
    "colab": {
     "base_uri": "https://localhost:8080/",
     "height": 431
    },
    "executionInfo": {
     "elapsed": 28827,
     "status": "ok",
     "timestamp": 1611004891395,
     "user": {
      "displayName": "Dhruv Chadha",
      "photoUrl": "",
      "userId": "14962908375780794970"
     },
     "user_tz": -330
    },
    "id": "dBmgkjSjIszD",
    "outputId": "cf0f455a-f672-4a31-8e46-68f33da2498f"
   },
   "outputs": [],
   "source": [
    "df = pd.DataFrame({\"Actual\": Y_test, \"Predicted\": y_pred})\n",
    "df.head()"
   ]
  },
  {
   "cell_type": "markdown",
   "metadata": {
    "id": "kCbbqrB5IszE"
   },
   "source": [
    "### Calculating the error in prediction "
   ]
  },
  {
   "cell_type": "code",
   "execution_count": null,
   "metadata": {
    "colab": {
     "base_uri": "https://localhost:8080/"
    },
    "executionInfo": {
     "elapsed": 28326,
     "status": "ok",
     "timestamp": 1611004891395,
     "user": {
      "displayName": "Dhruv Chadha",
      "photoUrl": "",
      "userId": "14962908375780794970"
     },
     "user_tz": -330
    },
    "id": "p821_3f8IszE",
    "outputId": "a68fc2c5-d814-4787-9c20-602eb9a7bb24"
   },
   "outputs": [],
   "source": [
    "from sklearn import metrics\n",
    "\n",
    "print(\"Mean Absolute Error: \", metrics.mean_absolute_error(Y_test, y_pred))\n",
    "print(\"Mean Squared Error: \", metrics.mean_squared_error(Y_test, y_pred))\n",
    "print(\"Root Mean Squared Error: \", np.sqrt(metrics.mean_squared_error(Y_test, y_pred)))"
   ]
  },
  {
   "cell_type": "code",
   "execution_count": null,
   "metadata": {},
   "outputs": [],
   "source": []
  }
 ],
 "metadata": {
  "anaconda-cloud": {},
  "kernelspec": {
   "display_name": "Python 3 (ipykernel)",
   "language": "python",
   "name": "python3"
  },
  "language_info": {
   "codemirror_mode": {
    "name": "ipython",
    "version": 3
   },
   "file_extension": ".py",
   "mimetype": "text/x-python",
   "name": "python",
   "nbconvert_exporter": "python",
   "pygments_lexer": "ipython3",
   "version": "3.11.3"
  }
 },
 "nbformat": 4,
 "nbformat_minor": 4
}
