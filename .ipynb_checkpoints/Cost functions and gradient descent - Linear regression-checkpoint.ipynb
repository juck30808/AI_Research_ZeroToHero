{
 "cells": [
  {
   "cell_type": "markdown",
   "id": "2b2879c4",
   "metadata": {},
   "source": [
    "## Gradient Descent\n",
    "在線性回歸模型中觀察學習\n",
    "- Resource: https://towardsdatascience.com/machine-learning-fundamentals-via-linear-regression-41a5d11f5220"
   ]
  },
  {
   "cell_type": "markdown",
   "id": "d8bcccc3",
   "metadata": {},
   "source": [
    "在線性回歸模型中觀察學習，為了觀察線性回歸中的學習，我將設置參數 b0 和 b1，並使用模型從數據中學習這些參數。換句話說，我們知道X和y之間的關係，並且可以觀察模型通過響應成本的參數迭代校正來學習這種關係）。\n",
    "\n",
    "這裡我定義了偏差和斜率（分別等於 4 和 3.5）。我還向X添加了一列 1 （為了啟用矩陣乘法）。我還向y添加了一些高斯噪聲以掩蓋真實參數——即產生純隨機的誤差。現在我們有一個包含兩個變量X和y 的數據框，它們似乎具有正線性趨勢（隨著X增加y值增加）。"
   ]
  },
  {
   "cell_type": "code",
   "execution_count": 8,
   "id": "870dffdc",
   "metadata": {},
   "outputs": [
    {
     "data": {
      "text/html": [
       "<div>\n",
       "<style scoped>\n",
       "    .dataframe tbody tr th:only-of-type {\n",
       "        vertical-align: middle;\n",
       "    }\n",
       "\n",
       "    .dataframe tbody tr th {\n",
       "        vertical-align: top;\n",
       "    }\n",
       "\n",
       "    .dataframe thead th {\n",
       "        text-align: right;\n",
       "    }\n",
       "</style>\n",
       "<table border=\"1\" class=\"dataframe\">\n",
       "  <thead>\n",
       "    <tr style=\"text-align: right;\">\n",
       "      <th></th>\n",
       "      <th>x</th>\n",
       "      <th>y</th>\n",
       "    </tr>\n",
       "  </thead>\n",
       "  <tbody>\n",
       "    <tr>\n",
       "      <th>0</th>\n",
       "      <td>-3.524743</td>\n",
       "      <td>-7.091222</td>\n",
       "    </tr>\n",
       "    <tr>\n",
       "      <th>1</th>\n",
       "      <td>-1.022056</td>\n",
       "      <td>-0.077487</td>\n",
       "    </tr>\n",
       "    <tr>\n",
       "      <th>2</th>\n",
       "      <td>2.984654</td>\n",
       "      <td>14.168466</td>\n",
       "    </tr>\n",
       "    <tr>\n",
       "      <th>3</th>\n",
       "      <td>4.682346</td>\n",
       "      <td>21.013518</td>\n",
       "    </tr>\n",
       "    <tr>\n",
       "      <th>4</th>\n",
       "      <td>1.916836</td>\n",
       "      <td>11.146316</td>\n",
       "    </tr>\n",
       "  </tbody>\n",
       "</table>\n",
       "</div>"
      ],
      "text/plain": [
       "          x          y\n",
       "0 -3.524743  -7.091222\n",
       "1 -1.022056  -0.077487\n",
       "2  2.984654  14.168466\n",
       "3  4.682346  21.013518\n",
       "4  1.916836  11.146316"
      ]
     },
     "execution_count": 8,
     "metadata": {},
     "output_type": "execute_result"
    }
   ],
   "source": [
    "import numpy as np\n",
    "import pandas as pd\n",
    "import matplotlib.pyplot as plt\n",
    "\n",
    "n = 200  # number of observations\n",
    "bias = 4\n",
    "slope = 3.5\n",
    "dot = np.dot\n",
    "\n",
    "x = np.random.normal(size=n) * 2\n",
    "x_b = np.column_stack((x, np.ones(n)))\n",
    "y = bias + slope * x + np.random.normal(size=n)\n",
    "df = pd.DataFrame({'x': x, 'y': y})\n",
    "\n",
    "learning_rate = 0.05\n",
    "n_iterations = 100\n",
    "theta = np.array([[20], [20]])\n",
    "\n",
    "b0 = np.zeros(n_iterations)\n",
    "b1 = np.zeros(n_iterations)\n",
    "sse_i = np.zeros(n_iterations)\n",
    "\n",
    "df.head()"
   ]
  },
  {
   "cell_type": "markdown",
   "id": "d3c420fa",
   "metadata": {},
   "source": [
    "這裡我定義了偏差和斜率（分別等於 4 和 3.5）。我還向X添加了一列 1 （為了啟用矩陣乘法）。我還向y添加了一些高斯噪聲以掩蓋真實參數——即產生純隨機的誤差。現在我們有一個包含兩個變量X和y 的數據框，它們似乎具有正線性趨勢（隨著X增加y值增加）。"
   ]
  },
  {
   "cell_type": "code",
   "execution_count": 11,
   "id": "66f86d4a",
   "metadata": {},
   "outputs": [
    {
     "data": {
      "text/plain": [
       "Text(0, 0.5, 'y')"
      ]
     },
     "execution_count": 11,
     "metadata": {},
     "output_type": "execute_result"
    },
    {
     "data": {
      "image/png": "[encoded data removed]",
      "text/plain": [
       "<Figure size 640x480 with 1 Axes>"
      ]
     },
     "metadata": {},
     "output_type": "display_data"
    }
   ],
   "source": [
    "%matplotlib inline\n",
    "plt.plot(df['x'],df['y'],'o')\n",
    "plt.xlabel(\"x\")\n",
    "plt.ylabel(\"y\")"
   ]
  },
  {
   "cell_type": "markdown",
   "id": "6cb1e092",
   "metadata": {},
   "source": [
    "接下來定義學習率(learning_rate)——它控制每個梯度所採取的步驟的大小。\n",
    "- 如果太大，模型可能會錯過函數的局部最小值。\n",
    "- 如果它太小，模型將需要很長時間才能收斂（複製代碼並親自嘗試一下！）。\n",
    "\n",
    "Theta 存儲參數 b0 和 b1，它們是用隨機值初始化的（我將它們都設置為 20，這與真實參數相差適當）。最後我創建了一些佔位符在模型的每次迭代中捕獲 b0、b1 和均方誤差 (MSE) 的值，這種情況下的 MSE 是成本函數。它只是預測 y 和實際 y 之間的平方差的平均值 （即殘差）\n",
    "\n",
    "現在，我們運行循環。在每次迭代中，模型將根據 theta 中的值預測 y，計算殘差，然後應用梯度下降來估計校正梯度，然後將使用這些梯度更新 theta 的值——這個過程重複 100 次。循環完成後，我創建了一個數據框來存儲學習到的參數和每次迭代的損失。"
   ]
  },
  {
   "cell_type": "code",
   "execution_count": 12,
   "id": "e79c6e0b",
   "metadata": {},
   "outputs": [
    {
     "data": {
      "text/html": [
       "<div>\n",
       "<style scoped>\n",
       "    .dataframe tbody tr th:only-of-type {\n",
       "        vertical-align: middle;\n",
       "    }\n",
       "\n",
       "    .dataframe tbody tr th {\n",
       "        vertical-align: top;\n",
       "    }\n",
       "\n",
       "    .dataframe thead th {\n",
       "        text-align: right;\n",
       "    }\n",
       "</style>\n",
       "<table border=\"1\" class=\"dataframe\">\n",
       "  <thead>\n",
       "    <tr style=\"text-align: right;\">\n",
       "      <th></th>\n",
       "      <th>model_iter</th>\n",
       "      <th>sse</th>\n",
       "      <th>b0</th>\n",
       "      <th>b1</th>\n",
       "    </tr>\n",
       "  </thead>\n",
       "  <tbody>\n",
       "    <tr>\n",
       "      <th>0</th>\n",
       "      <td>1</td>\n",
       "      <td>3.295555e+07</td>\n",
       "      <td>16.933594</td>\n",
       "      <td>11.185334</td>\n",
       "    </tr>\n",
       "    <tr>\n",
       "      <th>1</th>\n",
       "      <td>2</td>\n",
       "      <td>1.511883e+07</td>\n",
       "      <td>14.331296</td>\n",
       "      <td>6.097066</td>\n",
       "    </tr>\n",
       "    <tr>\n",
       "      <th>2</th>\n",
       "      <td>3</td>\n",
       "      <td>8.326394e+06</td>\n",
       "      <td>12.080125</td>\n",
       "      <td>3.174728</td>\n",
       "    </tr>\n",
       "    <tr>\n",
       "      <th>3</th>\n",
       "      <td>4</td>\n",
       "      <td>5.420318e+06</td>\n",
       "      <td>10.106276</td>\n",
       "      <td>1.509862</td>\n",
       "    </tr>\n",
       "    <tr>\n",
       "      <th>4</th>\n",
       "      <td>5</td>\n",
       "      <td>3.945955e+06</td>\n",
       "      <td>8.359554</td>\n",
       "      <td>0.573732</td>\n",
       "    </tr>\n",
       "    <tr>\n",
       "      <th>...</th>\n",
       "      <td>...</td>\n",
       "      <td>...</td>\n",
       "      <td>...</td>\n",
       "      <td>...</td>\n",
       "    </tr>\n",
       "    <tr>\n",
       "      <th>95</th>\n",
       "      <td>96</td>\n",
       "      <td>2.084654e-02</td>\n",
       "      <td>-7.090056</td>\n",
       "      <td>-0.000066</td>\n",
       "    </tr>\n",
       "    <tr>\n",
       "      <th>96</th>\n",
       "      <td>97</td>\n",
       "      <td>1.692343e-02</td>\n",
       "      <td>-7.090171</td>\n",
       "      <td>-0.000059</td>\n",
       "    </tr>\n",
       "    <tr>\n",
       "      <th>97</th>\n",
       "      <td>98</td>\n",
       "      <td>1.373861e-02</td>\n",
       "      <td>-7.090275</td>\n",
       "      <td>-0.000053</td>\n",
       "    </tr>\n",
       "    <tr>\n",
       "      <th>98</th>\n",
       "      <td>99</td>\n",
       "      <td>1.115314e-02</td>\n",
       "      <td>-7.090369</td>\n",
       "      <td>-0.000048</td>\n",
       "    </tr>\n",
       "    <tr>\n",
       "      <th>99</th>\n",
       "      <td>100</td>\n",
       "      <td>9.054234e-03</td>\n",
       "      <td>-7.090454</td>\n",
       "      <td>-0.000043</td>\n",
       "    </tr>\n",
       "  </tbody>\n",
       "</table>\n",
       "<p>100 rows × 4 columns</p>\n",
       "</div>"
      ],
      "text/plain": [
       "    model_iter           sse         b0         b1\n",
       "0            1  3.295555e+07  16.933594  11.185334\n",
       "1            2  1.511883e+07  14.331296   6.097066\n",
       "2            3  8.326394e+06  12.080125   3.174728\n",
       "3            4  5.420318e+06  10.106276   1.509862\n",
       "4            5  3.945955e+06   8.359554   0.573732\n",
       "..         ...           ...        ...        ...\n",
       "95          96  2.084654e-02  -7.090056  -0.000066\n",
       "96          97  1.692343e-02  -7.090171  -0.000059\n",
       "97          98  1.373861e-02  -7.090275  -0.000053\n",
       "98          99  1.115314e-02  -7.090369  -0.000048\n",
       "99         100  9.054234e-03  -7.090454  -0.000043\n",
       "\n",
       "[100 rows x 4 columns]"
      ]
     },
     "execution_count": 12,
     "metadata": {},
     "output_type": "execute_result"
    }
   ],
   "source": [
    "for iteration in range(n_iterations):\n",
    "    '''\n",
    "    n_iterations 表示迭代次數\n",
    "    \n",
    "    '''\n",
    "    yhat = dot(x_b, theta)  # predict using weights in theta\n",
    "    residuals_b = yhat - y  # calculate the residuals\n",
    "    gradients = (2 / n) * dot(x_b.T, residuals_b)  # calculate the gradients of MSE w.r.t model weights\n",
    "    theta = theta - learning_rate * gradients  # update theta\n",
    "\n",
    "    # 每次迭代中捕獲 b0、b1 和均方誤差 (MSE) 的值\n",
    "    sse_i[iteration] = np.sum((y - dot(x_b, theta))**2)\n",
    "    b0[iteration] = theta[1][0]\n",
    "    b1[iteration] = theta[0][0]\n",
    "\n",
    "model_i = pd.DataFrame({'model_iter': np.arange(1, n_iterations + 1),\n",
    "                        'sse': sse_i,\n",
    "                        'b0': b0,\n",
    "                        'b1': b1})\n",
    "\n",
    "model_i"
   ]
  },
  {
   "cell_type": "markdown",
   "id": "1a00b9d9",
   "metadata": {},
   "source": [
    "迭代完成後，我們可以繪製比模型估計的線。"
   ]
  },
  {
   "cell_type": "code",
   "execution_count": 16,
   "id": "2a610fcf",
   "metadata": {
    "scrolled": true
   },
   "outputs": [
    {
     "data": {
      "text/plain": [
       "Text(0, 0.5, 'y')"
      ]
     },
     "execution_count": 16,
     "metadata": {},
     "output_type": "execute_result"
    },
    {
     "data": {
      "image/png": "[encoded data removed]",
      "text/plain": [
       "<Figure size 640x480 with 1 Axes>"
      ]
     },
     "metadata": {},
     "output_type": "display_data"
    }
   ],
   "source": [
    "p1 = df.plot(x='x', y='y', kind='scatter', alpha=0.4)\n",
    "\n",
    "# model_i.plot(x='model_iter', y='sse', ax=p1, kind='line', color='grey', alpha=0.5)\n",
    "# model_i.loc[99].plot(x='b0', y='b1', ax=p1, kind='scatter', color='dodgerblue', s=50)\n",
    "# model_i.loc[0].plot(x='b0', y='b1', ax=p1, kind='scatter', color='red', s=50)\n",
    "\n",
    "plt.xlabel('x')\n",
    "plt.ylabel('y')\n"
   ]
  },
  {
   "cell_type": "markdown",
   "id": "06fa8a48",
   "metadata": {},
   "source": [
    "首先要注意的是粗紅線。這是根據 b0 和 b1 的初始值估計的線。您可以看到這根本無法很好地擬合數據點，因此它具有最高的誤差 (MSE)。但是，您可以看到線條逐漸向數據點移動，直到確定最佳擬合線（藍色粗線）。換句話說，在每次迭代中，模型都為 b0 和 b1 學習了更好的值，直到它找到使成本函數最小化的值。模型為 b0 和 b1 學習的最終值分別為 3.96 和 3.51——非常接近我們設置的參數 4 和 3.5！\n",
    "\n",
    "瞧！我們的機器！它學會了！！"
   ]
  },
  {
   "cell_type": "code",
   "execution_count": 18,
   "id": "b19b11d6",
   "metadata": {
    "scrolled": false
   },
   "outputs": [
    {
     "data": {
      "text/plain": [
       "Text(0, 0.5, 'Sum of Squared errors')"
      ]
     },
     "execution_count": 18,
     "metadata": {},
     "output_type": "execute_result"
    },
    {
     "data": {
      "image/png": "[encoded data removed]",
      "text/plain": [
       "<Figure size 640x480 with 1 Axes>"
      ]
     },
     "metadata": {},
     "output_type": "display_data"
    }
   ],
   "source": [
    "p2 = model_i[:30].plot(x='model_iter', y='sse', kind='scatter', alpha=0.4)\n",
    "plt.xlabel('Model iteration')\n",
    "plt.ylabel('Sum of Squared errors')"
   ]
  },
  {
   "cell_type": "markdown",
   "id": "198471ca",
   "metadata": {},
   "source": [
    "我們現在可以使用存儲在 theta 中的 b0 和 b1 的學習值來預測X的新值的值y。"
   ]
  },
  {
   "cell_type": "code",
   "execution_count": 19,
   "id": "32281e71",
   "metadata": {},
   "outputs": [
    {
     "name": "stdout",
     "output_type": "stream",
     "text": [
      "[[-7.09042611 -0.07690565 14.16861017 ... -2.69504023 -1.84987341\n",
      "  11.21806478]\n",
      " [-7.09046693 -0.07693544 14.16860277 ... -2.69507414 -1.84990599\n",
      "  11.21805274]\n",
      " [-7.09045813 -0.07692902 14.16860437 ... -2.69506683 -1.84989896\n",
      "  11.21805534]\n",
      " ...\n",
      " [-7.09046546 -0.07693437 14.16860304 ... -2.69507292 -1.84990482\n",
      "  11.21805317]\n",
      " [-7.09046368 -0.07693307 14.16860336 ... -2.69507145 -1.8499034\n",
      "  11.2180537 ]\n",
      " [-7.09046442 -0.07693361 14.16860323 ... -2.69507206 -1.84990398\n",
      "  11.21805348]]\n"
     ]
    }
   ],
   "source": [
    "def predict_from_theta(x):\n",
    "    x = np.column_stack((x, np.ones(len(x))))\n",
    "    return dot(x, theta)\n",
    "\n",
    "print(predict_from_theta(np.random.normal(size=10)))"
   ]
  }
 ],
 "metadata": {
  "kernelspec": {
   "display_name": "Python 3 (ipykernel)",
   "language": "python",
   "name": "python3"
  },
  "language_info": {
   "codemirror_mode": {
    "name": "ipython",
    "version": 3
   },
   "file_extension": ".py",
   "mimetype": "text/x-python",
   "name": "python",
   "nbconvert_exporter": "python",
   "pygments_lexer": "ipython3",
   "version": "3.10.9"
  }
 },
 "nbformat": 4,
 "nbformat_minor": 5
}
