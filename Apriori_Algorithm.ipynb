{
 "cells": [
  {
   "cell_type": "code",
   "execution_count": 1,
   "id": "2e530bfe",
   "metadata": {},
   "outputs": [],
   "source": [
    "# store the item sets as tuples of strings in a list\n",
    "transactions = [\n",
    "    ['beer', 'wine', 'cheese'],\n",
    "    ['beer', 'potato chips'],\n",
    "    ['eggs', 'flower', 'butter', 'cheese'],\n",
    "    ['eggs', 'flower', 'butter', 'beer', 'potato chips'],\n",
    "    ['wine', 'cheese'],\n",
    "    ['potato chips'],\n",
    "    ['eggs', 'flower', 'butter', 'wine', 'cheese'],\n",
    "    ['eggs', 'flower', 'butter', 'beer', 'potato chips'],\n",
    "    ['wine', 'beer'],\n",
    "    ['beer', 'potato chips'],\n",
    "    ['butter', 'eggs'],\n",
    "    ['beer', 'potato chips'],\n",
    "    ['flower', 'eggs'],\n",
    "    ['beer', 'potato chips'],\n",
    "    ['eggs', 'flower', 'butter', 'wine', 'cheese'],\n",
    "    ['beer', 'wine', 'potato chips', 'cheese'],\n",
    "    ['wine', 'cheese'],\n",
    "    ['beer', 'potato chips'],\n",
    "    ['wine', 'cheese'],\n",
    "    ['beer', 'potato chips']\n",
    "]"
   ]
  },
  {
   "cell_type": "code",
   "execution_count": 2,
   "id": "4b9a573a",
   "metadata": {},
   "outputs": [],
   "source": [
    "from efficient_apriori import apriori\n",
    "\n",
    "# our min support is 7, but it has to be expressed as a percentage for efficient-apriori\n",
    "min_support = 7/len(transactions) \n",
    "\n",
    "# min confidence allows you to delete rules with low confidence.\n",
    "# For now set min_confidence = 0 to obtain all the rules\n",
    "min_confidence = 0\n",
    "itemsets, rules = apriori(transactions, min_support=min_support, min_confidence=min_confidence)"
   ]
  },
  {
   "cell_type": "code",
   "execution_count": 3,
   "id": "9f1f56d6",
   "metadata": {},
   "outputs": [
    {
     "name": "stdout",
     "output_type": "stream",
     "text": [
      "{1: {('beer',): 11, ('wine',): 8, ('cheese',): 8, ('potato chips',): 10, ('eggs',): 7}, 2: {('beer', 'potato chips'): 9, ('cheese', 'wine'): 7}}\n"
     ]
    }
   ],
   "source": [
    "print(itemsets)\n",
    "\n",
    "#在第一遍中，（key = 1）您有單個產品及其出現次數：\n",
    "# beer: 11\n",
    "# wine: 8\n",
    "# cheese: 8\n",
    "# potato chips: 9\n",
    "# eggs: 7\n",
    "\n",
    "# 在第二遍中至少獲得至少 7 分支持的產品。還有它們的出現次數：\n",
    "# (cheese, wine): 7 \n",
    "# (beer, potato chips): 9 "
   ]
  },
  {
   "cell_type": "code",
   "execution_count": 4,
   "id": "b6840b58",
   "metadata": {},
   "outputs": [
    {
     "name": "stdout",
     "output_type": "stream",
     "text": [
      "{potato chips} -> {beer} (conf: 0.900, supp: 0.450, lift: 1.636, conv: 4.500)\n",
      "{beer} -> {potato chips} (conf: 0.818, supp: 0.450, lift: 1.636, conv: 2.750)\n",
      "{wine} -> {cheese} (conf: 0.875, supp: 0.350, lift: 2.188, conv: 4.800)\n",
      "{cheese} -> {wine} (conf: 0.875, supp: 0.350, lift: 2.188, conv: 4.800)\n"
     ]
    }
   ],
   "source": [
    "for rule in rules:\n",
    "    print(rule)"
   ]
  },
  {
   "cell_type": "code",
   "execution_count": 5,
   "id": "73af7997",
   "metadata": {},
   "outputs": [],
   "source": [
    "# 規則 Potato Chips => Beer 的置信度為 1，提升度為 1.818\n",
    "# 規則 Beer => Potato Chips 的置信度為 0.818，提升度為 1.818\n",
    "# 規則 Wine => Cheese 的置信度為 0.875，提升度為 2.188\n",
    "# 規則 Cheese => Wine 的置信度為 0.875，提升度為 2.188"
   ]
  }
 ],
 "metadata": {
  "kernelspec": {
   "display_name": "Python 3 (ipykernel)",
   "language": "python",
   "name": "python3"
  },
  "language_info": {
   "codemirror_mode": {
    "name": "ipython",
    "version": 3
   },
   "file_extension": ".py",
   "mimetype": "text/x-python",
   "name": "python",
   "nbconvert_exporter": "python",
   "pygments_lexer": "ipython3",
   "version": "3.11.3"
  }
 },
 "nbformat": 4,
 "nbformat_minor": 5
}
