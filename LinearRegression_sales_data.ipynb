{
 "cells": [
  {
   "cell_type": "markdown",
   "metadata": {
    "tags": []
   },
   "source": [
    "# sklearn - Linear Regression With Time"
   ]
  },
  {
   "cell_type": "code",
   "execution_count": 1,
   "metadata": {
    "id": "dQNZ4uixx6fO"
   },
   "outputs": [],
   "source": [
    "import numpy as np\n",
    "import pandas as pd\n",
    "import matplotlib.pyplot as plt\n",
    "import seaborn as sns"
   ]
  },
  {
   "cell_type": "code",
   "execution_count": 22,
   "metadata": {
    "colab": {
     "base_uri": "https://localhost:8080/",
     "height": 194
    },
    "executionInfo": {
     "elapsed": 2555,
     "status": "ok",
     "timestamp": 1608264385628,
     "user": {
      "displayName": "freeai time",
      "photoUrl": "https://lh3.googleusercontent.com/a-/AOh14GgxvlF_Oni7ZMdvrndxf2178ORhoNGeclnb7GQ6=s64",
      "userId": "11272871337215191422"
     },
     "user_tz": -330
    },
    "id": "7kgkZFhdyH96",
    "outputId": "9d6ac7e2-a170-4394-d35e-2912943be961"
   },
   "outputs": [
    {
     "data": {
      "text/html": [
       "<div>\n",
       "<style scoped>\n",
       "    .dataframe tbody tr th:only-of-type {\n",
       "        vertical-align: middle;\n",
       "    }\n",
       "\n",
       "    .dataframe tbody tr th {\n",
       "        vertical-align: top;\n",
       "    }\n",
       "\n",
       "    .dataframe thead th {\n",
       "        text-align: right;\n",
       "    }\n",
       "</style>\n",
       "<table border=\"1\" class=\"dataframe\">\n",
       "  <thead>\n",
       "    <tr style=\"text-align: right;\">\n",
       "      <th></th>\n",
       "      <th>Years</th>\n",
       "      <th>Sales</th>\n",
       "    </tr>\n",
       "  </thead>\n",
       "  <tbody>\n",
       "    <tr>\n",
       "      <th>0</th>\n",
       "      <td>2001-01-01</td>\n",
       "      <td>139.7</td>\n",
       "    </tr>\n",
       "    <tr>\n",
       "      <th>1</th>\n",
       "      <td>2001-02-01</td>\n",
       "      <td>114.3</td>\n",
       "    </tr>\n",
       "    <tr>\n",
       "      <th>2</th>\n",
       "      <td>2001-03-01</td>\n",
       "      <td>101.6</td>\n",
       "    </tr>\n",
       "    <tr>\n",
       "      <th>3</th>\n",
       "      <td>2001-04-01</td>\n",
       "      <td>152.4</td>\n",
       "    </tr>\n",
       "    <tr>\n",
       "      <th>4</th>\n",
       "      <td>2001-05-01</td>\n",
       "      <td>215.9</td>\n",
       "    </tr>\n",
       "  </tbody>\n",
       "</table>\n",
       "</div>"
      ],
      "text/plain": [
       "        Years  Sales\n",
       "0  2001-01-01  139.7\n",
       "1  2001-02-01  114.3\n",
       "2  2001-03-01  101.6\n",
       "3  2001-04-01  152.4\n",
       "4  2001-05-01  215.9"
      ]
     },
     "execution_count": 22,
     "metadata": {},
     "output_type": "execute_result"
    }
   ],
   "source": [
    "df = pd.read_csv('data/sales_data.csv')\n",
    "df.head()"
   ]
  },
  {
   "cell_type": "code",
   "execution_count": 23,
   "metadata": {
    "tags": []
   },
   "outputs": [
    {
     "data": {
      "text/plain": [
       "Years     object\n",
       "Sales    float64\n",
       "dtype: object"
      ]
     },
     "execution_count": 23,
     "metadata": {},
     "output_type": "execute_result"
    }
   ],
   "source": [
    "df.dtypes"
   ]
  },
  {
   "cell_type": "markdown",
   "metadata": {
    "id": "CpkJb3dhy5ZT"
   },
   "source": [
    "## Data Preprocessing"
   ]
  },
  {
   "cell_type": "code",
   "execution_count": 25,
   "metadata": {
    "id": "dr7DSXmvyRhx"
   },
   "outputs": [
    {
     "data": {
      "text/html": [
       "<div>\n",
       "<style scoped>\n",
       "    .dataframe tbody tr th:only-of-type {\n",
       "        vertical-align: middle;\n",
       "    }\n",
       "\n",
       "    .dataframe tbody tr th {\n",
       "        vertical-align: top;\n",
       "    }\n",
       "\n",
       "    .dataframe thead th {\n",
       "        text-align: right;\n",
       "    }\n",
       "</style>\n",
       "<table border=\"1\" class=\"dataframe\">\n",
       "  <thead>\n",
       "    <tr style=\"text-align: right;\">\n",
       "      <th></th>\n",
       "      <th>Years</th>\n",
       "      <th>Sales</th>\n",
       "      <th>time</th>\n",
       "      <th>month_name</th>\n",
       "    </tr>\n",
       "  </thead>\n",
       "  <tbody>\n",
       "    <tr>\n",
       "      <th>0</th>\n",
       "      <td>2001-01-01</td>\n",
       "      <td>139.7</td>\n",
       "      <td>1</td>\n",
       "      <td>January</td>\n",
       "    </tr>\n",
       "    <tr>\n",
       "      <th>1</th>\n",
       "      <td>2001-02-01</td>\n",
       "      <td>114.3</td>\n",
       "      <td>2</td>\n",
       "      <td>February</td>\n",
       "    </tr>\n",
       "    <tr>\n",
       "      <th>2</th>\n",
       "      <td>2001-03-01</td>\n",
       "      <td>101.6</td>\n",
       "      <td>3</td>\n",
       "      <td>March</td>\n",
       "    </tr>\n",
       "    <tr>\n",
       "      <th>3</th>\n",
       "      <td>2001-04-01</td>\n",
       "      <td>152.4</td>\n",
       "      <td>4</td>\n",
       "      <td>April</td>\n",
       "    </tr>\n",
       "    <tr>\n",
       "      <th>4</th>\n",
       "      <td>2001-05-01</td>\n",
       "      <td>215.9</td>\n",
       "      <td>5</td>\n",
       "      <td>May</td>\n",
       "    </tr>\n",
       "  </tbody>\n",
       "</table>\n",
       "</div>"
      ],
      "text/plain": [
       "       Years  Sales  time month_name\n",
       "0 2001-01-01  139.7     1    January\n",
       "1 2001-02-01  114.3     2   February\n",
       "2 2001-03-01  101.6     3      March\n",
       "3 2001-04-01  152.4     4      April\n",
       "4 2001-05-01  215.9     5        May"
      ]
     },
     "execution_count": 25,
     "metadata": {},
     "output_type": "execute_result"
    }
   ],
   "source": [
    "df['Years'] = pd.to_datetime(df['Years'])        # object -> datetime64\n",
    "df['time'] = np.arange(1,73,1)                   # new col\n",
    "df['month_name'] = df['Years'].dt.month_name()   # new col\n",
    "df.head()"
   ]
  },
  {
   "cell_type": "markdown",
   "metadata": {},
   "source": [
    "### split the data into train and test"
   ]
  },
  {
   "cell_type": "code",
   "execution_count": 6,
   "metadata": {
    "id": "2jnMzLYZzwWz"
   },
   "outputs": [
    {
     "data": {
      "text/html": [
       "<div>\n",
       "<style scoped>\n",
       "    .dataframe tbody tr th:only-of-type {\n",
       "        vertical-align: middle;\n",
       "    }\n",
       "\n",
       "    .dataframe tbody tr th {\n",
       "        vertical-align: top;\n",
       "    }\n",
       "\n",
       "    .dataframe thead th {\n",
       "        text-align: right;\n",
       "    }\n",
       "</style>\n",
       "<table border=\"1\" class=\"dataframe\">\n",
       "  <thead>\n",
       "    <tr style=\"text-align: right;\">\n",
       "      <th></th>\n",
       "      <th>Years</th>\n",
       "      <th>Sales</th>\n",
       "      <th>time</th>\n",
       "      <th>month_name</th>\n",
       "    </tr>\n",
       "  </thead>\n",
       "  <tbody>\n",
       "    <tr>\n",
       "      <th>43</th>\n",
       "      <td>2004-08-01</td>\n",
       "      <td>431.8</td>\n",
       "      <td>44</td>\n",
       "      <td>August</td>\n",
       "    </tr>\n",
       "    <tr>\n",
       "      <th>44</th>\n",
       "      <td>2004-09-01</td>\n",
       "      <td>330.2</td>\n",
       "      <td>45</td>\n",
       "      <td>September</td>\n",
       "    </tr>\n",
       "    <tr>\n",
       "      <th>45</th>\n",
       "      <td>2004-10-01</td>\n",
       "      <td>330.2</td>\n",
       "      <td>46</td>\n",
       "      <td>October</td>\n",
       "    </tr>\n",
       "    <tr>\n",
       "      <th>46</th>\n",
       "      <td>2004-11-01</td>\n",
       "      <td>304.8</td>\n",
       "      <td>47</td>\n",
       "      <td>November</td>\n",
       "    </tr>\n",
       "    <tr>\n",
       "      <th>47</th>\n",
       "      <td>2004-12-01</td>\n",
       "      <td>292.1</td>\n",
       "      <td>48</td>\n",
       "      <td>December</td>\n",
       "    </tr>\n",
       "  </tbody>\n",
       "</table>\n",
       "</div>"
      ],
      "text/plain": [
       "        Years  Sales  time month_name\n",
       "43 2004-08-01  431.8    44     August\n",
       "44 2004-09-01  330.2    45  September\n",
       "45 2004-10-01  330.2    46    October\n",
       "46 2004-11-01  304.8    47   November\n",
       "47 2004-12-01  292.1    48   December"
      ]
     },
     "execution_count": 6,
     "metadata": {},
     "output_type": "execute_result"
    }
   ],
   "source": [
    "# Step-1: Split the data into train (4 years) and test (2 years)\n",
    "df_train = df.head(48) # 4 years\n",
    "df_test = df.loc[48:] # 2 years\n",
    "\n",
    "x_train = df_train[['time']].values\n",
    "y_train = df_train['Sales'].values\n",
    "\n",
    "x_test = df_test[['time']].values\n",
    "y_test = df_test['Sales'].values"
   ]
  },
  {
   "cell_type": "markdown",
   "metadata": {
    "id": "4pAiszXC2SEk"
   },
   "source": [
    "# Linear Regression with Time\n",
    "- Trend in the data"
   ]
  },
  {
   "cell_type": "code",
   "execution_count": 11,
   "metadata": {
    "id": "L2N6evmz2LZE"
   },
   "outputs": [
    {
     "data": {
      "text/html": [
       "<style>#sk-container-id-1 {color: black;}#sk-container-id-1 pre{padding: 0;}#sk-container-id-1 div.sk-toggleable {background-color: white;}#sk-container-id-1 label.sk-toggleable__label {cursor: pointer;display: block;width: 100%;margin-bottom: 0;padding: 0.3em;box-sizing: border-box;text-align: center;}#sk-container-id-1 label.sk-toggleable__label-arrow:before {content: \"▸\";float: left;margin-right: 0.25em;color: #696969;}#sk-container-id-1 label.sk-toggleable__label-arrow:hover:before {color: black;}#sk-container-id-1 div.sk-estimator:hover label.sk-toggleable__label-arrow:before {color: black;}#sk-container-id-1 div.sk-toggleable__content {max-height: 0;max-width: 0;overflow: hidden;text-align: left;background-color: #f0f8ff;}#sk-container-id-1 div.sk-toggleable__content pre {margin: 0.2em;color: black;border-radius: 0.25em;background-color: #f0f8ff;}#sk-container-id-1 input.sk-toggleable__control:checked~div.sk-toggleable__content {max-height: 200px;max-width: 100%;overflow: auto;}#sk-container-id-1 input.sk-toggleable__control:checked~label.sk-toggleable__label-arrow:before {content: \"▾\";}#sk-container-id-1 div.sk-estimator input.sk-toggleable__control:checked~label.sk-toggleable__label {background-color: #d4ebff;}#sk-container-id-1 div.sk-label input.sk-toggleable__control:checked~label.sk-toggleable__label {background-color: #d4ebff;}#sk-container-id-1 input.sk-hidden--visually {border: 0;clip: rect(1px 1px 1px 1px);clip: rect(1px, 1px, 1px, 1px);height: 1px;margin: -1px;overflow: hidden;padding: 0;position: absolute;width: 1px;}#sk-container-id-1 div.sk-estimator {font-family: monospace;background-color: #f0f8ff;border: 1px dotted black;border-radius: 0.25em;box-sizing: border-box;margin-bottom: 0.5em;}#sk-container-id-1 div.sk-estimator:hover {background-color: #d4ebff;}#sk-container-id-1 div.sk-parallel-item::after {content: \"\";width: 100%;border-bottom: 1px solid gray;flex-grow: 1;}#sk-container-id-1 div.sk-label:hover label.sk-toggleable__label {background-color: #d4ebff;}#sk-container-id-1 div.sk-serial::before {content: \"\";position: absolute;border-left: 1px solid gray;box-sizing: border-box;top: 0;bottom: 0;left: 50%;z-index: 0;}#sk-container-id-1 div.sk-serial {display: flex;flex-direction: column;align-items: center;background-color: white;padding-right: 0.2em;padding-left: 0.2em;position: relative;}#sk-container-id-1 div.sk-item {position: relative;z-index: 1;}#sk-container-id-1 div.sk-parallel {display: flex;align-items: stretch;justify-content: center;background-color: white;position: relative;}#sk-container-id-1 div.sk-item::before, #sk-container-id-1 div.sk-parallel-item::before {content: \"\";position: absolute;border-left: 1px solid gray;box-sizing: border-box;top: 0;bottom: 0;left: 50%;z-index: -1;}#sk-container-id-1 div.sk-parallel-item {display: flex;flex-direction: column;z-index: 1;position: relative;background-color: white;}#sk-container-id-1 div.sk-parallel-item:first-child::after {align-self: flex-end;width: 50%;}#sk-container-id-1 div.sk-parallel-item:last-child::after {align-self: flex-start;width: 50%;}#sk-container-id-1 div.sk-parallel-item:only-child::after {width: 0;}#sk-container-id-1 div.sk-dashed-wrapped {border: 1px dashed gray;margin: 0 0.4em 0.5em 0.4em;box-sizing: border-box;padding-bottom: 0.4em;background-color: white;}#sk-container-id-1 div.sk-label label {font-family: monospace;font-weight: bold;display: inline-block;line-height: 1.2em;}#sk-container-id-1 div.sk-label-container {text-align: center;}#sk-container-id-1 div.sk-container {/* jupyter's `normalize.less` sets `[hidden] { display: none; }` but bootstrap.min.css set `[hidden] { display: none !important; }` so we also need the `!important` here to be able to override the default hidden behavior on the sphinx rendered scikit-learn.org. See: https://github.com/scikit-learn/scikit-learn/issues/21755 */display: inline-block !important;position: relative;}#sk-container-id-1 div.sk-text-repr-fallback {display: none;}</style><div id=\"sk-container-id-1\" class=\"sk-top-container\"><div class=\"sk-text-repr-fallback\"><pre>LinearRegression()</pre><b>In a Jupyter environment, please rerun this cell to show the HTML representation or trust the notebook. <br />On GitHub, the HTML representation is unable to render, please try loading this page with nbviewer.org.</b></div><div class=\"sk-container\" hidden><div class=\"sk-item\"><div class=\"sk-estimator sk-toggleable\"><input class=\"sk-toggleable__control sk-hidden--visually\" id=\"sk-estimator-id-1\" type=\"checkbox\" checked><label for=\"sk-estimator-id-1\" class=\"sk-toggleable__label sk-toggleable__label-arrow\">LinearRegression</label><div class=\"sk-toggleable__content\"><pre>LinearRegression()</pre></div></div></div></div></div>"
      ],
      "text/plain": [
       "LinearRegression()"
      ]
     },
     "execution_count": 11,
     "metadata": {},
     "output_type": "execute_result"
    }
   ],
   "source": [
    "from sklearn.linear_model import LinearRegression\n",
    "\n",
    "model_trend = LinearRegression()\n",
    "model_trend.fit(x_train,y_train)"
   ]
  },
  {
   "cell_type": "code",
   "execution_count": 12,
   "metadata": {
    "id": "7BxC0DRS2hNs"
   },
   "outputs": [],
   "source": [
    "y_fittedvalue = model_trend.predict(x_train)"
   ]
  },
  {
   "cell_type": "code",
   "execution_count": 13,
   "metadata": {
    "id": "N2MZf7B335fe"
   },
   "outputs": [],
   "source": [
    "y_forecast = model_trend.predict(x_test)"
   ]
  },
  {
   "cell_type": "markdown",
   "metadata": {
    "id": "KVHJsgS75VGF"
   },
   "source": [
    "**confidence interval - 95% = 1.96**\n",
    "\n",
    "CI = $\\mu +- ME $\n",
    "\n",
    "- ME = z * SE\n",
    "- z = 1.96 (for 95% CI)\n",
    "- SE = standard deviation of the error"
   ]
  },
  {
   "cell_type": "code",
   "execution_count": 14,
   "metadata": {
    "id": "OnpaRBk45INS"
   },
   "outputs": [],
   "source": [
    "# confidence interval\n",
    "# mean +- Margin of error\n",
    "error = y_train - y_fittedvalue\n",
    "se = error.std()\n",
    "ME = 1.96 * se"
   ]
  },
  {
   "cell_type": "code",
   "execution_count": 15,
   "metadata": {
    "colab": {
     "base_uri": "https://localhost:8080/",
     "height": 483
    },
    "executionInfo": {
     "elapsed": 3057,
     "status": "ok",
     "timestamp": 1608264394458,
     "user": {
      "displayName": "freeai time",
      "photoUrl": "https://lh3.googleusercontent.com/a-/AOh14GgxvlF_Oni7ZMdvrndxf2178ORhoNGeclnb7GQ6=s64",
      "userId": "11272871337215191422"
     },
     "user_tz": -330
    },
    "id": "dEBcrJyN2rhd",
    "outputId": "6f6cd6ed-aedf-4bfe-c7a1-ac99e6da2626"
   },
   "outputs": [
    {
     "name": "stderr",
     "output_type": "stream",
     "text": [
      "C:\\Users\\cti110016\\AppData\\Local\\Temp\\ipykernel_23376\\1037205557.py:7: UserWarning: color is redundantly defined by the 'color' keyword argument and the fmt string \"b\" (-> color=(0.0, 0.0, 1.0, 1)). The keyword argument will take precedence.\n",
      "  plt.plot(df_test['Years'],y_forecast,'b',color='red')\n"
     ]
    },
    {
     "data": {
      "image/png": "[encoded data removed]",
      "text/plain": [
       "<Figure size 1500x800 with 1 Axes>"
      ]
     },
     "metadata": {},
     "output_type": "display_data"
    }
   ],
   "source": [
    "# visualize the data\n",
    "plt.figure(figsize=(15,8))\n",
    "plt.plot(df_train['Years'],y_train,'bo:')\n",
    "plt.plot(df_train['Years'],y_fittedvalue,'b')\n",
    "# forecasted data\n",
    "plt.plot(df_test['Years'],y_test,'o:',color='orange')\n",
    "plt.plot(df_test['Years'],y_forecast,'b',color='red')\n",
    "# margin of error\n",
    "ci_plus = y_forecast + ME\n",
    "ci_minus = y_forecast - ME\n",
    "plt.fill_between(df_test['Years'],(ci_plus),(ci_minus),alpha=0.1,color='black')\n",
    "\n",
    "\n",
    "plt.legend(['TimeSeries Data','Trend','True Future Data','Forecasted Trend Data','95% Confidence Interval'])\n",
    "plt.show()"
   ]
  },
  {
   "cell_type": "code",
   "execution_count": 16,
   "metadata": {
    "id": "HpzYSQ015CBq"
   },
   "outputs": [],
   "source": [
    "# 2006-01-01\t431.8\t61\n",
    "forecast_mean = model_trend.predict(np.array([[61]]))"
   ]
  },
  {
   "cell_type": "code",
   "execution_count": 17,
   "metadata": {
    "colab": {
     "base_uri": "https://localhost:8080/"
    },
    "executionInfo": {
     "elapsed": 2878,
     "status": "ok",
     "timestamp": 1608264394464,
     "user": {
      "displayName": "freeai time",
      "photoUrl": "https://lh3.googleusercontent.com/a-/AOh14GgxvlF_Oni7ZMdvrndxf2178ORhoNGeclnb7GQ6=s64",
      "userId": "11272871337215191422"
     },
     "user_tz": -330
    },
    "id": "qSb1R0Wl68p9",
    "outputId": "0ac6fb53-1c38-4cf9-8649-544b55f47ac9"
   },
   "outputs": [
    {
     "name": "stdout",
     "output_type": "stream",
     "text": [
      "[403.28613765]\n",
      "(array([291.67694148]), array([514.89533381]))\n"
     ]
    }
   ],
   "source": [
    "print(forecast_mean)\n",
    "print((forecast_mean - ME , forecast_mean + ME))"
   ]
  },
  {
   "cell_type": "markdown",
   "metadata": {
    "id": "So-iNcXIBLme"
   },
   "source": [
    "## Additive Model"
   ]
  },
  {
   "cell_type": "code",
   "execution_count": 18,
   "metadata": {
    "colab": {
     "base_uri": "https://localhost:8080/",
     "height": 198
    },
    "executionInfo": {
     "elapsed": 1586,
     "status": "ok",
     "timestamp": 1608264394466,
     "user": {
      "displayName": "freeai time",
      "photoUrl": "https://lh3.googleusercontent.com/a-/AOh14GgxvlF_Oni7ZMdvrndxf2178ORhoNGeclnb7GQ6=s64",
      "userId": "11272871337215191422"
     },
     "user_tz": -330
    },
    "id": "LGaRCaYp7br9",
    "outputId": "a12dfd2a-21c7-4123-cf59-6056fa99f909"
   },
   "outputs": [
    {
     "data": {
      "text/html": [
       "<div>\n",
       "<style scoped>\n",
       "    .dataframe tbody tr th:only-of-type {\n",
       "        vertical-align: middle;\n",
       "    }\n",
       "\n",
       "    .dataframe tbody tr th {\n",
       "        vertical-align: top;\n",
       "    }\n",
       "\n",
       "    .dataframe thead th {\n",
       "        text-align: right;\n",
       "    }\n",
       "</style>\n",
       "<table border=\"1\" class=\"dataframe\">\n",
       "  <thead>\n",
       "    <tr style=\"text-align: right;\">\n",
       "      <th></th>\n",
       "      <th>Years</th>\n",
       "      <th>Sales</th>\n",
       "      <th>time</th>\n",
       "      <th>month_name</th>\n",
       "    </tr>\n",
       "  </thead>\n",
       "  <tbody>\n",
       "    <tr>\n",
       "      <th>0</th>\n",
       "      <td>2001-01-01</td>\n",
       "      <td>139.7</td>\n",
       "      <td>1</td>\n",
       "      <td>January</td>\n",
       "    </tr>\n",
       "    <tr>\n",
       "      <th>1</th>\n",
       "      <td>2001-02-01</td>\n",
       "      <td>114.3</td>\n",
       "      <td>2</td>\n",
       "      <td>February</td>\n",
       "    </tr>\n",
       "    <tr>\n",
       "      <th>2</th>\n",
       "      <td>2001-03-01</td>\n",
       "      <td>101.6</td>\n",
       "      <td>3</td>\n",
       "      <td>March</td>\n",
       "    </tr>\n",
       "    <tr>\n",
       "      <th>3</th>\n",
       "      <td>2001-04-01</td>\n",
       "      <td>152.4</td>\n",
       "      <td>4</td>\n",
       "      <td>April</td>\n",
       "    </tr>\n",
       "    <tr>\n",
       "      <th>4</th>\n",
       "      <td>2001-05-01</td>\n",
       "      <td>215.9</td>\n",
       "      <td>5</td>\n",
       "      <td>May</td>\n",
       "    </tr>\n",
       "  </tbody>\n",
       "</table>\n",
       "</div>"
      ],
      "text/plain": [
       "       Years  Sales  time month_name\n",
       "0 2001-01-01  139.7     1    January\n",
       "1 2001-02-01  114.3     2   February\n",
       "2 2001-03-01  101.6     3      March\n",
       "3 2001-04-01  152.4     4      April\n",
       "4 2001-05-01  215.9     5        May"
      ]
     },
     "execution_count": 18,
     "metadata": {},
     "output_type": "execute_result"
    }
   ],
   "source": [
    "df_train.head()"
   ]
  },
  {
   "cell_type": "code",
   "execution_count": 19,
   "metadata": {
    "colab": {
     "base_uri": "https://localhost:8080/",
     "height": 34
    },
    "executionInfo": {
     "elapsed": 1465,
     "status": "ok",
     "timestamp": 1608264394469,
     "user": {
      "displayName": "freeai time",
      "photoUrl": "https://lh3.googleusercontent.com/a-/AOh14GgxvlF_Oni7ZMdvrndxf2178ORhoNGeclnb7GQ6=s64",
      "userId": "11272871337215191422"
     },
     "user_tz": -330
    },
    "id": "wt0TBSyhCeum",
    "outputId": "dc7685d2-fe5e-4f76-b3e4-2cdf63ddf9b3"
   },
   "outputs": [
    {
     "data": {
      "text/plain": [
       "'January'"
      ]
     },
     "execution_count": 19,
     "metadata": {},
     "output_type": "execute_result"
    }
   ],
   "source": [
    "df_train['month_name'][0]"
   ]
  },
  {
   "cell_type": "code",
   "execution_count": 26,
   "metadata": {
    "colab": {
     "base_uri": "https://localhost:8080/",
     "height": 552
    },
    "executionInfo": {
     "elapsed": 2660,
     "status": "ok",
     "timestamp": 1608264396822,
     "user": {
      "displayName": "freeai time",
      "photoUrl": "https://lh3.googleusercontent.com/a-/AOh14GgxvlF_Oni7ZMdvrndxf2178ORhoNGeclnb7GQ6=s64",
      "userId": "11272871337215191422"
     },
     "user_tz": -330
    },
    "id": "PD4pHsWABPmO",
    "outputId": "110b0147-ae61-49d1-b41d-6d34c7a4e4fe"
   },
   "outputs": [
    {
     "ename": "TypeError",
     "evalue": "scatterplot() got multiple values for argument 'data'",
     "output_type": "error",
     "traceback": [
      "\u001b[1;31m---------------------------------------------------------------------------\u001b[0m",
      "\u001b[1;31mTypeError\u001b[0m                                 Traceback (most recent call last)",
      "Cell \u001b[1;32mIn[26], line 4\u001b[0m\n\u001b[0;32m      2\u001b[0m \u001b[38;5;66;03m#plt.scatter(df_train['Years'],df_train['Sales'])\u001b[39;00m\n\u001b[0;32m      3\u001b[0m plt\u001b[38;5;241m.\u001b[39mplot(df_train[\u001b[38;5;124m'\u001b[39m\u001b[38;5;124mYears\u001b[39m\u001b[38;5;124m'\u001b[39m],df_train[\u001b[38;5;124m'\u001b[39m\u001b[38;5;124mSales\u001b[39m\u001b[38;5;124m'\u001b[39m],\u001b[38;5;124m'\u001b[39m\u001b[38;5;124mb:\u001b[39m\u001b[38;5;124m'\u001b[39m)\n\u001b[1;32m----> 4\u001b[0m sns\u001b[38;5;241m.\u001b[39mscatterplot(\u001b[38;5;124m'\u001b[39m\u001b[38;5;124mYears\u001b[39m\u001b[38;5;124m'\u001b[39m,\u001b[38;5;124m'\u001b[39m\u001b[38;5;124mSales\u001b[39m\u001b[38;5;124m'\u001b[39m,data\u001b[38;5;241m=\u001b[39mdf_train,s\u001b[38;5;241m=\u001b[39m\u001b[38;5;241m200\u001b[39m,hue\u001b[38;5;241m=\u001b[39m\u001b[38;5;124m'\u001b[39m\u001b[38;5;124mmonth_name\u001b[39m\u001b[38;5;124m'\u001b[39m,palette\u001b[38;5;241m=\u001b[39m\u001b[38;5;124m'\u001b[39m\u001b[38;5;124mSet1\u001b[39m\u001b[38;5;124m'\u001b[39m)\n\u001b[0;32m      6\u001b[0m \u001b[38;5;28;01mfor\u001b[39;00m i \u001b[38;5;129;01min\u001b[39;00m \u001b[38;5;28mrange\u001b[39m(\u001b[38;5;28mlen\u001b[39m(df_train)):\n\u001b[0;32m      7\u001b[0m     plt\u001b[38;5;241m.\u001b[39mtext(df_train[\u001b[38;5;124m'\u001b[39m\u001b[38;5;124mYears\u001b[39m\u001b[38;5;124m'\u001b[39m][i],df_train[\u001b[38;5;124m'\u001b[39m\u001b[38;5;124mSales\u001b[39m\u001b[38;5;124m'\u001b[39m][i],df_train[\u001b[38;5;124m'\u001b[39m\u001b[38;5;124mmonth_name\u001b[39m\u001b[38;5;124m'\u001b[39m][i])\n",
      "\u001b[1;31mTypeError\u001b[0m: scatterplot() got multiple values for argument 'data'"
     ]
    },
    {
     "data": {
      "image/png": "[encoded data removed]",
      "text/plain": [
       "<Figure size 1500x800 with 1 Axes>"
      ]
     },
     "metadata": {},
     "output_type": "display_data"
    }
   ],
   "source": [
    "plt.figure(figsize=(15,8))\n",
    "#plt.scatter(df_train['Years'],df_train['Sales'])\n",
    "plt.plot(df_train['Years'],df_train['Sales'],'b:')\n",
    "sns.scatterplot('Years','Sales',data=df_train,s=200,hue='month_name',palette='Set1')\n",
    "\n",
    "for i in range(len(df_train)):\n",
    "    plt.text(df_train['Years'][i],df_train['Sales'][i],df_train['month_name'][i])"
   ]
  },
  {
   "cell_type": "markdown",
   "metadata": {
    "id": "ZLtuZBCeC2bf"
   },
   "source": [
    "seasonality is 12 hence we need to create n-1 dummies , 11 columns"
   ]
  },
  {
   "cell_type": "code",
   "execution_count": null,
   "metadata": {
    "id": "bjdSmpeKBd51"
   },
   "outputs": [],
   "source": [
    "dum = pd.get_dummies(df_train['month_name'],drop_first=True)\n",
    "df_train1 = df_train.copy()\n",
    "df_train1 = pd.concat((df_train1,dum),axis=1)"
   ]
  },
  {
   "cell_type": "code",
   "execution_count": null,
   "metadata": {
    "colab": {
     "base_uri": "https://localhost:8080/",
     "height": 198
    },
    "executionInfo": {
     "elapsed": 1831,
     "status": "ok",
     "timestamp": 1608264397369,
     "user": {
      "displayName": "freeai time",
      "photoUrl": "https://lh3.googleusercontent.com/a-/AOh14GgxvlF_Oni7ZMdvrndxf2178ORhoNGeclnb7GQ6=s64",
      "userId": "11272871337215191422"
     },
     "user_tz": -330
    },
    "id": "h6UWcvBVC9kG",
    "outputId": "f954c8d8-a18f-4fb2-db35-b335300e46f9"
   },
   "outputs": [],
   "source": [
    "df_train1.head()"
   ]
  },
  {
   "cell_type": "code",
   "execution_count": null,
   "metadata": {
    "id": "SWxlRQqcDek_"
   },
   "outputs": [],
   "source": [
    "dum = pd.get_dummies(df_test['month_name'],drop_first=True)\n",
    "df_test1 = df_test.copy()\n",
    "df_test1 = pd.concat((df_test1,dum),axis=1)"
   ]
  },
  {
   "cell_type": "code",
   "execution_count": null,
   "metadata": {
    "colab": {
     "base_uri": "https://localhost:8080/",
     "height": 770
    },
    "executionInfo": {
     "elapsed": 1001,
     "status": "ok",
     "timestamp": 1608264397376,
     "user": {
      "displayName": "freeai time",
      "photoUrl": "https://lh3.googleusercontent.com/a-/AOh14GgxvlF_Oni7ZMdvrndxf2178ORhoNGeclnb7GQ6=s64",
      "userId": "11272871337215191422"
     },
     "user_tz": -330
    },
    "id": "ptW4t3eGDpnJ",
    "outputId": "ca557049-ac0a-428d-c68c-d65b8e4200de"
   },
   "outputs": [],
   "source": [
    "df_test1"
   ]
  },
  {
   "cell_type": "code",
   "execution_count": null,
   "metadata": {
    "colab": {
     "base_uri": "https://localhost:8080/",
     "height": 1000
    },
    "executionInfo": {
     "elapsed": 1141,
     "status": "ok",
     "timestamp": 1608264397886,
     "user": {
      "displayName": "freeai time",
      "photoUrl": "https://lh3.googleusercontent.com/a-/AOh14GgxvlF_Oni7ZMdvrndxf2178ORhoNGeclnb7GQ6=s64",
      "userId": "11272871337215191422"
     },
     "user_tz": -330
    },
    "id": "muhpoDhrEZeS",
    "outputId": "bf35b245-c815-4077-891a-4f563b634510"
   },
   "outputs": [],
   "source": [
    "df_train1"
   ]
  },
  {
   "cell_type": "code",
   "execution_count": null,
   "metadata": {
    "id": "EcCJNjf6Dq-H"
   },
   "outputs": [],
   "source": [
    "# split the data into independent and dependent\n",
    "cols =['time','August'\t,'December',\t'February',\t'January',\t'July',\t'June',\t'March','May'\t,'November'\t,'October',\t'September']\n",
    "x_train_add = df_train1[cols].values\n",
    "x_test_add = df_test1[cols].values\n",
    "y_train_add = df_train1['Sales'].values\n",
    "y_test_add = df_test1['Sales'].values"
   ]
  },
  {
   "cell_type": "code",
   "execution_count": null,
   "metadata": {
    "colab": {
     "base_uri": "https://localhost:8080/"
    },
    "executionInfo": {
     "elapsed": 1129,
     "status": "ok",
     "timestamp": 1608264398785,
     "user": {
      "displayName": "freeai time",
      "photoUrl": "https://lh3.googleusercontent.com/a-/AOh14GgxvlF_Oni7ZMdvrndxf2178ORhoNGeclnb7GQ6=s64",
      "userId": "11272871337215191422"
     },
     "user_tz": -330
    },
    "id": "g_CsA3YoESRw",
    "outputId": "a3d1adc0-9ece-4f1a-b6d1-0f305639c654"
   },
   "outputs": [],
   "source": [
    "x_train_add.shape, x_test_add.shape, y_train_add.shape, y_test_add.shape"
   ]
  },
  {
   "cell_type": "markdown",
   "metadata": {
    "id": "6ew0LOUAE5SS"
   },
   "source": [
    "**Additive Model (Linear Regression)**"
   ]
  },
  {
   "cell_type": "code",
   "execution_count": null,
   "metadata": {
    "id": "kg9IlKofETo2"
   },
   "outputs": [],
   "source": [
    "from sklearn.linear_model import LinearRegression"
   ]
  },
  {
   "cell_type": "code",
   "execution_count": null,
   "metadata": {
    "colab": {
     "base_uri": "https://localhost:8080/"
    },
    "executionInfo": {
     "elapsed": 973,
     "status": "ok",
     "timestamp": 1608264401611,
     "user": {
      "displayName": "freeai time",
      "photoUrl": "https://lh3.googleusercontent.com/a-/AOh14GgxvlF_Oni7ZMdvrndxf2178ORhoNGeclnb7GQ6=s64",
      "userId": "11272871337215191422"
     },
     "user_tz": -330
    },
    "id": "bLGDtx7VFAlw",
    "outputId": "634d2195-2df4-4d7e-d671-0bc6f7cacbe7"
   },
   "outputs": [],
   "source": [
    "model_add = LinearRegression()\n",
    "model_add.fit(x_train_add,y_train_add)"
   ]
  },
  {
   "cell_type": "code",
   "execution_count": null,
   "metadata": {
    "id": "pRjgQhavFHIW"
   },
   "outputs": [],
   "source": [
    "# fitted values\n",
    "y_fittedvalue_add = model_add.predict(x_train_add)\n",
    "# forecasted values\n",
    "y_forecast_add = model_add.predict(x_test_add)"
   ]
  },
  {
   "cell_type": "code",
   "execution_count": null,
   "metadata": {
    "id": "4kSq_pylFhBK"
   },
   "outputs": [],
   "source": [
    "# margin of error\n",
    "# ME = 1.96* SE\n",
    "error = y_train_add - y_fittedvalue_add\n",
    "SE = error.std()\n",
    "ME = 1.96 * SE"
   ]
  },
  {
   "cell_type": "code",
   "execution_count": null,
   "metadata": {
    "colab": {
     "base_uri": "https://localhost:8080/",
     "height": 483
    },
    "executionInfo": {
     "elapsed": 1115,
     "status": "ok",
     "timestamp": 1608264402979,
     "user": {
      "displayName": "freeai time",
      "photoUrl": "https://lh3.googleusercontent.com/a-/AOh14GgxvlF_Oni7ZMdvrndxf2178ORhoNGeclnb7GQ6=s64",
      "userId": "11272871337215191422"
     },
     "user_tz": -330
    },
    "id": "NpAm3imfF2OZ",
    "outputId": "eb805633-696d-4a57-d634-180faeabc93e"
   },
   "outputs": [],
   "source": [
    "# visualize the data\n",
    "plt.figure(figsize=(15,8))\n",
    "plt.plot(df_train1['Years'],y_train_add,'bo:')\n",
    "plt.plot(df_train1['Years'],y_fittedvalue_add,'c')\n",
    "# forecasted data\n",
    "plt.plot(df_test1['Years'],y_test_add,'o:',color='orange')\n",
    "plt.plot(df_test1['Years'],y_forecast_add,'b',color='red')\n",
    "# margin of error\n",
    "ci_plus = y_forecast_add + ME\n",
    "ci_minus = y_forecast_add - ME\n",
    "plt.fill_between(df_test1['Years'],(ci_plus),(ci_minus),alpha=0.1,color='black')\n",
    "\n",
    "\n",
    "plt.legend(['TimeSeries Data','Fitted Additive Model','True Future Data','Forecasted Additive Model Data','95% Confidence Interval'])\n",
    "plt.show()"
   ]
  },
  {
   "cell_type": "markdown",
   "metadata": {
    "id": "NS2Y_I9_JmeE"
   },
   "source": [
    "# Multiplicative Model for Forecasting\n",
    "\n",
    "![image.png](data:image/png;base64,iVBORw0KGgoAAAANSUhEUgAABfAAAAITCAYAAABITT3VAAAgAElEQVR4Aeydy7HjuA5AO5oXxN3cGCYHV6cwEXjfAczaIfRyVs6iF1OORK8oCeAP/OhjW7ZPV922LJEgcABSFERLPwb+QQACEIAABCAAAQhAAAIQgAAEIAABCEAAAhCAAAQgcDgCPw6nEQpBAAIQgAAEIAABCEAAAhCAAAQgAAEIQAACEIAABCAwkMAnCCAAAQhAAAIQgAAEIAABCEAAAhCAAAQgAAEIQAACByRAAv+ATkElCEAAAhCAAAQgAAEIQAACEIAABCAAAQhAAAIQgAAJfGIAAhCAAAQgAAEIQAACEIAABCAAAQhAAAIQgAAEIHBAAiTwD+gUVIIABCAAAQhAAAIQgAAEIAABCEAAAhCAAAQgAAEIkMAnBiAAAQhAAAIQgAAEIAABCEAAAhCAAAQgAAEIQAACByRAAv+ATkElCEAAAhCAAAQgAAEIQAACEIAABCAAAQhAAAIQgAAJfGIAAhCAAAQgAAEIQAACEIAABCAAAQhAAAIQgAAEIHBAAiTwD+gUVIIABCAAAQhAAAIQgAAEIAABCEAAAhCAAAQgAAEIkMAnBiAAAQhAAAIQgAAEIAABCEAAAhCAAAQgAAEIQAACByRAAv+ATkElCEAAAhCAAAQgAAEIQAACEIAABCAAAQhAAAIQgAAJfGIAAhCAAAQgAAEIQAACEIAABCAAAQhAAAIQgAAEIHBAAiTwD+gUVIIABCAAAQhAAAIQgAAEIAABCEAAAhCAAAQgAAEIkMAnBiAAAQhAAAIQgAAEIAABCEAAAhCAAAQgAAEIQAACByRAAv+ATkElCEAAAhCAAAQgAAEIQAACEIAABCAAAQhAAAIQgAAJfGIAAhCAAAQgAAEIQAACEIAABCAAAQhAAAIQgAAEIHBAAiTwD+gUVIIABCAAAQhAAAIQgAAEIAABCEAAAhCAAAQgAAEIkMAnBiAAAQhAAAIQgAAEIAABCEAAAhCAAAQgAAEIQAACByRAAv+ATkElCEAAAhCAAAQgAAEIQAACEIAABCAAAQhAAAIQgAAJfGIAAhCAAAQgAAEIQAACEIAABCAAAQhAAAIQgAAEIHBAAiTwD+gUVIIABCAAAQhAAAIQgAAEIAABCEAAAhCAAAQgAAEIkMAnBiAAAQhAAAIQgAAEIAABCEAAAhCAAAQgAAEIQAACByRAAv+ATkElCEAAAhCAAAQgAAEIQAACEIAABCAAAQhAAAIQgAAJfGIAAhCAAAQgAAEIQAACEIAABCAAAQhAAAIQgAAEIHBAAiTwD+gUVIIABCAAAQhAAAIQgAAEIAABCEAAAhCAAAQgAAEIkMAnBiAAAQhAAAIQgAAEIAABCEAAAhCAAAQgAAEIQAACByRAAv+ATkElCEAAAhCAAAQgAAEIQAACEIAABCAAAQhAAAIQgAAJfGIAAgaB2+U0fH9/D6fzNTt6PX+Px76NY1nhwo49ZBRER7sf1U7U6AO/1Pz0QDVoCgKrCBC/fdj24PTuY2FI8hVsvV3Pw+l7PpeezkN+pg0tYrtF4BV83rKB4y9I4HYdLueT78tu3nw6DZfrbTdjiO3dUC4SdE/uW2TvMR9YBOIghbcwO4gJb6MGvngbV2IIBF6SwEcm8G+363A+xRPOMVl7Og/ny3XYb9r5kjGhSsskybEZ+VzuTOZ6nhLjclGffZ6G00N8dBsuJ0ksXLJ42OPEvYcMdVRl41HtVFRoH7pd5ou/07AsxOp+ajf8YSUa/ctddI/j3527+YdRr5hL/FbgBIf24fQSY2Fg9ZbN49t6Hc7J+f20bPDfgudgdYP4TpjI3Kv4efLzk+P7/GDYUWcHAmk/nha+fH8vncvVVSG263zudfSe3NfLDsbLYPy7F4MjyV3PbI0VAecN56U1Lb9CnT198fvnj+HHj/nv69fwZxiGP7++/D451vv587eTMPz6CuSO+16BLDpCAAI9BD4sgX8bV4oUL4bCk1RpdfXtNtzGvx68r1rGPnHf/QK7kWCM/XYazjuu8Ek9JTcvLJv3OHHvISPV2fr+qHastrv3rU7gD0PNT93tf0rBBf3LivtPwfRIO4nfPtp7cHqJsbAPR7PUU23tmiOlib/v4XPHHHu+Fc935gUF4RzVbQcJrKf6vBmRFHhHAhpz3+fhjtPxQdspXZe9I9wD2HRP7ltk7zEfOADexSpsYba4sWGf89Lydl+jxm6++P0zSNR/Db9c9n6XBP4oZPgKkv7k8F8jttASAj0EPiqBrwNuehFkfDfniZpojC+cekC/TJnx1wn2xeLdL7A1wVj4Of3tNlwvwc/ud17l0+sjjSMzSPqk7CYjuIC3Wt6jHUvurvu0X+27amtXHd9BWK1/uaTb9TKc5Zcn39/DhvB+B1rY8EIExnHuHcbCnZg/bdzXsbw9R5IkzJio5hE6pueX+HFJWbOxD9zZM24cCcux9PU34bbMFXpsIrafE4X35H5P2c+hdf9Wj8LsKHrcn3i5hX0Y/B5+Bgn2H0GGffsK/En3aHX/j5+DW5vPPwhA4PUJfE4CP7ywlIS9e2TE+Tz/yU8/XfLaTiDHF5z+p8uvHwaTBdEzaYVR8Pn0BL6ADn255cpB5C383OPEvV3GfPH0Dkkr9ScJ/IWhuKx4LYGvkoJVN43Y0ipsQOCpBN5oLNyJ4/bzyzpF3n2OtI7K+lpL/Lik7HqN3qlm37hxHIuPpu+sz6aFNH02EdvPicJ7cr+n7OfQun+rR2F2FD3uT7zcwh4M4iS9X33vWv3z+9fw8+fP5O8rWlHvHrvzlZX5OfyUZfyjoF9Rna/wWNk8jkAAAgcn8DEJ/OjC0iWlC8kp93z8i/ksVpmslp+NfnBfV9XL+Mwvogp/xn2YBP4w+J/UFvxYNXbjwT1O3JtlSDK2Yf/mdjay6qpOAr8L0+ZCEjOFG5Qi348F9o1MKccnBA5BQOL6HcbCnYA+Z9x/7znSTq5ZJGaJH5eUXaTEuxbuHDcOY/7h9JX+vmHhRadNxPZzovCe3O8p+zm07t/qUZgdRY/7Ey+3sJ1BefV9udWkzo846V+qxyr8Ehn2Q+B1CXxuAn/Jyu3KY2V8gruU7HKPpjgP7gWRvqy7gXAaTudL5bmRwUpYd8NB9b0N13PyAl73S4JND6CUibg8OmeS5xN50/5aAt/pJPadVNeFHUMm840Eo5OqJ88saeO51fSNZBj6qvyFx9RidyOo4qeafJVhbcxyhbX1GaqctjM9JsX7ytV3Lwa+dMXP/Aij4DEr7mVlrv71tuHNpxsS+Kl9ITI5Jjyeabtre4yHiF2b/WRDcIGcjEWtGA95DL39S8sF7UaC3JctsWDVlbEn/hTfuRbXsbDa6otZK17GeD+X+8vSOhKjfnzPQI+srXPI+NLh6y17yXYoQeQLR0u//v4fSo639VyRjcdBOY2r2vPO7fFb7Ig4PXUsDOwyN+3z/qN8lvPyXCOGpu7S18oLHbJqybhknZfiXzYG+sy/8pMY9bLjMjrWlc6tl2vUF9xijHMy7xL+vg1ry/Zde85mydq2L/djWV5adltfXz9uljVMj9icxUflGYWPC42JVPT8PWUy7l45bkh85lz75/KP0LeAorB7hQ8cv+hRlvE5O+7npWan+bE9TkzyhLeTkPox90F7LuU1uU9si46T3sI1ZGPEyTxGnYJfOrtxpu96TtpI5/Pz9Zs3uLxVGkvn6wGxqX7OWMezT7atequuFR+tuZvdUrp3PXPRWeLa0rE1FxMZ3h9+LPT7Up39d61fm6f54sUtlSPGFEtK3w2uJZK5gj0mbospUWsNYzVll76h0vKN6Nn3P4bg6Tl5Wd2zLoE/rGpLG2UDAhA4IIHPTeB3JIlHfwVJh9pk05y0amIynMTl23bCOzgxj5M7lyRNE+2JrC0nZdXVn2j1JD1PLu0T7Ti71uS9MJIT6KKYV9almyFemuqWNeS5FfWdxZRlyKQjvHHS07YKHqIJeTg5d9uny3C9zJPuTH/fjrV1cxdO7uZPIHP87vbNf6HI0MbwJov4Kfy043DWIpl0hfVku8XbsmfcZ8ResWxyILQvOaQXfU6v59nu41E4jRcSgf/c/hJ7sW/0qfYP3+8XMdf6jf6l5fxYELHdFAsuqRbof3KPMIvjWS60zskNzsUsNujZihenY/pDrXV1ZhZhpw1hd9jwPd5ACyv5bWG2uQ94kfZWK2bCJMw8BtoJOn+OC5GIHeFF6tPGQpuA33sAn1m8um/gDd4HXeOL+t73az/WhfvCcScfF0N/TzCTMm5+4xZDJGNn1Nb8LH29oVQqe46T/eo8PReFeufbpfFa5ey0YfqxIDss2xqLqvp3xG9XXBT0HHd3tFEe13xctPQImYg6a8eNaQzNYyGMP1ufx+ordjY/V/rAxdY01wxYBPPPcUFHo/G1PnDj/1FjW2LtdLkOl2COE8bHtO0S7MPQM0YVMa70XSSvOZZ2XKd06GH3ifo1VqSn8UVYh/MBKdaKD2vuJnWrnx22lscsb+80jsQ3XdIYKY3Ppt16/g3Pr5YlC8/rloh5n6lHobyUHc/vqqsfO7L46OCc1Un02sJ4FLVH3yjwkN3rVsWvTOAPSb2+uwWiKp8QgMABCdwpgR8nzNxKc/ti/YFErAuznpXHxgknPdlO35OTp9Ve6WLSJfDSbNDKN8DncvoZ367xRa2ceMXeomyDUX4x3qGHyklYZlX9RCRvZ9vFkjSltucNaGLYmjwOod9doj4KfLeqIJm4GfJFh9qnTv4bN23Ujjn23MVFpJJbSR38esJWx/POJ6ixTXb9miVugfFlTsrkSdFGzaovjmK785W9sqbNTmw4nefEVfRrh9iTLVa9CTyNLfMm57ZYEHusR5j5du04kLp9LDboqePQyfhliluBdRnczYWI/po6YVLb7DipDVGLw+0WvnTYHjOFmR/D1/T/ZmQ5S4bzPMaYpuhxuVlj61uKUbXDEK5x85CxsMXCc5jGyuf4zObldTMwesM0lgs+8iWnLS3vL8ol3uLPUJ4/T0uZXKe8jJTd4zNrT89DLTum48X5UMpnw3fbj7ZALXvkc/2ouo/DdX3Ex0XLB8okc3aQQN06briVmkHCNm/qsfra0ZHu3eoDJ09k2OfrtEXr+2PHbtHXLaJxC6JCjdpzsbC0ta2xNva/03C+xL+Oc/OG7Oajpcfi+XhkSNe8wM+55wVFkYiYxTjW5kEd+H8dT+VlyrYI+33FunouWjB382IrW2nsRMC6mKvOG8ZnlREx87pFu1NrlE14Hk4L9X239bDrStm7z9vD+fQGxvv0DZuF3/tn+PX1Y3DPsB//vn4Nf/zBylaSiO98hM4wrG2vogqHIACBpxK4SwJfBuz4Imv7SWMrKVuvafJRe4TI7Tb9bC6yZ0zO3obxmDsenc/9hF3rJMncfCVZOgk2ZLiT0njT4Tpcr9fhav6MdT/OKa/ixVJ24Zva0um55gRjTp7NF0u2Pp6bfdzrovYZs57NxyoXhXrR4vxptO01LG+pjEo7rrbaYd4kEvmemaVPT1taxkz6SjuFT42f5XGj9hkc9diRbQ9u1FnxGtpgJb0LRO3dzf7lqvmLgd1joelnH4dbWWg8VvqHlkliVvcbMWWDDZJBC+qMtM9zstCo531fG9Pr/vIyrJvEYo3nbvlcSrU+tS3DFk3Mn92jpCabrWIl9jXZWqfi64j1hvGgm0ESU3G9+/usxEv3V1hpGctBsSH6bY85Ut5cEJfzBfk0n3LJsdocaO5TwVzJPb5M52IiK2rQaGvxnE1x7LaxxBdadkN89/QlLVON8TICr+facc37yjpPhC1rW5GvpxJqR6UvuJIqo5drJu+x+ob2l7a9TWt9MJKZb9oun7eJXnfzwUp/qz4rYtszrZxrdQ7mxqgSex8v1vnYt1OqH/rGvsZQGVmsimeCOU3hOkVZdcnIdVUdDF95LeytUl3VaYVMu6Vpr7ZX9Jkr937n9RIT5dHBWcu6OKrEimtL/Vcpp2UMX4Rtlc8Nnf2rSwe7f5W4+f1JIr57RXxSrzuBPwzxC3N/Dr+9MmxBAAIvSGD/BL4maeaLKLlY+v4efzb4XEbBwB3opRd22WqIQNto4tU4EaVljRONk+xPRBOr+IRj6ZpPgqK7xbNNHefUwLDyZngydIxi/ZJ64/Pi3OMw0lXnSbna14xbHkOjHtEq5FSg51bVN7wwM4Cp7YuO+QmcUS1Q1JezJuhBweKmxk5lkuEqqx2FGJQGVF6muNc1OySV3WfQ76vlwjqyrXWXXwiqfUajeuzItofjQNWG5WwEr35q/zLGkSG+OWZfXG6MhWr7k5bqs00stumpfaHRt5Rr6MMFdVz9sr2dNkxC5uRk7leVv7oPhFbWt2vcRA83Jmu5zMflsVvqW+OlymuwVxl3Y3Ecn6mtKePmWLvAhjQctH/P5+2qP7yvZf6VquresxGubJ7KGeNg2m4hUaBMZO4X6pfJyPuSM1djbZbRmmOkiJZ+V51zOJkoLbs6vjt9rzG0Zk7f2YazTn2S+sLHRYu/MjH4qS/DOMioBmN0g6vXN43Rx+prmJDs2sMHo4OekMBPYyE2TX2a+bvT5g2xrbFWi5NAfi12N9sxuudcmBd0sqgmpDtlBPamLlFe6YHYpea3Ul3l1ujTptDizk5bXf3imNU/jqgNBpeS3f76Kx17xKgFNkiVymdRD6OOljUeOxkX79SxJ6ZqfTA8j2eMO3Wo9o3YKvPbn1/Dl6y+//Fj+PrVt/5+SB+FszqB3/fyW1N3dkIAAocgsH8CX09gefK1NmF5HA3388Dac1QLLxBK7apMEPQELBeK2UlitjY4EY0Xp1E5P+mXC9wSP3+CnJlHctaTTeWW2l/fQlIzZSz8jM/yC4A9t5a+ap/Ba9Ux1b80iRJ7vY5WQkpK1T41xipx6OqrHY1yRXkao/ULp3D1SYt7Zpe20eKW1fT21Xx4ZNurk8l+/+VkjD0an/nYLGOM+yw+8kz9tDIWtP1yfY3XDf70FzPldiY6frIexazaOf3iKf6pvcHV7VpTJ+yfqb3KqqNPBG3nYnqSqUFistFXCtZPu1WPVGfhPO/Xcol/dH9aP+gHqYFh/2norrHVKFccC6vGhxfvuf5ZVbU1T4LuoafKyHj5c08U86Kgxl3iGzle+9S6PTHn9ZCxJ1PVSuDnheK+N88VrGI+uZLrpz6XuYYpIOnnrmypXI3TgmNlP+ZCtOza+NaYbPle+nNjUUeuouvIc1JxSx/xsWPGcNCuMjH8pD5v8FIZjXLhHChu7rH6Bubbm7v4wImWOOjwpa2JvyHWYNvrg6JPHxDbfToKs3zcDxEV7djDd90yfNxm49wOPJVX3FlCDMXtYl3Va8HcrdjKfKCbV3x+SM1SnRuxXvR9bb4YnCvNMVFtaI3tLRjTcbUlNdKormUbdvs5dEtH34dSW3vbKjJWTq0xrdI3DAbZrtUvlV2/Ap8X2WZeYAcEXprA/gn88AQqF0O1i6qn4asl8o3BWwf2/OIvNUFPIon9cqFa/IxOcMEJosFPT0bSnpxUK77oeZFPakd6skzt3vxdGZdP4Lf5zfATw+llUHG7nltLX7VPeAWCVh3r0F+aqMmXMrVP9XkUM3mN3naK8tSmOe4lxiqfLe6ZlhqnRr/LCsc7avbVjoVSHmK7i9vLeTjPL3szx4CFcRja0LXd4cuq7zrqp3ZF8pp+rvfdXn/6JNGGmE1fYnWabuxGT0pLoa+oU7RJWZfHQt+8v6BJQ6go31cet4p9IClX/+r9F+khtuhY1VvOt1azo1f3mgzf0oabGWJnY/XX1NZ9fVa1VfRUf3jrq/V8MXtL5Mq5wZDvK/oYkDEjipmxYF4mGk9UmGcp84LslUKubEU/tVt07/2s2qgKrt5QvXI4mczessX+kvLpYGD7I1PN79A2toxrPi5a7deYFDl4bcetmoy4aEmv0v64tvtWa6tX31xqsmcXH4zaPn4FfqMfFBmpzRvmBAnG9GvNd76sjFX1uW7bjg39R1m0ZRRtUhnreRZle1jFrWrdFfOwYkPugNra5uVvauU3aKo6BwoUfd8YH1RP45zU23agRnVzibzussr5/jFVZKw6tH3dbZdFkgS+RYV9EIDAAgL7J/DDk0x0AdAeEBfovWPR+CWecjGZrTjQgX0+uRgnSVFKB/bI/o6TUiTTT/pFp9LcVU9G0p4U1ISZ1XZ9AulsSe1oXSyJ/as/lXE7VrzNaVnPraWv2ie8AsXXHCvrFAieN2vy89L5Hm0ripm8XG87JXm638XWnHw+NT7dy7sW/dM4bcdkKrdmX+1YKEdtTFjq/i22367DOXjBnevLyu/sHjl1Hk5yfGEchjZ0bVf6l7KqJB+38/B9042vaZS494JMY13apyfrVEeDU2j/dj1Fmn2T92ToLjXcYz+sX3iV6pRs8jbYLHx7bkuSAvmK2JL8uP6GpHUiyGpP9oXjsdoX+FLKZefe8FwUlJemVVbSf+W4fNbkSxn32SsvrBPVq/QhX+e+Pqvb6tuOccr+5ePwaJf23/YcyXo8TqzLSDR7hE5expUTvWWeU9C/op/ykjlU72cj5ry/122pXrbhkdDesqX41v1bzneRRvkX38aWcc2fR8IxJW8tmMMa/FSXhg97uYYxHev1WH0tDuE+tXvjOOX7XaG/hY0WtlWXnXxQkqf77xjbfXEiY1WdmeqbcNH9G3y3REbJJi9j/XVBSXYhVKLd7brL5mGR8OSLt3XLmFUfi8Imtb3E965M3W6JrfTmgeyvx1yoQ2u7rkdcu7es2r2hjy5uK2HsdWj7uretmMb8jQS+iYWdEIBAP4G7JPDHJEbw0rDiIxn69bx7ST9wFy4+Kxd/qXI6sOtF4Mkn7WrJz/MlSGr5Sb8k8OOLAt9q1p5crGhiVC5sw8/2yTyVW2rfa7JxSxm3T57+53bpZMVza+mr9gmvQP1VxxboX5MfqFHc1HhNJiBphd52ivIW2JS23f1d47Qdk6nMmn21Y6Gc+9kuE+f6z3lretaOhTZ0bVd96XUt9ptq/S4NksddnIbTfBPD3+SwflUzye5msYeeiTnulz9ex9mfSZn0a0+dok2LbPC+S4eyovxE2WIfSMo1v2Z6i25J39Y+L2O9H7dTG1ybNTt6da/JCO3qlRfWGbcz27MSwQ7hkp6/6rYGAqo3Glq2WsdX2y1Kqf2FOZSUGz+9v2V+k/u9p4wT5llOspJYk3Yr+imPTXM2aWi/T9Urh5M10lu26GflI30ya2L7jkVteL/G5vu4KJ6rZk1rTIocEitrMuKiJb1K++Pa7lutrV59c6nJnl18MGr7givw7xfbNd95D0hMF8aouWDR13v4boGMok0LZHjb462i7LiY+W1J3Z55mNmI7Fxkq/j3jc7rwiH4XMK/u+wizoEywWZvW3v0r962AvX8Jgl8z4ItCEBgFYE7JfBX6fLcSppQkCR3MtHTk0v74lRPDnIxGF99dNrpJ/1ygWutTAxX/Ug5f1FzG67Xa/EvXQGbKqYnqNkOLzctudN3ZZywN8X7iVKsl+cW70+F+HIWV7Xd8F3x2AL9izJSNQvfNcYelsCvX3AU1OzbrX1veRs1jrVjoWJFlurP5Xo5+Sq3sVqqpmftWGhD17baY/cvr2/BXq1fON6lxPSc0LOMjfrpkvn1F2B3s9hLT8Oe2/UynBaOh7U6RZuW9Akte5+LRgNDZZeMy3OMiC+ycUrKzTqrDXZsFjmF/SxrI1azJiMsqf2gIS+sM26rDR39Q8vex2dNW7V94e3Ph/XzZma13yG+lj5d5efbk3lLfqrtKeOa97G0NoGvPhfdc2W8nQ/cavox0KW3rNqa+kf91xG/QbuLNjXuOtrQsmkf8XFRj1VfzprjFTkkBinXlFdSLozDOHy8Ho/QN1Mr3aFct/jACZV+1yEn1WH+vtgHMdhMalHeA2Jb46SqYx+zoh17+E5ZyNifYdQdRZtUxnrfF2Vr6+WNNXVr87ByS9N8dZrzddiq/knHrPrNubD9ou8bN/hGGdq++LZ37Ak1aG8v4d9d9oExVWSsOgi/MotuuywRT3iJbfwMfF5ia7mFfRB4JQIfksB3JzGXILoOt0LWWgd0uYBLJ+s6sLcT+PosOpHVSODZAeNPvHKB+23J0RO23HjIJw62/PZePUHNdtQuPqZn07tHgtSTcNVWlXH75Flegd87UZKJtP0iOrXdmIyXj3mZRrXAdF/OurAMChY3NV7TOE1qlHWNC5bleV1r/o+lLfymMdwxQU5E1+yrHQvF3Mv2vvaDfm4ETZ+M0JrKdrN/BbqYcbVHLMhK9vPQ9XLYwJx+FnvoGTScbJbjJSkYfC3VKdvkbTDCIpA8XtUVHz1Ulh+LKOkXl+r55mPIjRci1xo7RLfxmMSmGXf1MV3a+C7UFa2lvdaY2ytP5PrP4/isbav30xhfG8ZgtV98KPOeqj98+zK/yeO8p4xr3XNfm8DfZ86mJHbbaPvRN9VbthzfnqPVX31LW7Z8G7m/E7kaT/l8sM9W35bV58scYj20LWv+HRZVffN5jMqoGr2PvqFK9rZvp6qOq6w25T7w/S63124337vYBw2Fy/K8zfeK7WU+rjPrsaOBouI7z6Iuw5fL+48/tpZnH688ZqawnK936wZklctcs6LBDm9rs7lKf+m1t6ZjW4Y/Z4667nFeD0jIZlsPKVmfu/lSbstzvndMlRl7Heq+9uXyvhFbZX+LX0b79euPXSzbG9f78aM/Ef/n19fw48eP+a+/XqYCOyAAgUMQ+KAEvk9wuxe46qMb3CMcTqc5AeLLZCcQPTEHZVyyelzhfhku5zAh5U+icnHq2jxfb8PtFv9dr67uaThlFweWDNf2aThf5lX1l7OuBvXtWBPtdbGmJ+lWAl8nCcKmPjktaqOM2zZ43fK29FglgaAncGebcaZWGWuPVdr2F0V220U+4YFOVjU7QnHKw9BbZXznrEMZq7c1fpbLV90W+inU9Q2Vpz8AACAASURBVF62q24GU21f/WjHgsow7FMZvRvaVqV/aRn7RqDqszIWhHU2vnbYoG13sNCyK/WsqSM2WONGqV6pjupp2KR1snND2Er9QqImP5SibdViNaxQ2VZZ54s+w9wwzycYTu4cOJ07SnFRtUNjthLXYy5qPj+ZyniDVP8VLLTuk31W5TWbqrq6hQ2XeQ7UYOMpGVvqB5kHfE+/qumcI+VN53OgvIzTI+gD41ylcB5J9Yv8m7e1fM7mVLmM7zVxc709/vX4UdrpLau+juyfpKiMO4yboqe2v0cfMWzI27HPrX4e1jluuPfXFN/vE8SPoZNyNY7tra/Iq33u4QPf7wr9raaAHNM+2ekDewAQaX4cMzirD+4U2yq/qqOMVXVm6h/DDj125/7j+4fdf9TelTy1fpWXujbaWFtX2S1sU+vtwbzRtrZl+L7Hbq2/13k9Ij996dFDqq0qe+eYUkY1xsYxsanVN7RccePP8OtLkuk/hh9fv4a+FP76BP7vn0F7P34Ov4u6cQACEHgFAh+awPcXmD7xHe6zJpMy8QrLhdvJhEyTkmGZ2nbaZnBBICvaOj7LFxjLw1FPvHO7Rdk6Cff2NeYotjIqJ2Xhi08r/YMbLlZDKmeaeMaX0u7lRkF9Z5shQ21feCz8ZYBbERpfx98G96JOeQTHGHuGfG9tZSuIr9ILMl3tmh2h9NqExl+oOf/ON6LCyu5Xprfr9PLO2qQnqaNf1ZbTcDFucqU3vbRew76n2x7E4emSvrR1exyGHLq2VZ9y/3JylJt5sRKOg8tjoR5ndStUr64+s17Pm7sxWvglUeln2GvqRKxNmwIbTu4GcTKSRc/lt33ay2yLXzKvSX92v3obzx22bn5cce+ImcaWUn6saoe05xJslRcMV2UERmxjcQyf9dkqurpfzk3nbjMMAzb1TZHn5wHx/CqcI+Xzm7ztnjJOo7TdsJ1AYx3/Zv3Sc1UQR7HeJXvSuA71KOgQqNOz2efHSVJv2Xp8xzaMi04SRTed60dZQRsrx7U0gZKMjF1zvHCu1jVu6Dw4OZffrnqj0s2PzDEsjL1sjOqbC/Tqm7ir8HUHH2i/K9hcaDnaHfS5Lh/kg0Qibp7bp317LBXYfId5bF//Ex3qzLr76Nr+E3Bff50itrjxcflcsI9X5F79Uqq7dh6mgosbga0rmZd0Tpus+b5Phui613k91TC4Rmj0R1ezT2dpQ3S/b0zVGIfj7Pq+IfaUP9cl1Ncm8JN6P0nflz3DEQi8BgES+POkXC/YxpOz7Twd9NM643djQhYlWEoXgbI/vRhML17dyvsk+Zvo4SbAe/7TE+/czuMS+MKk/lmf8CdJ+oSVS9qrPw1uavvCY46/S9JrPKXtuu/u4kLKGPJ7fag6in/GJFi8clrLNNpRFuaFz2hU/BJPyy6xrdcAKRdeTJTkBvtDU2r21Y5J0+7zfranfdj5Po7LMYYrsdBrQ2hPcVvaMRPzQa3QHyFsKdI7rpmxFE7Q7f59Mi6QXNOLWazUU+NBY04S0YG+SRJmTZ0um3psqJyzepmp/qbPxPG9n4mPrRiaRal+I+v0HOjb03IFWXp89tl0Q+BOY6FXy946gM+UR4GXKK7lGvylfOtT40j7TtBnouRmPjbmqvaUcRol8Ra1E2is49+skxXrPb5T29J4DfUw5oOBKr2b6p8cTiait6z6yLLfSe1lUKqfaWbs6GmjMq45iddzfC7N5lyNOd4kI4zP7/lGoj1uuJvwl3mOlbU1x0TtlxeP0tegbe/a7AOJ922xrnE7M7zr2N1js9NjRWyrHdW+2sdslz7a6D96DaLjWdwXuq5TNvDs42WHbqmuclOb2nM3uwVjb4+tFeYlndOW1AYjBntlaLmRQ3qeSltc/l3lV2N9kruk7Fijh3Ohj/a2VWPsdNilb7SwrnqRbZKI732Ezqq2WgZwHAIQeCaBD0ngT4hl9bZMEP0k3K0API+rf1vOcAN7Vv80PdYmXgXkJblVm9NjcpIJknuUj9TNKhcuXt1qn/GRO15Wr+5eo74tPRnOk6FiAj+5mFp9IyG9wNZJmLfVJUCn1bEZsMwoxz19PFLEStozJiFq+8JjqoThJ6e7XuBV2lYZzQ23ciuJx5Nbxe4r1uzwpTqS2HNhi6nrR+U4DlspbIcJY8vnyb7QJTX7asdCTVqTOSm7znbDRyOvYLwR+0PD5kZ7bRAdq58Sc60EfnhTo5QMGye5ef9qxcLEMOjPiW/9mOySKHEfX8tisd9u4rM0QVQ5T6yps+CmhGXD2OfcL1YqTu9l1tsHKk1Fh7Td7zgZFhVyXzQm7V9CSXmVZ/SRqYz4LIitO4+Folvp85k+a/OatZaxx/XDItuShfb+vjlSYX4Tiewp4ypIUkx8X0gohrHm7DUSJNK88106z5rGptqcLUgqV2RLGz2f3X5cMpbILxAbOlrx2xrfe2wKy1ht9IxrIsOuH5xbxefF2F4+buRtypxUtCp/5nXd3Glffcut20dsnewV1bEE6XeF/hYXrnxb7oOSsN7zmGXz1tju66t9zLbYsaT/uJt12Ti34jplDc8+Xrani3VXzsPsVuy9lq09zIs6J83UfN8rI1pFXhz7koYXfO3WY8F5KW3e4tzqo7161RirHjv1DZWXbSTJ+K5V8UmdzgT+utX+mcLsgAAEDkTgoxL4B+LeoUrvxWuHKIpAAAIQeDIBP2kO3xcSK+UelyTPQzdf2h0X5xsEILCJgCSUGjdaNrVBZQi8LoHepNDrWojmEIDAexHgvP4K/nzMi2XjpH//C3NfgSA6QuBzCZDAP6zvSeAf1jUoBgEILCOgK317fs4rFx9bV/YtU5HSEPg4ArJCubEa++O4YDAEZgIk8AkFCEDgpQhwXn8Rd90/uR7fJODltS8SGKgJgSYBEvhNRM8qQAL/WeRpFwIQ2JeArr7v+jkvCfx96SMNAhYBP8eoPR7Pqsk+CHwKARL4n+Jp7ITAOxDgvP5SXoyeT/81/Pqzo/Z/fg1fP34MP+Y/Vt/vyBZREHgyARL4T3ZAuXl/Ep6evcpP3MusOAIBCByZgCbwe1b6yuqhjmf1H9lmdIPAoQloP+OXLof2E8o9lQAJ/Kfip3EIQGAJAc7rS2gdomz0jPqvX8M+Ofw/w68vn7z/0fWM/UPgQAkIQKCDAAn8DkjPKUIC/zncaRUCENidgD5C53s4Xa6FF6/OL7ObX2zLquDdvYBACIwE3AviTvQzogECTQIk8JuIKAABCByAAOf1AzgBFSAAAQg8gAAJ/AdAXtcECfx13KgFAQgckYCuwpfE4ek0nPTve5BfGrlPkvdH9CA6vS6BfD4x9reeX8S8rtFoDoHNBEjgb0aIAAhA4C4EOK/fBStCIQABCBycAAn8wzooPzF3PT76sPagGAQg8PEEbtfhcnaJ+zhh//3t9p2Hs1udf/t4SgCAwM4E0vnEaeprO7eCOAi8GwES+O/mUeyBwLsQ4Lz+Lp7EDghAAAJLCJDAX0KLshCAAAQgAAEIQAACEIAABCAAAQhAAAIQgAAEIACBBxEggf8g0DQDAQhAAAIQgAAEIAABCEAAAhCAAAQgAAEIQAACEFhCgAT+ElqUhQAEIAABCEAAAhCAAAQgAAEIQAACEIAABCAAAQg8iAAJ/AeBphkIQAACEIAABCAAAQhAAAIQgAAEIAABCEAAAhCAwBICJPCX0KIsBCAAAQhAAAIQgAAEIAABCEAAAhCAAAQgAAEIQOBBBEjgPwg0zUAAAhCAAAQgAAEIQAACEIAABCAAAQhAAAIQgAAElhAggb+EFmUhAAEIQAACEIAABCAAAQhAAAIQgAAEIAABCEAAAg8iQAL/QaBpBgIQgAAEIAABCEAAAhCAAAQgAAEIQAACEIAABCCwhAAJ/CW0KAsBCEAAAhCAAAQgAAEIQAACEIAABCAAAQhAAAIQeBABEvgPAk0zEIAABCAAAQhAAAIQgAAEIAABCEAAAhCAAAQgAIElBEjgL6FFWQhAAAIQgAAEIAABCEAAAhCAAAQgAAEIQAACEIDAgwiQwH8QaJqBAAQgAAEIQAACEIAABCAAAQhAAAIQgAAEIAABCCwhQAJ/CS3KQgACEIAABCAAAQhAAAIQgAAEIAABCEAAAhCAAAQeRIAE/oNA0wwEIAABCEAAAhCAAAQgAAEIQAACEIAABCAAAQhAYAkBEvhLaFEWAhCAAAQgAAEIQAACEIAABCAAAQhAAAIQgAAEIPAgAiTwHwSaZiAAAQhAAAIQgAAEIAABCEAAAhCAAAQgAAEIQAACSwiQwF9Ci7IQgAAEIAABCEAAAhCAAAQgAAEIQAACEIAABCAAgQcRIIH/INA0AwEIQAACEIAABCAAAQhAAAIQgAAEIAABCEAAAhBYQoAE/hJalIUABCAAAQhAAAIQgAAEIAABCEAAAhCAAAQgAAEIPIgACfwHgaYZCEAAAhCAAAQgAAEIQAACEIAABCAAAQhAAAIQgMASAiTwl9CiLAQgAAEIQAACEIAABCAAAQhAAAIQgAAEIAABCEDgQQRI4D8INM1AAAIQgAAEIAABCEAAAhCAAAQgAAEIQAACEIAABJYQIIG/hBZlIQABCEAAAhCAAAQgAAEIQAACEIAABCAAAQhAAAIPIkAC/0GgaQYCEIAABCAAAQhAAAIQgAAEIAABCEAAAhCAAAQgsIQACfwltCgLAQhAAAIQgAAEIAABCEAAAhCAAAQgAAEIQAACEHgQARL4DwJNMxCAAAQgAAEIQOC9CfwZfv/8Gn78+DH8+PE1/Pz93ta+hXW/f87+cj77Mfz4+jX8eQvDMAICEIAABCAAAQhAAALvQ4AE/vv4EksgAAEIQAACEIDAkwj8GX59zUngMYE/bf/8TTr4SQ7pb/bPr+Gn+Owj7roEsfoR9vaHAiUhAAEIQAACEIAABI5JgAT+Mf2CVhCAAAQgAAEIQOA1CPz5Pfyck/dfP38NLmf/5/fP4WtOCn/9Iol/bEf+1gT+Z+SzP83eY0cf2kEAAhCAAAQgAAEItAmQwG8zogQEIAABCEAAAhCAgEXgz68pUf/1c/iVrrb/83v4NT9ShyS+BW/Zvj+/pscT7c9SEtpfw0fca5GY/fEh9i4LM0pDAAIQgAAEIAABCByQAAn8AzoFlSAAAQhAAAIQgMDxCUzPvP/563f1uel/fv8afn79HFfmH9+m42p4twS+Pgf/5/C6ry2Qx+KQlD9uBKMZBCAAAQhAAAIQgMBaAiTw15KjHgQgAAEIQAACEIAABB5E4F4JfJH745WfnyM3IXgJ74OikWYgAAEIQAACEIAABB5JgAT+I2nTFgQgAAEIQAACEIAABFYQkET73o/Q+f1zeuHw3nJXmLiuinsHw0e9hHcdJmpBAAIQgAAEIAABCLwuARL4r+s7NIcABCAAAQhAAAJPITA9FmdK/P5wj8fJtJBHmsxl3vV548Fz/n/IS3vH9wHMz//fcUX4fRL4PvktC/BT397tufjyLHppOIuhxg5ZdS/Je+MzvCkhNyrET3mzf4bfv4KXL0cFpsdFSd2v6Fj80mbXH9rM/kwvep5f/jzJ/Rp+tis2oHAYAhCAAAQgAAEIQOAdCZDAf0evYhMEIAABCEAAAhC4F4HfPweXwPwzDIMmRZOE5tT0n+HXvLr7xw8ryb9VQZ98lsTq4s8NCXZJqI83MByM8Z9L9MpNix9DmECWEms/pb09ZQ6SRJ/9I23EHO/1XPnJf5vtSWyo8fX2pTa5G05fw8/xRcwSV1JGvnu/Oj6i9+/5Rc0Rs1pcqb5f/sXPwa8IzK5UM4pjEIAABCAAAQhAAAJvT4AE/tu7GAMhAAEIQAACEIDAXgRcojNIxusq6GBf0JQksyXZGRzaYdNOrEaJVGNVdnS8lmitaKiJYKu+Mvkx7JmMlTb3ZCkyfzg73I2Z4GXD7ruw2qvNP79+BqvMp19peNlJbFX4h4ciG8ID1rbaFMers9Wvfpe4cmVEx/lFzUGi3b0zYGw7ZPbra2Ymyf9ECcd4jMm4fVdK+spLv4sgMZevEIAABCAAAQhAAAL7ECCBvw9HpEAAAhCAAAQgAIHPIxCuJtZV6IJhSn7+eLfH51RtHjOx9SSu4Fn4KYlqn/BeKMAoLknjr59z8j4qI/77MeyTVJbE+I/B3TD4/WeSP97kUKZ+ZXukSuWL2NCjozCsllVdfg6/fn7pSntRQdv7+ppueMgB91m4QTAV8fZbN3ZE7p7+DVVjGwIQgAAEIAABCEDgdQmQwH9d36E5BCAAAQhAAAIQeDKBSlJSEqFWtvLJWm9pXhKtpSSwJomt1fnVhj1LWfm++HNRm0GC3rzJEhzfzYfTs+SnVeguAf5j+PqaVq1//XRJ/Sog46DXsa2iL1tNkmsS3r5xof63mEldww9az1JU6t3lUVMGNnZBAAIQgAAEIAABCLwUARL4L+UulIUABCAAAQhAAALHIiCJyTQpOiWyC48SOZYJC7TxSXYrD+sECY9Sgr/cmJe9OHEvjwoyEsfF9uQGS/A897hsZ8I7rtT5LXwprDx7vrNqWExt6Ikzz7fkOydab8CYyXQvI433qG7WgK+nh/64F9n+Glf5j/4OHsUTmsg2BCAAAQhAAAIQgAAESOATAxCAAAQgAAEIQAACqwlowlMzk07UlLC0kpyrGzpCxeZKaZ+o3dt24bybXLWllPz2tkSu3eQHl7R2j+txL4SNV+C7lwH/WroEX2zouXEhZc3EvBjlb1qYN2CqNwx83YyXth2+CNfZ/zX8HH95sPinB6IwnxCAAAQgAAEIQAACH0CABP4HOBkTIQABCEAAAhCAwN0ISHIySKJOyeb8RZ1ehz0S/D7B/JAV6+Hq7MBWb1O4eruUFA9LL9veO4Ev8sYX2FqqVJPVVoXWvsBfyTPw3Ur06bE6y56BrzZkGfNcFy1b8N1Uw+toiazKqPCq1stVZQ8EIAABCEAAAhCAAAQiAiTwIxx8gQAEIAABCEAAAhBYREATl5KwbyfnJaFpJUn72/bJ1kMk8JWDW2UtLPqtaZUUZvuswPerxUvypD1zJXpL2cLxP79+Dj9/yWrzSQdt/8/v4Zd7jEyhbr67bYOv48tW7VEf2jdgqo9HMm5kSfvKsnrzQErzCQEIQAACEIAABCAAgZgACfyYB98gAAEIQAACEIAABBYRkET6lPQck5yFROW40np8fEr4KJFpe1syf5HCqwtrIjZL0LsE8dfw69fPYbyZcAdjpG1NeK+2wlUUn5VWvMtxO5G9qWmtPLWx3h7RMbXBPV//56D3Ccb2fNmaa4SxfQPG3wSwZNSS+yq30C+GP7+Hny5+5N6GMmIDAhCAAAQgAAEIQAACw0ACnyiAAAQgAAEIQAACENhAIEhs/nQJ7FYick6mlpKZGzS5e1VZZf3jx/BTntc+Jl+nJLImajXD+2f49XPJqvKyBSJ7fcI7kK0rzZ0dwf55U5LRu7SVi5/2iA6WAqU60X6flHer6sfc97iK3/oFhJQNYvPPr+Fn0rbYba7SF33N+PZ9wDP7PT7fftQriBt/3BnzZ/j96+f0+KBX7A+RP/gCAQhAAAIQgAAEIHAvAiTw70UWuRCAAAQgAAEIQOBDCEhy2a0+jxOUBgBJZibJU6PkAXdJIjj+BcHXbItyGL+7leBfbR6dVorsJt8OeSJr/LVAmDjWBHiHHzvauXcRTbj/CP3xc5B7K75977fJNdaKd1/GZCxxm/36wrWSJvDd9y9/kyc4bj3uycUPi++9t9iCAAQgAAEIQAACEIgJkMCPefANAhCAAAQgAAEIQGApAUluhsngggxJHr9k/t7Z5FZu62OAwiStO+gSw3My+evn8CvPJBeotHcLNzO53K4elRgT3+OLZKdEdphU/nLPoX+ZbHLA2908+vmrmAh3z9/XF+Va5aor7IdBbxaUAlfr/xh+mAznGzrBzQbHes8YiZzMFwhAAAIQgAAEIACBtyFAAv9tXIkhEIAABCAAAQhA4DkEpuRm8HiSihpLylbEfNyhPRP4HwcPgyEAAQhAAAIQgAAEIPDCBEjgv7DzUB0CEIAABCAAAQg8ncC8+r60MDnWTx5Tss9z4WPZfIMABCAAAQhAAAIQgAAEIPB+BEjgv59PsQgCEIAABCAAAQg8hsDv6bEk3Y91kceM9GX7H2MDrUAAAhCAAAQgAAEIQAACEDgwARL4B3YOqkEAAhCAAAQgAIEjERgf4zI/5/7PnLz/sSQZL8/KD+v8+VN8bvmRbEcXCEAAAhCAAAQgAAEIQAACzyBAAv8Z1GkTAhCAAAQgAAEIvCABfZHn/CLOr5+/lyXfZQW+vOzWff/6Gn79fkEYqAwBCEAAAhCAAAQgAAEIQOABBEjgPwAyTUAAAhCAAAQgAIHXJ/Bn+PX1Y/jhkvdfX8PP339WmfT759ck48eP4evnr2GlmFVtUwkCEIAABCAAAQhAAAIQgMCrESCB/2oeQ18IQAACEIAABCAAAQhAAAIQgAAEIAABCEAAAhD4CAIk8D/CzRgJAQhAAAIQgAAEIAABCEAAAhCAAAQgAAEIQAACr0aABP6reQx9IQABCEAAAhCAAAQgAAEIQAACEIAABCAAAQhA4CMIkMD/CDdjJAQgAAEIQAACEIAABCAAAQhAAAIQgAAEIAABCLwaARL4r+Yx9IUABCAAAQhAAAIQgAAEIAABCEAAAhCAAAQgAIGPIEAC/yPcjJEQgAAEIAABCEAAAhCAAAQgAAEIQAACEIAABCDwagRI4L+ax9AXAhCAAAQgAAEIQAACEIAABCAAAQhAAAIQgAAEPoIACfyPcDNGQgACEIAABCAAAQhAAAIQgAAEIAABCEAAAhCAwKsRIIH/ah5DXwhAAAIQgAAEIAABCEAAAhCAAAQgAAEIQAACEPgIAiTwP8LNGAkBCEAAAhCAAAQgAAEIQAACEIAABCAAAQhAAAKvRoAE/qt5DH0hAAEIQAACEIAABCAAAQhAAAIQgAAEIAABCEDgIwiQwP8IN2MkBCAAAQhAAAIQgAAEIAABCEAAAhCAAAQgAAEIvBoBEviv5jH0hQAEIAABCEAAAhCAAAQgAAEIQAACEIAABCAAgY8gQAL/I9yMkRCAAAQgAAEIQAACEIAABCAAAQhAAAIQgAAEIPBqBEjgv5rH0BcCEIAABCAAAQhAAAIQgAAEIAABCEAAAhCAAAQ+ggAJ/I9wM0ZCAAIQgAAEIAABCEAAAhCAAAQgAAEIQAACEIDAqxEggf9qHkNfCEAAAhCAAAQgAAEIQAACEIAABCAAAQhAAAIQ+AgCJPA/ws0YCQEIQAACEIAABCAAAQhAAAIQgAAEIAABCEAAAq9GgAT+q3kMfSEAAQhAAAIQgAAEIAABCEAAAhCAAAQgAAEIQOAjCJDA/wg3YyQEIAABCEAAAhCAAAQgAAEIQAACEIAABCAAAQi8GgES+K/mMfSFAAQgAAEIQAACEIAABCAAAQhAAAIQgAAEIACBjyBAAv8j3IyREIAABCAAAQhAAAIQgAAEIAABCEAAAhCAAAQg8GoESOC/msfQFwIQgAAEIAABCEAAAhCAAAQgAAEIQAACEIAABD6CAAn8j3AzRkIAAhCAAAQgAAEIQAACEIAABCAAAQhAAAIQgMCrESCB/2oeQ9+HE7hdTsP39/fwfb4+vG0arBO4nr/xjYGoxkXi+fTgeH5WuwYedh2UQC1uH6XyEXR4lK1HbQcfHNUzr6MXMbSvr/bgufccYA+d9qX0HtL29tN7UAmsuF2Hy/k0nNx14fx3Op2Gy/UWFLrPZi3ma8fuow1SIQCBZxGgvz+L/DHa/cgE/u12Hc6n+OTrTsKn03k4X67D/U/Bx3C+pcXtejHYnEY2j5icxDrdhsvJT5BkotT1ebrs5keZzJLAj71zhG+cwGwvlLkEfWrHPmJrEe59VruhDvtvK2d3ETfz1PEiuLjrGrNc+fGmSsBK9+2v+xElKs8H31wKWRxBh1CfT9zGB5/o9X1tJoaOxjM4r+0098DH+/p4kra/n+6h5fNkXodzNLebF3h9n4bLA5IHtZivHXseL1qGAATuQYD+fg+qryPzwxL4t/GueVcypZRAuN2G2/j3Ok7u0vTmEvcdyfKdJt5dOg3BRDKaMD1WT03IlWKizxhK3YEAJzAbao2LxPPpEVcbgXrPajdQYd/N61lXX30HF29iZ9d5Jh3XZIy5XaLVXbJ7XwOOJ60Wt4/S9gg6PMrWo7aDD47qmdfRixja11d78JRz415zjz102pfSe0jb20/vQWWyQmPu+zw8YMF9hk7bNyaFtWOZIHZAAAIvTYD+/tLu26z8RyXwNdjTpInx3Tg3DkOYVHloInuzn6sCZLLWnXAy4VSb2P2g+vIBuiifB7S1BtTI4o3icQmDR8bBEr2eXfbRXD4vBpNVWMHYoOOFcV5pjrGBHPXhKOc8fMIDvNTmgMOj+9IRdHi0zUdr7119MNr1oefqR8fYu8bQozlKe0fkeUSdhBefMYH3GPv8vO9ZU5RazNeOxd7gGwS2EzhCnz6CDttJrpNAf1/H7V1qfU4CP0y+S2LldBrO5/P8Jz+Dc6u77WRJlJh5p4uwaCXpvLrdPU5oZhM+529KQD3mp4K1TvbIgUv9/qwZWw3EME8o3ykeq/bGBx8ZB3HLx/72WC6fF4M6Joznkng8HB9DpucVGUeNR7ZlZdwj3ILfYCfnrL1WLR45ch8btzaJI+hga/Y5e9/TB583Tj4zYt8zhp5H9Ig8j6jT8zx05JbfZeyb7Qh+cflo6rWYrx17tJ609+4EjtCnj6DD8/xMf38e+yO0/DEJ/Djh4p9XnDrBPR//EiZRtICcuCXBvd8z1rWJJ24on9PF+FlgYrt7X4DJ6HEGPHLgUjZHTODLzRcS+I8Lvhdo6ZH9Y/i4GEzGw65xIanTeQGofvyQVfhqbxfT+3TEI+hwH8teR+pb+uDjxsnnxttbu/agqgAAIABJREFUxtATkR6R5xF1eqKLjtv024x9Mo+LF208Enwt5mvHHqkjbX0AgSP06SPo8ERX09+fCP8ATX9uAn9JgmB86W3ruev2qv1huA2363lwb6iPHp/gXqJ7tpLlEhXJ899V39twPSerOd0vCXZ4GN+tIkMHivnXC2kC3+kk9p1UV7Fl/0/VZ0FbbmXsxbFLnvXvXl5ce0FvO4Evk7ryjSEXB9eLi4MwjqaXA19vwarbXlTuRlPAXNiHnyGaiVcw6UxiOvXnpMY6ncU30r68GDnUrcVcMcx2Rr8CCeJd2lr7gmGpX9a11U+H4ZFs9+AiNteZWb5PXvS9KgblRa1qSbJhj5du/HRjXK2niF1lX0761/p6ooz9VSaN81go7dmFZW8wRhir9qVU9rmqrUzKuGPt+Lcr1zv3Z2/59jiS/jGdv5Nxu3runrSwxj33roTTuX6+WXuuaI9DV/9S+I6gFb/Ly5k9W7dljQ8LzmcvEwdLz5kxpfHbqnGyp10/R7TP314X9WXV7xt96psb4+Mic51qm1Ml1c9YiLB13JJ+7NU7Drf1Y4S3RrZ0nmowlDJ6s726CMfmoz6a/Wnp3prXpTJUr2jDisNk7jGXT+Wt0SlquvmlXzcvavu5SLrQWvuserVzUcrV2zJtdctbOPY56d2yU6W6v6/wh7PDXb/Nc77wWmbaLl3/l5Vydq65Hq35pnasrEl65JkxLr5pzLfG69dleRBhU+5L7Ws9T0r09HkPFwePv06xfNWeh7VZVK6VjtCnF+ow2dszp/IeXjvH3cQ2bN5tz3ZG486O+Y+0Ob6/FoHPTeAXHpOTuS9JoOQnbjnRGCfw5BEIpbp2wttPonWC4E5axQlELXmcWbV4hwxKYkN0wWgwkpPk4oY6K6g+XQ2lLJ3PkpO/O/kWZOmFkXn86l/+W7pwSpLlwjD8jHh2MLiNNwNiG9zkIfwL1RVe4z7DX1n7G3SWtpzM8MZOaK9sl5iPCNyNr0a8Xy/zBCo0toOfFIl1lb5sf2aMZiEi4xFs9+Ai+uaJjdmg1rg1x/naGCy3G/Slkt9P5ReHiV2b406Co/Ap7UwxbIz7Zr107A4mk2Z52ZnUWxXn28Y/sXcz1wf055Fax9j13RFH3+eLT3gX4rE8JsQXdjLe+c+C/zt0L7c5jVu1cUjPZc35j4+7rL0NOo7+ebE4qPGUXlr7XDtOttv1/TrzUaKQ9OEtY2+rjaTJYXusefvCfpPOCUpziLLNXm7LprKM2doNfaE1NwpfjJ6yNb/rvK4wtgyy2GCe35Tmq/JYxu/vITzdhCxaui/3ifCMX97u/W7rvIdOJktrZ+e8KKraER895yIXp+uZLz8XhVwje8YY6pe3fOzrl53q1fV9pT8c++naKrg2iK63eueBTks//vj4jq/l3P41fajmtz4+y/rfKHMlU9FHdD5dggUG5nzLLeJxryJsxEg4aEkjwdg39aXAj0Zb1fPCbvau79O93Et2eObLdThCn16uw+Tv9pxqDpgOH9+DbRCu7mR99/xH1B5fXo7AnRL48aDgVprXVk4+hJo1+WqsvB710klxfcDPnptvtWecKOQEng8G1km+pcO9Hm3jL+YnfZMLBINR4Ry6m6vlBFS8IE1acid9e3WQu4PtJwSW3jphyA4GPuq4GMon6u22EzOyr6pbsf2pivByqz/HC+AxgSW9Uj5FfODvLNHV1lna8rF9Tfp/PD5kWJ0aYf/JHusU6zC2YwoRe8qfTV3dHXBZSZhc0IpUkfEItntwEX3NvhNxd8nyMDbcqpNL9muVpTFothskDaZ+ErY7DLfbxd8oKyQf1a55nHUXBImU6CJ4XcgEfd610+h3EiNDaN+oXzKG+oLJ1tr2YjFbxr9duEZxlf7ybL/+HHGOxriJx0PiSM+Hp6yvuIv3cYWhOSfaZ9ytj0O+jWr8hzZEncjXX3U+e8E4qPOM+1nt29Jxst2uHxvy+WOsifZh0+kbfRo3FXzzcs1mpWQx1qZkzdp5W9nmA3ALbc5++VobIwSa9dniLcclWVhIOqpu8XHlueH8qjKsgIjGhr65h8rboJNFMtu3QrdXPhcp19RPGhvLzm1dY99K2Zmvijsk/t28LY2vvjmm92nv/M1WZpf5WOqbIEltz7FtXXTvIWL8NL4HKpxyuPlSetPWnHsEv0g30My/lPY5lOz6oONaz/t/fQxp39o0ZqWxrF4cbxC1chp76HCEPt2lQ9Av2nMqx/H5bPe4zg8jgu33JHCXBH46OEyJvHgy+Ayctl7TQFx7rMLtNv1cShKS4+eYVLwN4zF3PDzjWHfYkyTk+LP8eQCf5KYTAn+REbfrfn5/Ha7uz/xJ3/6cdZAUfdOkVXjiH8uktuzvbfWldaZe3JxnbV0Iq/1RW75OLYmndVNmgY5appCYDIpmm1q3It9VUl7OP42yPTK1jKFz2JbFczIi4BdxnY6qjIquXofWY1kybLpD2+n8SbnFLpRhHdfGxvsS882iLrvyvqxtddW3uaiMldxDe9y2+qGikyvX1a4RT769YGJV073Xl4YM31ZpK9DB9aVuGUm9zmfgOy2U7zi25jFR0rR/v++LVn9Vv23gqjIqMRLZ2c01tlLbuXscBfGc2KR2LLRB6yXyQgu1jGGft70+xmu5in6lMtr+Vh276i/pXyGlwDcGJ18y6JMGC2XQcc70MstbPexc7f526/021ERlGnb26KVlqjzDFqftWrtSuqeMlI0/6/aX5dbrhW2UZQTjclcsx+O28jT8Eba/dLumrz4+x/2y6BysSEwaKemmsvc4Dxh2q/wKz0TVqK9Y566pvPd3//k6bmmbbrHvE8n+V9U1JiuZl3wZ65B/U3sTndbK03oV32qZpM1cu3V71KbqGFY/J/jk3j2vcX28WjGtdhicasda1LRuxUepDK2zgamXUVmAqDd33LhV6k+em9XPu9oJczcGBy+jpIMjVI8hL6Nib6iH4WftK4aO4iMtY/B6uA6GDaLnlk+1scJh9Mh8vpPcXZSuSxTokall7sRW/VOxy+uwfp6cmM7XFyOwfwI/S+b6O5536sMLkAcD/JgM8bpNHbv8eAad/Eq9SsfKyhqd3CkddcBsgmbpapw0DN67co5OnI5XYeIyPqvrPJw7ng28wGHFojrA7WSs+sKQlx8LfFOLg+BEboj1tgU+rJbzNXRLdavqESYFCv5TiX7yUdWlorP6phD30pTqnjXUqUPA15qwSTu1z15dfZ/O+XkZ+bG47U67imw76ze4qL6rucdWqR97Y3BLuzoe5WOh2rU67mK7zG+Bb9w5w7rAMuuFPhnPIa1Y8VKU78J6XkJ7S9vIfBOOHTnzUHJZxj5xG7Zlb/e2M2ZJ53e25Db1xlFpTFAOjf4Q29CpexB/qau83o3YqvShSaeSLqX9sSXh6qFYx876YV+JBSQNlb72ttMbBw2eJTWS/b1x0e3H4CK/NQ6pzIxnJ6tK3CVmxl9Xx1ospvRNmWZ2BeNWdszP357FTfVeNEaUKPj9NbkSA85mLbeAjdQvJ9AmPcqyaz7pjENv6ri1h06JSOPrGt0W1Kn0ka32qS8Wxpm2m8THWnk99XrKGM7p3LWPP3xydp9zQkl5ZZHwd+VLvmkdK7U17V/ARwUtqLM1xoPzT23M7uLWuD4ozeu87+NHiymOcGOrvWF+KIuBTu4Bs1SExlCDRY2nHquMLT1lQmxLt3vle3tb/fYIbDt12DxPXkqb8kcjsH8CXweuJDm+KNlxT0zu5/q1Z0sVXgib2tUzaEmyPx09xbxggB1vIETl/EXGeKzCzw9OM/NIjjS24tN4BtdeoldoE1VRm3dSSE8Ehrz4mHv8y8y5EgOjsurfPEkUGRMMxLXJSVxn+qa6NXR5pM69bRV1177WOtkGfcTwm8Ur3dera23y1i1jazzsxEX1TZmp/Fa8xhSLfoyL+X5TbLfl73FWqz+nzcX09ctefRP1p6/KaGor1cGsM+70k7JpPO+wVYStblMEtD+ViWGQxktjjFEZaTnVv2Xzxv7c3c4+cVQcE7Sfy8+s2/x90rvV93wcpeeKXj+Fz+BNZYyaKsdEF7Ur2Z+ZV9BR5b5bHGQAzB3F/pGU3s2PgVyVmfbvrT4N2rA3fZ9eFGu2sGyvMk3tqia6GjoFrdyNm3JfMEYEehU3VW7ax6RPzvu1XNKXdX9aP0gcpuN7ooz6xChX5KljQ6JPIjv9qvKMtsKyNZ3Ccub2Gt20Ts4xa0OZ54nBzfYFsvPHjmSa6A5tN+1XK+V18V8pW5WubezkD3/O7/BrTZ/GMeWV8q+Oa0EfNepVm1Q+C/qf1ulgEfg2VU1jrdqHZfzK+0hol3IzZPW146QV2nqovcECz9QWZdnylbcjPff2sqjxrB1Tn6iuO5/n5ga6dAj7TMpSFVWB8/XlE9l2x5mfx6xdwJiaz/fXIrB/Aj/ssJLAnj/Tgfu5qGqJfOOEpJ2qnSTSwTGxXxLxxc9ocAk6Z4OfDmLSnoCu+KK4kl6cYiTv05OAFH3GpzIWW3uUcL8SuJyH8/zyIdMPhjzle776JOT39EKdarNpzIh/Kp9LGatuUezkWnXz2kHn3raKuqsOrZPohgnrjKhX11rSq1uG2jWPIZU4kNiM4kHrb+NS0lf90ViVkUaX1lsbgwvsKk6uw0ma0YdDnXv1Devotur6ggn8leNfKV6UybxR5KrMtsVt2l72fUE7e8RRbUxwq7ii57aepoUBxZ/uqu4rx4YF8e+4FX1VW9W9VUet/25xkEWiuaPMPC7e29+q8ReL9POWdGxUn6yPu6Sp7GvZbj/Hjc5zqYTdx63Odmt9ag9uS8eIlIv53dsWuVr01XN0bznfSG9clv1dnq9pnYVzjz108hbaW6t0E95d9vhEW+SzWvwlqqqO6t+gwIo4q3JdIa+qX6Dq4vNmWLe2vZM//LzByBHU2reO7T6ulfuX1Xy4T/3TFa9zzZ2YVmNNlZQ+Uueudhj9oK8d16AfG6Pz0kPtrczRVI/15+xeFjWetWPqNrexYryI6le+9OrQa6//9cUT2ap/7zxPrnDl0GsQ2D+BH046ogRVOxifgyx+oaYkzrI7Wtqp5o5tnCBEfx0sIvs7BoRIpj+JiE7p5E7a00FM2pOCaxP46YBbWf0vOjz6UxmLrTUFjDeKn+Ykvnupydm92FVeVGrIy/gK58hfuQJRPWmv8Xm+FFM8eQPVRExcvJfXHjovbivh6HVojxm9bcU0/Lf++r4/RpO6cLwzYse3FEzIXPw04kDiM4yHvbiUbFb5iT9CG6zt3nrNdrsuHmQinz++piQ/1blX37Te+D05DzRcHojwek/jef1CJKg4ToDlHOA++9ucpWwc/7ZyVd4d/u1tK+IjZurLyNvjhr8QXx9HxQs9Vc5eJHA6py9X3j42uCYXsdO5QRKHpf3huebJ45fiLWwsibd94qCgSLJb9WqMr/1+LJ+TkqaLsaE6rfRp2o75vRRTpf0i5G7j1pG49Y8RgqX1acWP7AvnLur74IQi5bLrnwXji8o14rwkv1anZm9JXlpnrXwnZ01drdNxzttjDNL2DOYTi2Vx1ua6TF5bv9Bjy2SHNUvb2v5Gf3hfJefNUsPW/ruNawvnAIFuyqcYP0HheVPrbGTajjXXoMyf69xVJ8OOvnZcW/b5QWU/xN7yuOP1WHcdOdKUpwgEY//s1uhD2zJ41o5FQsYv+/dpJ7ZXh17fq7wN86HFbSVsvQ7t65jetnJ/sOcdCNwlge8GwGvwRvDT+TIsS0s+Hq3vNIUEfZK4qb2sUjuVGwTGv9MgCbnqZ8TJn0QkeRNOvkNCWXsyKOsFkugRfhZOhEby/nw9nvfUZrE1BBJty4m//hOumrwoNtzLiK8Xv7qy1r7GTHsgjlRe8EV1S04CqYiafVHZHXTubauo+wIdetuKbAy+9Nf3/THth90yFtgVqOg3F9Sv6VQ6VvSH18Dc6q1XateveujpJ74/p12vKD/RulffpNr0VX0wjaWpDmadcafXW84J3ffqVrfpGg7aPZXf8VJjVzsW2lvkqvq3/dvbVtiubi9oJ+SS+rBfh/KYoDrNG7f0ot35Iiy0SPewot/u19vVsXUv+tBV2arjgvrLbPEMxq0F7ewTB0n7ha9VtkGdftttHwaidLMocxErFbdww9azzuOe45atj2XUI7k1xwhLQWtf5lNhmcz59fpAxiLPJR0TXTNFFokONb+WZNTqJOKjryV5UaEFiZ60nvu+SrfMB5Zk2Sf+yW/O38O+njjrbXfk0zq3rWXo6nXIForVz5384c8XSV+qNh4e9L6uPdKoxn/tsVCLdPv4MS7c6txrdtS4xTz8OBhd6+0UQ716FG1ZpEdsmXzbrMMR+vQCHXrt3TzH3eM8ucC/3XaJ4/l8KwJ3SuC/ICOdzEqSWya1sy3aqebjlYSpDrySwLdmw01E/iQiCXxrVUx4IS7l/EnnNlyv1+JflpbPkvcdj4lp2nGfAr0Dl/dF4s9ErZo8lRHeYAniwfPOhOoNnO5kXSKi9VV1q8Sjk1GzL2pD7apPlKI6yZfetoq6qw51ny2yK9FRvqquDX5+4r7+IstPDlay3YmL2pyOSwvkCz/3WfRjWKgWgzr2dnDRsuv90Ktvov70NWjfjbfFvp9VlgsQOb902Coy1C+u7oJ6oW8aq4aKMVHzm+g3fxa5qv537s/qmw5GWrYSRxvGhASNfr0FN3+j2FFGHbqrtHij5sO45PxN2lQ7/Zwj0k0qS/mFMSjV/fj3YnGQjpNq0LKNYv9IxPT7seEvlevLZXPIrT7VNhob0k5nrCmru4xbnocZ52qKL/dIbsUxQvVqbci5Zh5LMvZSX8rNY6COiXb/7I1L9Z36WtqrzENFx4a/vaRpaw+dUpnZ9zW6KcuO8VzLVs5FjTGoxjyzZ95Ri7NerqHsmrw1+vXKDssVt5XxNn/464AOOYYyyqER5zX+a48Z6vhdh49xGavq3JVvbewxjnkQbkvaSvrjTjFU81+oR9EW9VWdRSgr3d6sQ3ht0eSZtj59r40Xdo18b5FRUrTXXj9HfSJb9a99Hg5N67YrrMT22xD4kAS+m4ifhvGn61nWevKlDgSSdE8HJe1U7QS+HwQkWdPuiHlEBRcPopN10teTirSVnHRywfYeI3m/JOnsVkpcxsfRXIZHLNjvHbj6ygWsjYmyxkZyTGUXExp+IlC/ULRd0rNXdUvjNamsuiY2JMWiyctanXvbKuvuudXV9eWyC+zcMHOP6mr1rbCG9v/8xK4y6sruwNbbW2/Kl7O4FPUNxpK6/BDMDgn80oQ5bmb6pn7Ix9SiXYmcctwlBc2vAdsHJfBV3/nXXEvG5T4m9fGvT0YtDjyzelz5clbcmu6Idvr69XbGuxLzzdVKHG0YEyK1ki/qz2jM9rrfe9z16kib85im/T9nMtWR8ktuXPnWihfGYZFx27dziDhoBlNmgLnD9ntetLe/uZp9ZWs8/bG1cZdbYO2Rdvpirc+u9eNWn3zR+XvI49Afuwe33lixSIeLepxuIsvSUziMx+TcGo1LvgUpm7PwZdyWtGf9SrkoQ8eeZdcvRXmxSlWdkqL511W6+fhoDh/C3Tjf3Nu+kq96201hleSV9qf1a9+3ydjHH/4cll8H1HSXY31c7z2uiTbB5+FjXPxX516LEWVv9LOAhDupFhbeiQ4dY5TKyOdSqkdjYCjb4vWwxvTIlsKX7TrUx/lCs9nuso1ZUXNHb/1ee33/XjvH7Z2T1fh5/9ZDxJdrnZNNeOx8eQIflMD3CW63ilGefe6ef+5eaiqr1+UzGxh1QPZy3KOBphXulzF57RPXwQlYk+/zS+xut+EW/LnHsVzOp+GUnVQsGa7t03C+zKvqL8mL8sa28hNGM0qz5P33cDpNz4Yf+czPiY+3g0R9cPKf+NVPsk19Ogr0DsharnBRMjYV+tYYMfUkkR0LfWRz1/aLSf4OY2tFVHe7famqemQ2SAn/qWVX6qz1G20pV8M3KsM4ppqq7dYFtpaqbmg71WRs4GdDH5XRsNcpomW3sjX0UEMbXFQHQ189VpOvDc0b2t76GNRYyMbBsLH6hEV1N+wKpWhbS2xUAUEsuPG2W0ag+8JEvNq1YnzXujU91X92P1IZG7iqjA16qAsqG+rbPeJow5hQUdEnkxKeymjr2JDIrekibbr5jrKr1JfyS38JIjpo/VeKgwoPsavrU/vZ+nEybaeHp/rVjR+GLSpjZdylOpW+Szs9sSZlq+Or8mzYVbO5EofP5KZtG7qX+Ib7ff3LcJnf72SKEoYndx0yXdtk1z6zYPWJKci3rm0bbGsy9JhRz0uPt7TOBp1iifY3bWeBbsphj3PRnexTHRP5am+y36bj95bk+aRofezzkvKtouy8qLlH62/wh0/wrbvGVa61OJI+2RqvDd+ofOOYCSXYqXVrugXl3eYeTLXdqs4yf65zV30MG7SdDfM6lb8hhlSPqr0B26otdR6Ju/TrHjocoU/36tBrrwOkZVfOh7T+Hv41fB840ectG21pHTbeisCHJvB9El4S9vGnNcmQE0ipbjKQZkntUj3Zn7aZJIrG5I2ULX+WJt/lqF3XTnQBH044Zj3vPZ70DpJ+gHd3VNOXB7oXqyQ3bwzF9aRtHPMTOvsiMjrubr5cb9n7INyvF67uZkxtsC45MIgz6+WIUq2b11ghjPXlOve2pVwtuwO73EW8vznmFLwNt/Smk+kbsb78qbrOcZvFiPtlibzguHBCVxldOmxjO+zApapvJD99Zrq7+XgdLmk/Cuqsj8GAy/is9vinUvGzUNOxcvJv1a4gBKpxF5QrbWo7Y8zYuuR1A/vGesn5Iq8w70nqdcVYICwYm7PYdu+q6Rj/1N5G21WuQYzcsz9H4+3WOCqOCTdNdkXnwRn7zY3l7uZ+HMLj0frPhkNf32/cDaLDrzZzN+xriT6ttE3HPcYvVaW6Eei5NQ4acV9VIzwY9IH142QoMPwlyTT/iEOur39HfeYecxRRWcainliTsmOyZd28rTpuBfLdTY1Hc1s/RgjMxqfEmvvlcfU8Jf3EvafLXVeUz0tVnoE6tfNAVYbo7PQd+2wg1M35jLlHVV5QvaZTUKy8uUK3qF/deQwq2bc2zkpc18oLx/3S2LdadtlryRGJdYmvpNdHz9svzetERrmfJI3GX4Nx5x7zsZLfYiUK3w4d433cS/3AWaxsivO69rXeEfr05D3hMY3ZS/MKyqIxt6nxPESfDmK2NK5Evm/Ye0S2a6+X1MfVm02Txfz/mgRI4M+DuSbws4mjd6wOZmmd8btxQo8mBOWk+9R2OmFIE+tu5b214t7LdQPY8n9pO16eMmnZG0xKpM4qVRYor4NTsyHDvuQXF+PALzYY8tTvxrFRZalburPfGwdWIruDibKY/TRdiMU/89MyJRvSdjbo3NuWci3Y7ZL0Ek/mp6snZXrtSuwUXd1k2ifq7T5QepmzyLBWNybNTV83sHUC1GazX86rwitcmvqmN0fSdgx/qcwtMdjDpTI+qw6NWGjFnemzcKewnW1tNDfXDCfcLr6M80XYhmyvaksqu8/t499eXLfGbWhVdXunOHL9fc2YoPGl/UaSaMG4kiUNZ4t6dHdya32wLyClwdhGQ27GeoOOTtarxUH3uJ6ByndoX9oyTiZir+dkEYLG3RxvLtbkRl0pNjb6NFGp8DXpT9VYS8qOMR/b2Zq3KeuCzc/kpv5QXy0YIwp0493J+abAwNVRTqMu6XWIl6rlKrJcabXN8G9TxsK5R1PerH5NJ29hY2uhbqO0nn51xzmN2r0wzkpc18pzLFTmrEt6nbJFdsNz/vBGf/gEbuf8zbc8b913XFPGjT6aqSU7DhvjMp7VuWsMVcaeLdd6I6aNMdTro5ot3Xq4vlZh0ZrbtHRQW57Yp1s6OFZaprdf9Pj4zmy3zZODccbwv3R3Pl+bwIck8CcnjSs43ONqdEWtXFC7fefhYi2ZS/zrOlVW/zQ91ia+n+8rulV302NypD35dO3OdbPKQQecB8dx7BmfNR9P9nt19xqFW3k7ZrJ01sEfi0+k4cXQuhsJoU7t7WUDsluJlvst4iZ3co0BXk9ixjHRVMt8x4lzOe4+XRyYj2sqxkBYu7Zt2Hc6DZfgfs4yXr6tNTr3tqXMaicYI96/HS/pq5LgrPjGW5Nvpbrm9rrHbdmraUVaKkP2tz7ztqZxoTwmBBI3cOnS93YbXJ9Ox7qozwTquERx1sdWxqDFZWRi/HolVKHLrkaCIZRX3paLiXkc74q9pE5nAl9tGsffcnKlrKs7YvjG3WwMz3mV8U91aNh5hP4cctgWR/78lstpjAmu74znmzjh6G7aRMxDZZPtvM322NDrp6Qpn3Ar3YBOK8zf1+ioojaMXyqjc8PSc8/xpFONuZjEhswB3QX29nO1bWMwp+08T1py3Jyv65zUAULHiK5YM1jtPG5Z9kZ99F7cdhgjWrh1PKjMSUcZYqM7x1TGeJVXKePkqY+NeV2XjAVzjy55DZ1aHKPjC3QL69lxZv/KKqy32b6VcVZsd6W8ySajP4dj3ybZIbX29lp/bE/gO90MDjuNa0W/tZH4EoeMcZk/+3mZV9hvLRl78hhozOt8M+NWXn8+Tz74OsXSo3XO7o2TGs8JhxHLD+/TDR3WJPBnXz+XrRsq3Lsl43xfV/5Drue65llJYPP1ZQh8VAL/ZbwyKpon1hvz5tcyD20hcAACvROZA6iKCgcioBPbMbFev6hYr7ZctMzJ2yVvr13fKDUhAAEIQAACEIAABCDwFgS41nsLN2JEDwG9Kb920VdPI5R5NgES+M/2QLF9EvhFNByAwE4EmNTtBPLjxNw/uR7fJGAi9nEhhsEQgAAEIAABCEAAApsIcK23CR+VX4iAXjuy6veFvLZcVRL4y5k9qAYJ/AeBppkPJsCk7oOdv9V0XeXgVsjvvAo/+Ank+HOChMm/AAAgAElEQVRYVt9v9Rb1IQABCEAAAhCAAAQ+jADXeh/m8I811+cOyd+/dxCQwD+sf30nlOfO0xkP6ywUe1ECTOpe1HEHUVvjxz1Kx3jm7zo1k7GfgX8dRmpBAAIQgAAEIAABCHw0AZ2rM5/+6Dh4f+PnX4fvdj36/sRe1UIS+If1XJLEab2I6rB2oBgEjkuASd1xfYNmEIAABCAAAQhAAAIQgAAE1hLgWm8tOepBAAJHJEAC/4heGXUigX9Y16DY2xBgUvc2rsQQCEAAAhCAAAQgAAEIQAACSoBrPUXBBgQg8AYESOAf1okk8A/rGhR7GwJM6t7GlRgCAQhAAAIQgAAEIAABCEBACXCtpyjYgAAE3oAACfw3cCImQAACEIAABCAAAQhAAAIQgAAEIAABCEAAAhCAwPsRIIH/fj7FIghAAAIQgAAEIAABCEAAAhCAAAQgAAEIQAACEHgDAiTw38CJmAABCEAAAhCAAAQgAAEIQAACEIAABCAAAQhAAALvR4AE/vv5FIsgAAEIQAACEIAABCAAAQhAAAIQgAAEIAABCEDgDQiQwH8DJ2ICBCAAAQhAAAIQgAAEIAABCEAAAhCAAAQgAAEIvB8BEvjv51MsggAEIAABCEAAAhCAAAQgAAEIQAACEIAABCAAgTcgQAL/DZz4riZcz9/D9/f38H2+ZibeLqfx2Mk4lhVmR5VAjXO14jAM+KFFKD++hXcujT0QgAAEIAABCEAAAhCAAAQgAAEIQAAC70yABP47e/fFbSsnOm/D5TQn90+X4fbidj5b/TLnlmb4oUXIOr6etyXtsftUd3djbe57chNnvNnm9i/5M27A3W7X4Xw6DadEzul0Hs6Xq9nfMx0iuUGcOpnRscfyozUIQAACEIAABCAAAQhAAAIQgAAEILCUAAn8pcQo/zACmiw0Em6SsDtdSN9vdUiNc0s2fmgRyo9v4Z1Le+Ce6zlIzp8G6XoSA4sS95Kcj/r2bbicp1/WNGVF9fwvQbRecny4XaIbAunhB1KkKQhAAAIQgAAEIAABCEAAAhCAAAQgsIgACfxFuCj8SAJbEp1jXVbnd7lrC+euBigUEXhN3tfhLEn3ZBX7Xgl85RK2U9hOE/CZDmmBYRhi+echfzBX5Ca+QAACEIAABCAAAQhAAAIQgAAEIACBQxAggX8IN6CERUATbkYyzirv983JRhL4Hkllaz3nilAOFQm8Iu84Qe5X3zsjb9fLcD6fkz/jEThZGfdInPkXNMkK+XEl/ekUyAxX5ufJ91i/wmNykjb49U4xRDkAAQhAAAIQgAAEIAABCEAAAhCAwIEIkMA/kDNQJSawOtEpj/oggR8DLXxbzbkgj911Aq/Hu7z6vmxpUuc7Tvqn9bIEfKHvuufjXyTpHwjJ6hdu+in7cWV/fiMgEMkmBCAAAQhAAAIQgAAEIAABCEAAAhA4BIGPS+CPq0VP4WpO99LF03A6n4fLtfY89dtwvZyHk7w8dUwAnQb3YsXrrVZv8rNr1z3fOa7/PdavtzuvcF2p8+3qdI7tdd/P15v5MkiJSkl0SR7M4uZsb+nu5K21XXSwXjppHnPJvcYztJ3d+gJcMU6MNj61nUJC0agS7dpqu6i4hf8wc4leCjrHgFNWbZTGIgvqX2p1p2NB4nZ8Oal/yWm4AnpJWa/Rlj5p1fW66bPUv78Hj8XHTqi718dvtbkUVonPIrbFTR9zr21jS26IzY+z8Txq9TYm8PsaUQV6E/jDKlu0GTYgAAEIQAACEIAABCAAAQhAAAIQgMDDCXxUAv/aSO66RL6xuNNloIdzlLjPE33lhJ5P+vmkoPV4CfuJzPfU+Xu8+WDHnCQgnV0tHU7FZNtW22fOhnzRL0zu38YbLDFbd7Mi/BtFaRKvtQLXJyHL/rX5DcM+tm/jP2bno5d3+hic2Z4uw/Uy3+AxOJesk/2WH9JjMXPfd0KmIqen7Ch/U5+M+7O7EXV2N9ei561PN/XO58vg7+t5n4a6i73hp9gTxqccrx3bK266OYpSlU/Vd9Gqdd93ppgrjK1zu1kC/rvVN2OFs/rFWE70KpaL5fMNAhCAAAQgAAEIQAACEIAABCAAAQg8i8DnJPA1aXsyVo3f5uc4X4xV6UHCJ0t4u1W8fnV7KRfkkkv2avVG/d10jn8hcLtdghsSdqIsTtp9D6fLNWETJ/Z3t72xMlz1MxrWZF5x1bz3qVHd90XlbzPyBe2t1X4PbZ+Tyqv4h8/8don6KAzi2BuTrFUYto01P8gx9+uWMTke/VolUkZ/BdBTdhi8//KbULFdlkmi17cRHxo75s28RyTwh2GPuOnjaPs03uttHmPEYBaXl2+Bj8YYrifwhzBW5UZK5y98XIveb+WbfpNma+0Ru/iEAAQgAAEIQAACEIAABCAAAQhAAAKPJfAxCXxN8FgZvQpzrVdJXGmZhatGp2Z9Qild1atyF+qsCcqqPkGCzZDvZbjkfZxs9bi87tZKY1+utOXrW22oDjX9jGPKreIzld1TxmijZFH//k7bv9fz77FRWbmk6Qo7tQ2jrh5zsiucHbMlZVXnikwtk/YBTRSXEso1v9SOxZ5Xe2pcjGOxFOtbXQdtt4O5JT3fF4wTi2IkqWfeEIlbi3R3bclfRyLf+7uVwE+T/etuzsWa8w0CEIAABCAAAQhAAAIQgAAEIAABCNyPwOcl8CtJvxyzT0JVc22aFAyfl51LK+3R5FPSiO6/h85OmcoKc59Mqye4VMdE95Kt6f5afdXBkF07pjJr3NRnpURup+9TgxZ8Vz1r9qUJ6ER+WUav/r7c/RL4JcbeGPVnM9Hr9TWweYHq36RPVmJeKqsuWQP15LnUd59lGfVjoYzSdtnngewmx5L0ZH/A0SXUrRttSY35q/fTlIhvx4D9+KA4kR//isS3rEwk6Z/5rlS2Ry9fly0IQAACEIAABCAAAQhAAAIQgAAEIPBoAh+TwI8e0ZA9CqeAXZNX9SR2+EiP/gSXb1OTT2nSSdt3K5jdy3J9neKWJig7ElOB/LRpTUDWkuDhoysa5Ur6Fm3fkARVmVWdGslY5djyfcmy9n7VM4Uf2l61IVhNnJZT/Vtx4DncLYGf6mag6Y03349bfvEJ5KhPKpdyfdUl84tnFcms2ZPJCJLsxjFDVLZrj7jJhJZ2KK8pkd6vsuffn8B3SrhHIM2PXJJkfPQ5vYA7VVeZSNmaoqttSlvlOwQgAAEIQAACEIAABCAAAQhAAAIQuD+Bz0ngO5bXJDF0mpJBxbx4kujRRzpIksj4LCb2btfhcjkP5/mlqqYsK+m0WudygtKHlU+ypU2Xk5i+ttvSxFktSbvS9poOtWNdOs3xMPrB0L0mPybQ+HYH28MWi7Zq7LbjYIuttbq1Y6ENbru7rNoVrMw2+mHYv6I+qTetSjc2akn62rHYopo9tWMq5c5xo+20NhLe6ThRru7HlskXJd4lCbVEfi5L+4HEQk3R1TaVdGU/BCAAAQhAAAIQgAAEIAABCEAAAhC4H4HPSuCPHO3E0OmcvqQ1SE67pNCceD81Ps/p8+Jv1+CFsVPSUWWcz8PZveDzNCcji0mnNTq3E7e1Xw50JRlbCfyNttd0qB3TZJ6RmI+7kk8yxuhlf54ojOtXvt3R9rDVkq26v/EIHierxjJsy9qu1a0dS2X1lvV2re2TPgnvfnGQ3ry7aXLX6j++bnRTIDWmwbRq64PixlDZ3qU8HrUCP1Ujflm23piJO6y/kUgCPwXIdwhAAAIQgAAEIAABCEAAAhCAAARenMAHJvC9x25pssw9psYfHlfsTwmjZH9YprotieD6I3CqCb1E/r46e/2SfFh3UlcTqlmy3MuuPf6nZvvaY2WdEpiFROuS+rlEt+e+todtFnXVxGs7dmucw7as7Vrd2rFUVnfZBXalbeh3XYXvktKn4TTfSDvLjbRv98scLR1s3DuB/7i4CYyqbyrvZyXwJ/U0ziVBn4w32XHbgZOw1TbVUXEUAhCAAAQgAAEIQAACEIAABCAAAQjcg8BHJ/AF6O16GU5zYihaWauJnnUrsX1SqZ5E7U5eisJu5XtJZ01OduisZZMXfRYS20Hzuqk2FhNq622vcakdK+mkSocbykD07E/ShmLCbW2/sfq9ZkPtmNlWwr/2guKwvtvubSut16q7RG532Y19Um24XYazJIP10yXzL5V3TfTGhi9nvVegZOsj40Y5tDa0f0wJ/Gh8rNYNbkaMfDvGo5q8RI/vpG95dpOeFncVrzE03cBJfzSl5diAAAQgAAEIQAACEIAABCAAAQhAAAIHIEACf3aCJoCiRKhPQvUnrrxXS4k6X8Jt1ZN9cdn4W0vn2iLUUZImsiR57eX36R48Ziji1psUrtte06F2zObibYu3vA4jL00Urk841nTzbft2rWRjn4wy//BXAPU48DFu6eH1tbdqetaOpdL6y3p91/TJqV15rFXni6EDZfv09DpaTEsySvuD5pvjRZ+MWGL9W2DL9/fQzzyu537pUE6Uu77gbp5ch1v6TKNZOe3TcrMlGW+y45Wgj8vW9KqT4SgEIAABCEAAAhCAAAQgAAEIQAACEHgEARL4M2VN6iSJH02IVRNQtqu0bpJsikprEv17sJJ9UdnkS0ln3Z+sUo2rBwm2xGZXTnU3joVytK3ERq2f7A/r+lXitu0qw9ChdszLzW9MRO3PX9QGl0C8nIbxsUlGm1Zda5/qdifbwzZVX6OtPfQI27K2tQ2DV+1YKmtV2RV90rUrzPqT0V5b1dPgLaVEfimOVEbCTPdXZPvYXt5nRL9ln8GNJpc8r+kWCQ7Gl+YK/KSN8LFG7vFGp7lPSvLeuJEQMXflErahasp5lJeMEdfL+F6S87VwJyEUxDYEIAABCEAAAhCAAAQgAAEIQAACEHgAgY9J4N8u5+LjMYqPoxkdECai3LOxb/mLL2/X4erkp8mtIDl/uqQvzHQvpk0SU0nSaRed3XP9k2Wt8XP0kwTWHHSa5Ep0SmNSE2c72+7aqelQOzboKvrvaVVvqnT2XXzsXiq89FnfmTCn+HQTYEw0Lvd7y/awxSJ/Vyjg4BKvcU7yNrgXtsqjo0rJ5rAta7vmh9qxVNaSsuGvC9zK7kV9Mkjg9yejA20D37okcZzmbfdpJ6loayB7zXhRlR2YsHRT9bUS3kVh0qfmR9pUb7akCXypU/rMxyztB5LkL45biV5RufAYK/OLruUABCAAAQhAAAIQgAAEIAABCEAAAg8l8EEJ/CRZ7lZ5SrJHPrOE3OyL9GW3Uj79TJPY4eNxpGyymnR8bIQk7qJkkl8pPL1I1yWzdtZ5TO7b8aZJu0SntLQmzna23bVT06F2LKo7cz/NLygtmaPyxvJ5gjC1u/7dSEgu8Hukf0nhWYEy/6mAS9L7+DESos5vUqbRlmWzcjPq1o6lspaUHeuu7pOudpioNZi4Gy/GjS/R+XpOx5JERuOXHGVbHxc3YkvXp8TH3JcMVxtiUsa1hLhht4yX6WdhzNJ+IOVLSlZtCXWu6WuYyy4IQAACEIAABCAAAQhAAAIQgAAEIHAnAh+TwHcPV55WyafJt9OYrLvEy5NN3G6lvvk4h9NpOLsV9vFy3FmGtBsn+VyCUNuUldJp0ulOOp+cvsYvCUKjy0nGsFRwkyFL4LtyG2zfmMA32z6dhss11l+/iQ9cAjD1gxZasnE/20MtNHFp8p9L3q7D5Zzc/JljYCwhSc0VdtfipHYstMFtLykb1l3TJ6c6cX8s3eRw/cT6Z7Ub9ekK07qtj4kby6byvjCx3ds/kjrVFfhTy+6XQWOczjfbvE/aY7T2g0YCX9mP5fIbdXpzptafyqA4AgEIQAACEIAABCAAAQhAAAIQgAAEdifwOQn83dEh8L0I+ITjijz2e6F4Y2s00VtYye1Mv91uw2V+lNJ39T0SbwwqMU25jYnvV12d7vu4uzmw5h0ICRa+QgACEIAABCAAAQhAAAIQgAAEIACBuxMggX93xDTwEgRkxTQrb1/CXauU1F9Z5Cuvc3mS7H3VZHVu0bY9wmP65cIrJr/jmxA9MbCNGLUhAAEIQAACEIAABCAAAQhAAAIQgMAeBEjg70ERGS9OwD+D+xUTky8O/2HqawK36ycWkrAmga8Okptcr7gKX2/evO4NCPUDGxCAAAQgAAEIQAACEIAABCAAAQh8FAES+B/lbow1CWhikmStyedNdmoCv+dXFhoTrNQO3R89Q76HY1j5adv+Bt34XP2uGzhPU5aGIQABCEAAAhCAAAQgAAEIQAACEIBARIAEfoSDL59GwL2M9DS/+JLV92/u/WAV9sm9dNo0d36JLDFh0mEnBCAAAQhAAAIQgAAEIAABCEAAAhCAwGMJkMB/LG9aezqBZDXunKj9fpnVxE8H+NIK6Cp8SdCfTsNJ/6bHq4yrtHnJ6Uv7GeUhAAEIQAACEIAABCAAAQhAAAIQgMC7ECCB/y6exI5OAmkC/zSci6uxO0VS7LUI3K7D5ewS93HC/vvb7TtP8WAvz38tO9EWAhCAAAQgAAEIQAACEIAABCAAAQhA4OUJkMB/eRdiAAQgAAEIQAACEIAABCAAAQhAAAIQgAAEIAABCLwjARL47+hVbIIABCAAAQhAAAIQgAAEIAABCEAAAhCAAAQgAIGXJ0AC/+VdiAEQgAAEIAABCEAAAhCAAAQgAAEIQAACEIAABCDwjgRI4L+jV7EJAhCAAAQgAAEIQAACEIAABCAAAQhAAAIQgAAEXp4ACfyXdyEGQAACEIAABCAAAQhAAAIQgAAEIAABCEAAAhCAwDsSIIH/jl7FJghAAAIQgAAEIAABCEAAAhCAAAQgAAEIQAACEHh5AiTwX96FGAABCEAAAhCAAAQgAAEIQAACEIAABCAAAQhAAALvSIAE/jt6FZsgAAEIQAACEIAABCAAAQhAAAIQgAAEIAABCEDg5QmQwH95F2IABCAAAQhAAAIQgAAEIAABCEAAAhCAAAQgAAEIvCMBEvjv6FVsggAEIAABCEAAAhCAAAQgAAEIQAACEIAABCAAgZcnQAL/5V2IARCAAAQgAAEIQAACEIAABCAAAQhAAAIQgAAEIPCOBEjgv6NXsQkCEIAABCAAAQhAAAIQgAAEIAABCEAAAhCAAARengAJ/Jd3IQZAAAIQgAAEIAABCEAAAhCAAAQgAAEIQAACEIDAOxIggf+OXsUmCEAAAhCAAAQgAAEIQAACEIAABCAAAQhAAAIQeHkCJPBf3oUYAAEIQAACEIAABCAAAQhAAAIQgAAEIAABCEAAAu9IgAT+O3oVmyAAAQhAAAIQgAAEIAABCEAAAhCAAAQgAAEIQODlCZDAf3kXYgAEIAABCEAAAhCAAAQgAAEIQAACEIAABCAAAQi8IwES+O/oVWyCAAQgAAEIQAACEIAABCAAAQhAAAIQgAAEIACBlydAAv/lXYgBEIAABCAAAQhAAAIQgAAEIAABCEAAAhCAAAQg8I4ESOC/o1exCQIQgAAEIAABCEAAAhCAAAQgAAEIQAACEIAABF6eAAn8l3chBkAAAhCAAAQgAAEIQAACEIAABCAAAQhAAAIQgMA7EiCB/45exSYIQAACEIAABCAAAQhAAAIQgAAEIAABCEAAAhB4eQIk8F/ehRgAAQhAAAIQgAAEIAABCEAAAhCAAAQgAAEIQAAC70iABP47ehWbIAABCEAAAhCAAAQgAAEIQAACEIAABCAAAQhA4OUJkMB/eRdiAAQ+k8D1/D18f38P3+frYQDcLqdRp9MTdTqCDodxyEJFjhhTC014i+L4YT83Mh7sxxJJ9yFQ6+8fE7+363A5n4aTm9PMf6fTabhcbx56Txlf+jW3PsHGJ3um1t+erNrhm6+xe9ZY9ax2D+8sFIQABCDwpgQ+MoH/33//Dn//9dfw1//+N/wv+Pvrr7+Hv//5d/jvTZ3dMstx+efvv4a//oq5/O9/fw1//f3P8M+/jydzk8n8yV/UTBc3p+F0Og/ny3UILm9aJnL8jQjUJtLPMfM2XCROT5cnxeURdHgO/T1aPV5M7WHV68nAD3v5jPFgL5LIuR+Bcn//lPi9Ducgcf/9PS0EcJ8XneD2lLmfjx4j+RNsfAzJWivl/larxTFHoMzuWWPVs9olHiAAAQhA4FkEPiyB/9+YoA6T9sXtv/+1ffLff8N/4599+BX3/vfvP8PfWdI+TeLP3//6eyiQ2df022U4SzI0urBJE/nu+3k4zhrsfTEgrUygPJEu17n3EV0J46+6791kJv8IOmRKvciOI8bUi6DbVU38sB9OxoP9WCLpPgRq/f0T4lftd3NZTdjHrHvKxDVe79sn2HgEryjnJ/5S9Agc1uhQY/essepZ7a7hRx0IQAACENhO4KMS+P/+XUhKB6vwJaFv5u//+8ev2v/rn7dZqf/fP39Fv0QQBsXPO9t+u571J8Rutf3pfBmut9twkwubcfs6XC/n8efGpycmS7d3weNIGCemT1s5vpxDbSK9XNpr1Hg1H70GVa/lJ8aUt/44W/jhcb5gTHkca1qyCWzp768fv37VeTmf2lPGZnvvvfvxP66N92b4aPlb+tujdT1ae49mt1//OhpJ9IEABCAAgbUEPieBHybfJWH/11/D33//Pf+FSWx7lXmU6L5zEnutQ9fV+2/4J1iB7x4l9M8//w7//vvv8M8/f/ubFsLtf38N/9zraTph8v5UXo20zk5qlQnMF08k8MuInn7k9Xz0dGQLFXj0xdlC9T6mOH54lKsZUx5FmnbKBNb393eI39mG6HE5KaueMmmdR3zfk/9RbXwEx8e2sb6/PVbPI7b2WHZ79q8j0kQnCEAAAhBYQ+BjEvhR8t0logsJ+PE58GZ2+t/hb01gl+uvccIh6vz3z/D336Xn/ye2/+9/g/kLhc2GyASex+JsRrlUgNw4IYG/lNzjyr+gjx4HZ5+WHntxto/O7ygFPzzIq4wpDwJNMzUCq/v7W8SvzHvD592ntHrKpHUe8H1X/ge18QEYH93E6v72aEUP2N5D2e3avw4IE5UgAAEIQGAVgc9N4C/JQI8vvW09fsdetT8M/w3//fv38Ndf4Qp/dwNgejFs+b2w8ar4/6m+/w3/uhfNRjcT/hr+LgtaFRhxpUQXYwW+00keufOX6hpLaX2T5/i5x+aUf0rckhIevw3ucTynk7wQbHp+vvt+vt6qLxmVSdqkh8gJn79/mh/tE7R3uw7n02l8rM/0ot3v4XtuKygVbcbtDMPt6p79H+prtBNJ8C8waj1KSNr6DuHOLwlWfY33DYTFfdO36RFG0XsKphcLu8cd7fJPXmAc6hTwNO3JGl6ip2cZMcpkTju0/eCmh+6zoY0VnY8vZ8cqjKfv8aXMF+sBuAt91KPDMEhMh7HmdFjaN6yYrdhSYDnt3s5fxC9mPFcss/O6repnoph+LolLrbTLxlY2Etr5WLXA77v07TIO8eOkq8R62N+McXXF+C0a3I+poac02vkpLKIxbeGY0tPUWgZOthVL7gWep/N5MMfEDoXWy9zWN5/DQWL8ueP5WtvNGJ19bB7ril8/ZkexX4gdbSc4nxeKFnYvjBtnw/wYSHv+5X6B2lEm02ahHl31p7H9fLlO8+Yu/plge8dKG7fN7YObJeO4788NrfO7bYTbu4372r7j9bHaT/w2F9ZYn0/m1lh5Oq0fe10z0kZ5vtA+t00ylvrK4rDg2mSO7dOK6w6xuT7eWPolflrYv3rb3dZn/HX5PeLFxzFbEIAABCDQIvC5Cfz/lRLuCbJ//9bEtCSo7U9DnvXYnjDxPm/bCe80af738K+7kWDUV30KvypILFrxNW03sdVgtDyHH1xsrb6ACkxLJuXmBVLlET0yITpdrsMlSbTGslzCcxjCmw/x8fnCQGaxgYpu07dz022zvnsXgPmsf8/NPu4blLbCyeXNXUAmNx3G727f/Jep3sG2pYvXqrDlbryEE+h0+3QZrpc5WZEpOMtcoaf3Y+vFyLJaLPaLxdhb6H3lfZzc8Bnf+RC/knmpj+o6jNmy9guiu/qGi9k4YeTtmuL+VPKNhxJtbeXvLqLz/tpmLEqU2Xm5rdguy5hbWRGXot+2T2+D99NyNs7+TX7fo283QIgP7j1+7xVvE1OfRPL+8ftacVdCIiw2j/ulBjb3ufoY4hL55qmvqI87r66Uualvbu1f99P5++7j+Vbby/OkTfErK1jdy2Er8TIM9vm8WiU8uCJuXIxOcyzfx92CD5l3uQTquaNMZNcKPUIzhtulOe9yyzOWzkmiNpIvPRyW2tgT7+PUROPD+2DVOLuJ+7a+M+Ls9JugD/tUa6xcOodL29hybhM9u321yQ/jBVkz/mvXHaJveK4VHkv8tLR/tdt1i8t8jFvzi54+M/myfp5aGy8RJ75AAAIQ+H97d3DkKK4GALijeUHMpWPYHFyTwkbQ9wlgzx3CHPfUWcxhqyPhFbYlBAghwO425puqKdM2SL8+CSz/xkCgKHCnBH7/A357E9IbnZNbbEzxxVwyvb3W+9yZ65nkdEyY95Lpg6R2rr7e+v0z+v8aXbZnmMDvr5+P4X/NuJyiysyL/zXtJYX+Tq6P39Y7Ss5njEbrzNS0+QNUr/zuw9hlUtIffZ+f7VnuYTKT/2AXJ0TnxPGpeXvvn7HfnoEwSjCPPiT394NcLrNfT5sMvp7hFNrTnokRY+3OgAgvpwmkuQ8esa5MIDFxOvvlydC2i+RyBlI3uctUk648vZx+GGkT9b3ua89e6eo4T0SzFa2Ns9suW2yIOn7w6yeXSsbtpq1z/symfrtyddf2UTmGrn232TcyY7Y9Ey1JoOXaEhjHj118xe0m/LcaT9t1H7K37GfpcW78gWl+DIy9lj2zZfxFm+uXaaNjVU2/32Tfnm9zP9b7Hb9vNt6mTGeP/wssMjtU7TFlrpbV4yrdj/sH+vMZrecz/ZbOH1eX2R171u6bX+8wjLn3ZtksnxKUuwMAACAASURBVOusP56vbntyIkMu8RX35VXjt/PJbN4N6zhm8vPBbsXcUlfHunETtu/PJfo1LVmn/eXn8P5RFe8tvWNzu306ltpfeLyPfg1zq+PHpa1r2pjG2Cwa7+2ve85z+LNVKCc89vXLf4W4V7pvnBf2vnTptaWNOt9vcZ+aet+peS8vo4xOSBrNFyre20KcdX21sR9643/d544Qb+44tqafavevYr3Jl5OX40J/jH/le8TMkPEyAQIECFQK3CWBH99MrpODy7e9aybGla2oXO3fvyeS4DOJ/P/+u1wGp5c0/+uf5t/2+fg/DSKTfD+v361zvqxOL6E/vDFspox2/XOslxvM/pu9wezgi4SuyoqliTpDnG3duZvXjr6sGLaloupk8lT8oFVRVDf+SmMumexlKuzK6J9h3as+fuhrvwyYqqtL/OUmdVX1pGc4jhLsXflbEou1E8Wa9eI6kyY9xdEf0WTU1m7Vro7XJucaX68qo993sf7MuAgRTK0z9XzYrvxY7suaNrXll2KIrxX75gb7RjpmC445jxhjYbuadXJlz33hNV1uuW/SuqbLSH6ps2JcpnXcZ7ncxtiuyV8DtVF1ZeT2y1hGVfvz+3ZN22M9pVhvcPyej6XzyB2fq+JMTQtuU7HEOjL7U+0xZarsuuenDWL9mdjqyh6vtbbMuF3BOK5TPH6OY7o8c3uH2LfFeL73eD7X9vb12I7MOCi9Fvuj0Gdx+5p1MvVP9WZ4viaGuE62n0L/bEvgxzoK7YzrZOKocQptDo+xvEKdYd35x3mHGGMm/q78UE7+/aMro024bz+5rMYgrlOMu2tBf2n6uNGuF9uzoC1xm9L7Y/q+s2K/WFxHJv60jLm+isaZcoJnXCfTD7Guqu1nxlbGq6b8EGd4jPEWYuqNgVK9mTaHenonlhTLKHwe3jheulgsESBAgMCcwO0T+Ekidvgzrcz7wlx8N359PkE9eUL+8Czz0uVqhutOXK5neGPd/tnzuVgzyflR8jxzhny1Yq7Oy5cef/3dfmFRKOi/f5t//v67+XtuvakiknGzbZx0k/fZcmICp5/AbUOMk63SpCeJOZecCU2Nk7BMQFX1XAJqLvvT8ENeeXIfYui1KRNHjLE4Uay0TVwyVaUhZZYr60jPKhlVUlnGVJyFcXEJeLr82J+jmDJNzTwV+yGzfXyt2EfJ2B2VMR33KJSCQWxjad+4nlU2/QuJUY3dE4W6LystaEdXalyKjiOfkt0t9rPKuKfGZWzB/RaqbFb3e2X7i/t2XdurxmjivPb4XRPNLUybuE8Mj//zEUSLzHiPsc0cU+ZrKa8R6xnEEJ+/Yf3ryqwcm8mYGTSlDHB9NcY22Dg+v8ihMua27jh+Vs51thzPZ9p+Ce/6i8iBy9xrVW6xz6b2nQWO17Z0D5Xbxhhyv6IMZUzFd1Zo3s4nRE2tE8rIld9Fm54F3Keu3D4pql2s8h9sM/1niGFjG9sKqsb7VD3TEY5fCTGvdR+XmHsmOvc7rW3odVzM1D8oNL4nrH4vHxSY+bO2jq6vxv3RlTF+rV9lpcPkfli5feJdPEHhRv0U+33mfSE6bam3ap8Zv3+k/RDjHcWRrmWZAAECBLYK3D6BH98EwiVKusfSh+StDanf/r8mf+Z6ODt/4oaww6R8IYE/TMx3N6AdRDlMvveuOzNOpvcT/F1Zo18W9Mrp1ptfGtfZ+9VB+AVAKZE/X0l+jcmJVX71yWfj+Jub8J0/fcTL4AznG3FCVJw41U364qQmU1ZdPW1rp+q6RWKx8oNY7KPyJC6NdfE+X91/XbtHE+nNcXZlZ+OPMY4dYn8OB9TkgO2/EMdKZvv4WmYcpaVMxhDj/op9o3JMpYHH5fX+sYjCQnTMGE/aJWcXZcdEUt9kGZvHZVLJnRarbGbGXyxjuF71+Ov6f7RvV7Y79sEwht72U8fU3kqbk1TRozTeinG28dTF2o/88le0yNQfY5utP1dy/XOxnmEMcZ/IXX6ivvzemmvKjNuMj+m9spN+mDsO9Le7/HVTh+r96RZznS3H85m2n/Otd0zgzx27o+Nc32d69CbjJuzbpfflmXW2xrHSII7nmxw/ZtoYYyw5XfsoeowT2/F4eIuYYz1zYye0rXQGc2Z8xeZcLxs5PH5Gk7n6+2XXGmzp39o6Su9t1WVs7YfoODe2ynOTGO+N+qnWf77euXY9xntEf5T6iwABAgSmBG6fwI9vpF3iPpyJP3xPmwrqa54vJfIzl4BZkMAfJdTDJWjmHntfCoyT6VN5+ckvDIZfEPTqz7SxhY+XBGovG/Tv5cuOwTXw//e/iW23dFwybjaNkzgRq5nQdpPqYZ2TE6JeG8P25clRaRJWV09baTdx7CcOpp7vBXr+o1RXKcZYUrQd79thHx8+9mONJU0vxDrm+2+yPbGM9XFOe5S9J2NKW9xe+/P9rXm73rBuaHb+ezggz/Pr64e4mQ+ekzFEl3nbqg9VmRh7zQz3KpiJN90mLK/1D9s3K40n7Sb3v1hjXJgsI/qvH5exki0LN7fpBzPZd7H98+Nv0rBf1eRfddtvP37HAO5sOn38jxFMLpQsJvtqsrTCCysN2jMwe/eTObU3hu/fc6ZQa/6lpWXGsXmDffOrHGLM8/vTlx3PV7a9NEZLr1WP32CVeS8qlZ8fXMmzodze5ULLY2g8J6o5Ds2sszGO6DhzRnbS8vNi3C7jOlx3/u/aNn7NeJ+P9/zN0/WXseU+T+d44/6/1rRi34n+C/utdszH8lf0b20dpfe26jI2jv/uVwDzY6sU09Rr0XFhP8XtZvyn6l3Sri97j6jasaxEgAABAiWB2yfw07NpepPa+TfGUqD3e+2/5t+//2pGZ5oPs+VHSeBnocdfJkz+qiC7fc2TYfK+7gyVUEOc8FRNlKbrnJwQhYrOj2H7YyTwO9v2bMn2Zqzz/9ub/y7519Uxf7yY6qOujA1xxi+UBn079fy1kVMxnV/+/Ehunnz5wBcN396at/amauGGxZnkeGzXysl83P5L9o2NZ2xOOU89HwbZRuPp/it/cROqbx+nyuj8N4zLtKKly3ez6QcS2zkYp/H5ivE3Zdivafqvuu23H7/bL4q6G6Iv36fr4mzbWT/+hiqlOmKfDPpqWEbx740Gl7Lbm2wOEvnt9ZnfBjd1LwYyfLG+zOjQzlkr3tfa4/bove2LHbqY598r0+TMMIFYGh+paKwvN1Y2tr0UQ+m1Ykxp8MkvJ/pvrXXHgF5RyR+x/i3jJsY2mGsk9XT9l19naxxx+1zf9uLo/7F2u34p4a9yX8S6Kt4/Oq/x54nSeAqR1D52MX3PcSPWv7Dfag3Wlt/61dZRem+rLSPGuXI/7LafP5aWYpp6LZa/sJ9qt5ut94v2mdp4a/cv6xEgQIBAXuAuCfz2Dfnj7Xq26PlD2PYbBeXDv92zo7PYe2fDN02zKYH/V/PXXxX///6n6a5OM06aL76Ezpoz8CdIZ30mtqt/uktQzN2sqFhmPBNjfiKWTvL7H+pqJ5/lDxwhztKkZmriFbbtHjuf/gfwqee7LcNSqa5SjGH7ZWdzxK2WLSzov8n2LChjOri865zTZEzxQ3r7Qe+t+Zj4XmN6+/qE+GQZi1zC2C78BH240www56wGqw/+XOPfxbzWeNJuQQJ1soxF/gOOzX/e06Yf3GS/L2j/pGG/qsm/6rYPJvmkWCh8sj032Kfr4mwjye8PIcbSY6mO6baVSkxfC4brj2tpae3y5zAZ3B4vhyst/Hu2zAVjM1/1NzgsirmLb3jYLo2PtK3TY6Ur+/bH3fJcbDqmNPLLcq6dS7Yfl5iegb1ljAa/0nFoZp1FY2HckrUOa7cbR9A+c8s2hrLWz1/yMQ6e3ejetXnd8XOtf25fGLTs/Ofa8tuNa+sovbdVl7G1HxZsX4pp6rW1jrXbTdW77DPb9n2mNt7cWPMcAQIECNQL3CmBXx/Aw6w5SnYPbhi7IIE/SnYPz+avavQ4gZ8/6328Xpfo/6/5t70MzsT/7suC+YBGlwUafsExX8TsGvHN/7X0QWammLkzdNPN47prJ/lhwlOON7Yrc/ZFnHhlXktDTSf6/Q/gtYmdbr3cdaVLMcY44iS33N64/pqFWMf8B+Jo1wdpPzlM3PB3YUChnNg3nWH/S5Su3KmYou/MmTBT27c1xDJiPF296dJkGXG8V/RfXHftvlEfbxp7b3mhf/TZYDxpV51A7cbIaD8L7dlyfOsB1f9xX5t+HLGu4TiN7d+wb/ermvxruh/TTbYdv2M7bzHehlZpmOflEOt4fxytOniiZBHbMFv/oNDrn3H7DQb5kpvm8+M9Xlpn6ng7te3U85NlxrFZcWzMFP4tDvEYXRFzXHc8fkrjI21qbONgrMTnN4yBUgyl12Ldg5jSuONyNAjHn+5YvXp8bRw3l9jCvl3qx5l1tsYRtw82Ua24sMi/WFL74kwbY/+VnK6VxHXXj/fZcM8hb5trRr+1+87KfivtU2m7Y3w1+1e6YZrAn9029PuGvooOFWNjEOf5z7j9/Pgv2U2+tqD8NLxa/8l6435Q4RLXXd8PtfGmbbRMgAABAssFDpLAb5PcfzV//f1ve4n37L9R0n2YoF6QwB+drf+/wZcB2QiGT44T8//LlTP64uF/zbLvC9ok/3/Jmf/DONrr4v/b/N27fv7/mv8NfP7779/mn7//bv7++5/m3wnjTMn9p5IJxPqz8Kcng/3KzjPMa6J3PGmbnBD1Cgl1lSdHpUlNrGdmAl9KSscyhonsbKyvzSixWJ0cDu0d/yy5V9WmP7o6is2JH/Zy7enKWP3B/NyGUM61f+P4HI+X0OSpvph6Pmx3eewSCuv7qHTmU2jPeILej+MW+8YNEvixj+v8b2FcKqP0WufXGY/7sHtt27jsaqtdqou9PP7qyij1e9f+9ft2XYvrYg3xrDt+19VRabrh+D8nUoqz9N40V277eqnsbvuyQbfeeGlrfOMSp8ZnGAvr3tu+x6GLubw/3fd4fou2l8oovbZsfHTj8OwV38/L+39uDHXPdX2w/pgeyijFMbdOeH3d+G2iRcXcoGt89UkFySaFxdCGKYfwekWMhYRpaTwVgpt4qYtpTf/XxdKN29GcYmW/1dU7daycoBg8HevY8N4Wy5g/wDVv10v2rumH7sujubHV9feoL0rvhyv7qfb4Nu3UxTtPGL6MGn++mS6/3+m18fa38hcBAgQILBU4UAL/f8l17ttkfptsvv7/a3wN/O4s9ivpMIH/v/81f7XJ6vPZ7f+ck9dd4jqXfP+r+btNlKc3if2vTZ632/7V/DVKzufKaNvwV/P3P9ez6v/5u/lrmFgflTM3JJLk/F9/N3//E9p0qeMSW2p3We59STD6EmH9TW7jBOB8LcN1l17qyhhPRDqNbmKzaCLWFdBO166TxqkPHJeVYzyZM1HixKi91NTk9eKTCXypjMxrIdwYQ+uam8kVPvCEMtrHLt5ym9Ntli7HOgrt6b7QyLcnlrHxbOdQTts30TDnd21kWH9oHJ/f0KauzaVxnfRRJs7YhuKHqjCuZ2wz5ad9HesqtTndILMc3Gr8w7rFL//iOF/etpryY5sn9rNYxsZxmaEqPhXrLfXFBpu08miQqesWcaR1TS3HeopjNIzz8rFsqj2xjkw7Y1y1phuO/7GuiYUYZ84ixlc+pkwU3b0fbDCYKrt9PtrnYi9tWHhtqszotGLfjNt+sUNsyzcez2/R9lhGpp9Lr9W+J4bhEL3aeyuEm6xn6gzr1zzG+FaMm0v5Nceh+XW2xhG3L43hIcjG40e/uPk2xj77gvHej236r+i2ov/jtiXzaDwzZymVMQg/1jsz9qP3grJDVbGODe9tsYyZONs647or+qG3famttX2RiTfGVyo/4IXHWF/5/TmWnak39uEX7DOxriVtDG31SIAAAQLVAgdN4I8T0v2b2ObOmE8S3aOk+SWx/k965vkoqb20zqkEfrmc0RcPs0Nhrl2Z+gZn349/cbD0VwD9IONk5HxGxak5vb03H5+fTXfZ8M/ms/3746N5f3tr3kcXyA0fBMJ1Jbst25r618PNT4xiDJkJURdtqGddAqgtJ9ZzbmubxB/ctO/zo3kPNzadmpjGSd5lgj9obfMRPqhe6xgml8/tSc4QKd84MLS5vWHjqXn7SPvlItP6nm9IuHYSl8TSJmP714tv+31ws8NsH90ozmB7eos3q8xWdx0UsT+HK4Vyzh9mBn3c3jPkhn00GcM5xsTlfC3+wWjpXX96y76RJN/WjoM23uBW4x/W3WBctEvKb/ehgVxdH8Yv/dbtPzG+4oex62BMH5LYR8eYyvEX6x6O7bSeNOma6/eb7NuDCjN/1sUa9oWVx+9bmm45/mfanz5VtEj6o3zcT0tMljcafLY3rj2/vydlXhcnL3czXrX3zPoyw3hYsW9+m0MS83cdzze2ve280hgtvZaeOV43foNXe9P4y02nZw5nvbGV/yOUuWLcnAsM25eOQ0vWWRlHciwY38ugnXN/NO+j+WlymavRe2Jea/rZhW2883ifjnP4Soh7hfsN9p10H6jtt+I+lTRvS0I21rHhvS2WUbWTbuiHts298b/uc0cx3l75w/tgbdu/ivWmc8477zNbxksy7CwSIECAwIyABP4wGf/X35OXgBldZqe3beas8/bSM39lEuC97cLrwy8Nhgn89sz73Bn3Yfv2FwH/znR37uVlCfzzZYiGxWR+nbAqlKTc84fwkHCeeczO7XqJyMsHtddhOefJTFJpslieEIUVw4Sx9MGrnMgM9bRJtS5Rn4+3TZZP/UtvGj1qZ9vuijPOQixh+9P1i4ORb41tW2cugTfVgMHzbZI+xJF9bMsO64wCvBZ2kziTXz9UtCkajmIalHMuq7vRd9vGcwJipk2x/Hb7dptMH8V1RjEscNm8b5TH/aC7C38O3IpjarDuCuM5u1vsZ83qcZm0r+iQ40y2vY6d19Oy8TdnE2qd+xAX99sQx/CxZt8OlU081sW69fh9O9Otx/8JhvPTcxbx9Ws/5I4p0+VvM4hjJY6BU7zufTzuL0wMbirzFvtmaMuC/evuMd/1eL5tDLRjK47BzHtW6bXetpXjN5Z3Xj//JfX0eJ94ZfW4Obeg4pecdceq9e8t13YNT44IYzk8Zt53+p75OcmE2uDpG7bxBuN9EFz5z9X9v33fOQe2sN9in2X2t7Sh8biU6fd0vdxyqGPLe1soI3vSUa7S1f1wKWzr3GQ23oX91EYVyywc3+I6U/1Z43KDfWbLeMl1p+cIECBAIC9wkAT+pfGX67T/1fw1Sqq3z/3d/NNdAyevdb4c/N/j7f+6XNYmPQE/LeC/eJmcLtl+OeO/rfe67WjjYQL/elb7+Vrz7SV3urJqY09j6i//1/z7zz/N3+2lfEY2/yvE2JXy79/dZYjWfZHQldUttWcmvzdvp8yH+va59qzc4RlB3cbnpfYsvnb7mAw4Jz3zZ46nm85OiM4r133gKE1qhvWM4w2/QEijyy+Pt20/TLW/ULgm/meSw835TNy3mBQ+m51OmV84XOrP1XdJKp8u/TL9fUO+AcNn2zO+3gZ9f7r03XnV2fbcJs7Yf+czu8uNGvZnv0nteB74nsdj0kfhLJ2piXhFH5Vj6CLK9d/p6ltqZXX54VcFKz78dVEmXwRU+GfH8ALjmrbl3ZI+vNe4DGOjyiEVDMvbxl+NTVtT3F9K/X6jfTu0bPhYF+v24/etx9t4bNUf/4cG4e95i8y4KBz3Q7ndY2b72n3uM2zbf49uf93Ve+/qKptfukGZ434IX5iW3ttCW/pfwPfaEfbh4fH9TjF/3fF8Q9vTJNXQZea1y2DI1F0av6EP2oRYpr75ATa9xrpxU3Mcqlmni2tdHNft27HYzrviLz/D2E/e47qq2iP+eF5T8u9tm/6xvY23HO9pZLXL69wzfrXHzzSwBf02/55wKbjqvTyNIVke1jG2mX9vG5aRFF9cHNcVxnDp+H0tcsPcpCreBf10iSgzPgb7V1W97Z5618/DlXO/Ys95kQABAgRqBA6VwK8BeZx1JhL4jxOgSG4gUDvxukFViiBAYM8C4YuBpZfP2XObnzx2x/8n72DNe0CBkCieu2HlA4YuJAI7EfDetpOOEiYBAgQI7E5AAv9hu0wC/2G75oaBmeTeEFNRBJ5YIJ4Nd+OzRp+Y7OGb5vj/8F0kwGcTCF+Eln4h9Gxt1h4CXyzgve2LwVVHgAABAocRkMB/2K6WwH/YrrlhYCa5N8RUFIGnFeiulSt//zyd7Pj/PH2pJXsQ6I6jp/fSheL20BYxEnhcAe9tj9s3IiNAgACBfQtI4D9s/0ngP2zX3DAwk9wbYiqKwNMKXC/74KzRp+phx/+n6k6NeXSBcPb966mRv3/0zhLfngW8t+2598ROgAABAo8sIIH/sL0jgf+wXXPDwExyb4ipKAIECOxIwPF/R50l1F0LtDdwPLU3rl19E/BdN1/wBL5UwHvbl3KrjAABAgQOJCCB/7CdLYH/sF1zw8BMcm+IqSgCBAjsSMDxf0edJdSdCXSXy2mT9vG/XzHtrB+Fu0cB72177DUxEyBAgMAeBCTwH7aXJPAftmtuGJhJ7g0xFUWAAIEdCTj+76izhLozgWEC/9S8vX80rny/s24U7i4FvLftstsETYAAAQI7EJDA30EnCZEAAQIECBAgQIAAAQIECBAgQIAAAQIEjicggX+8PtdiAgQIECBAgAABAgQIECBAgAABAgQIENiBgAT+DjpJiAQIECBAgAABAgQIECBAgAABAgQIECBwPAEJ/OP1uRYTIECAAAECBAgQIECAAAECBAgQIECAwA4EJPB30ElCJECAAAECBAgQIECAAAECBAgQIECAAIHjCUjgH6/PtZgAAQIECBAgQOCIAn9+NT9eXpqXxf9/NL/+TIP9+f2r+fnjx6DcH82PHz+bn79+N7lNf//MxPHjV3bd6Zq9QoAAAQIECBAgQOD5BSTwn7+PtZAAAQIECBAgQIBA0/z+eU2y/2x+J1n1P79C8v1n8ztxmnq+W+VP8+vHJRH/42eaqP/T/I5lTiX//zS9JH5v+64GSwQIECBAgAABAgSOLiCBf/QRoP0ECBAgQIAAAQKHELgkzMcJ9ZhI/5mm75umCWfsD58/ayXJ++zp+eH1/pcCKXT3BcE4pnQ9ywQIECBAgAABAgSOLCCBf+Te13YCBAgQIECAAIGDCPxufr68ND9GyfbL8+1ldUavXRP4o+dbsfRs/gnB8xcDhcvixC8OCutMFO1pAgQIECBAgAABAocRkMA/TFdrKAECBAgQIECAAIGBQDjL/uWlGZ1of31t9Pz55PzrZXdWJ9/DGfovzUuugkGY/iRAgAABAgQIECBwVAEJ/KP2vHYTIECAAAECBAgQiGfSL7uMTXf5m+lL5JRxC2f+lzf0KgECBAgQIECAAIFDCUjgH6q7NZYAAQIECBAgQIBAJxAT8UvPpI+J/8yld7rip5fimf/LvjiYLtArBAgQIECAAAECBJ5TQAL/OftVqwgQIECAAAECBAjMCGy5jE13Bv3l+vm/mz8ztaUvxy8OXtaewZ+WZpkAAQIECBAgQIDA8wpI4D9v32oZAQIECBAgQIAAgYJAl4TP3qi2sOX5pXgW/UvTJvFffvxsfldm8d3Adg7X6wQIECBAgAABAgQuAhL4RgIBAgQIECBAgACBIwrEBPyGy9j8+d38/HFN4LdJ/Jeasroz/1d9cXDEvtJmAgQIECBAgACBwwpI4B+26zWcAAECBAgQIEDgyAK3u4zNn+b3zx+Xs/DPSfyZy+LELw5emp+/j9wD2k6AAAECBAgQIEBgXkACf97IGgQIECBAgAABAgSeTuDWl7HpvhB4aV5Kmfl4A9yZRP/TiWsQAQIECBAgQIAAgeUCEvjLzWxBgAABAgQIECBAYOcC97iMTVfmy49fkze1vfUXBzvvCOETIECAAAECBAgQKApI4Bd5vEiAAAECBAgQIEDgCQXudBmbeBb+ZAI/SfKXztJ/QnJNIkCAAAECBAgQILBGQAJ/jZptCBAgQIAAAQIECOxZIF7Gpuams/UNnU/g/25+nq+T7/r39arWJECAAAECBAgQOLKABP6Re1/bCRAgQIAAAQIEDikQE+0vC65Dfz1rv3TifLg8zo9ff/Kud/riIF+ZZwkQIECAAAECBAjsX0ACf/99qAUECBAgQIAAAQIEFggkl7GZvNRNpriQfJ/K4MfL8kx/KbDqi4NMKJ4iQIAAAQIECBAgcBQBCfyj9LR2EiBAgAABAgQIEGia5k9IxJ8vZfOz+T1xsvwQK5xd//Ly0vz49Tu5Se2fc5k/2vJ+FMr7010+5+XlR/Pr97AGfxMgQIAAAQIECBAgMBSQwB+K+JsAAQIECBAgQIDAkwp0Z8C/NG0i/vK/7jr4f37/bn79/Nn8+PGjOSfr4/Yv5+d+/v6TJPUHgPHs/FDn5XHqZP7B1v4kQIAAAQIECBAgcFgBCfzDdr2GEyBAgAABAgQIECBAgAABAgQIECBAgMAjC0jgP3LviI0AAQIECBAgQIAAAQIECBAgQIAAAQIEDisggX/YrtdwAgQIECBAgACBP79/NT9//EguJ9Ne2uVH8+PHz+Zn7zrvnVV6Lfh4GZolN4PtirJEgAABAgQIECBAgACBooAEfpHHiwQIECBAgAABAs8p8Kf59eNyHfYfP/s3ZP39KyT0p64N/6fpJfF72z+nllYRIECAAAECBAgQIPA9AhL43+OuVgIECBAgQIAAgW8TSJL3v/5kogiv/2x+Z15tn+puBjuV5J/Y0NMECBAgQIAAAQIECBBYICCBvwDLqgQIECBAgAABAk8g8Pvn9ZI50wn68xn2hcvixDPwC+s8gZQmECBAgAABAgQIECDwzQIS+N/cAaonQIAAAQIECBD4WoF49vzq5Hs4Q/+lefk5dY7+17ZJR17LgwAAIABJREFUbQQIECBAgAABAgQIPKeABP5z9qtWESBAgAABAgQITAjEBP7L9Bn4E5ten/7d/Hy5Xj8/ewme8tZeJUCAAAECBAgQIECAQK2ABH6tlPUIECBAgAABAgSeQyBeQuel+bEmAf/nV/PjnMB3/fvnGBBaQYAAAQIECBAgQOBxBSTwH7dvREaAAAECBAgQIHAXge4M+peXNon/u8ndynaq6luewd/Wv+r/6sv/TLXK8wQIECBAgAABAgQIPKKABP4j9oqYCBAgQIAAAQIE7isQz6K/JtB//Gx+V2bxt9/Atv8FggT+fbta6QQIECBAgAABAgT2LCCBv+feEzsBAgQIECBAgMB6gT+/m58/0jPgay6J093AdtXld9ZHa0sCBAgQIECAAAECBA4oIIF/wE7XZAIECBAgQIAAgSDwp/n980dyGZuZG9smZ+7//B3KePzHVWf5r728zw22e3xRERIgQIAAAQIECBD4GgEJ/K9xVgsBAgQIECBAgMADC3TXtX9pXkqZ+XgD3JlE/4O1VQL/wTpEOAQIECBAgAABAgQqBSTwK6GsRoAAAQIECBAg8MwC3aVxXgo3iN1+/ftnNtQ2AgQIECBAgAABAgRuLSCBf2tR5REgQIAAAQIECOxSIJ6FP5nAT5L8pbP0Z1vvJrazRFYgQIAAAQIECBAgQOAsIIFvIBAgQIAAAQIECBBommY+gd8l3jfl75uunNWXtpn8kkFXEiBAgAABAgQIECDwTAIS+M/Um9pCgAABAgQIECCQF7jefLaUeA+Xx/nx60++jHj9+x/N1Cr5DT1LgAABAgQIECBAgACBdQIS+OvcbEWAAAECBAgQILAngZB8n8rgXxP8Ly/TN6eNZ+gX1tkTiVgJECBAgAABAgQIEHh8AQn8x+8jERIgQIAAAQIECGwUCGfXt5es+fHrd9OdY/+n+fP7Z/Pj5aV5+fGz+d290K/xT3rZmx/Nr9/9l/1FgAABAgQIECBAgACBewhI4N9DVZkECBAgQIAAAQIPJfDn9+/m18+fzY8fPy7J+jZhf/3fPvfz958kqT8IPZ6d323Tbjt1Mv9ga38SIECAAAECBAgQIEBgtYAE/mo6GxIgQIAAAQIECBB4coGJLy/Clx/Tj+4T8OQjQ/MIECBAgAABAgS+SEAC/4ugVUOAAAECBAgQIEBgdwLh3gHtdf+TywtN3Q9g6vndtVvABAgQIECAAAECBB5EQAL/QTpCGAQIECBAgAABAgQeTeBy74Dx2fTxngLD6wiFM/aHzz9aw8RDgAABAgQIECBAYCcCEvg76ShhEiBAgAABAgQIEPhagcuNe3/8Sk69PwfQ3dB39No1gT96/msDVxsBAgQIECBAgACBpxGQwH+artQQAgQIECBAgAABAl8gEM6yz93I9/qaE/C/oB9UQYAAAQIECBAgcAgBCfxDdLNGEiBAgAABAgQIELiRQLwu/vjSOjeqQTEECBAgQIAAAQIECFwFJPANBQIECBAgQIAAAQIEqgXijWp//GqGF9epLsSKBAgQIECAAAECBAhUCUjgVzFZiQABAgQIECBAgACBpvnT/Prx0ry8vDQvrpNjQBAgQIAAAQIECBC4u4AE/t2JVUCAAAECBAgQIEDgWQQKN7B9liZqBwECBAgQIECAAIEHEpDAf6DOEAoBAgQIECBAgACBhxaIN7B1/fuH7ifBESBAgAABAgQIPI2ABP7TdKWGECBAgAABAgQIELivQLz+/cvP5vd9q1I6AQIECBAgQIAAAQJN00jgGwYECBAgQIAAAQIECFQJ/P55vf69G9hWeVmJAAECBAgQIECAwFYBCfytgrYnQIAAAQIECBAgcAiB7ga2P379OUSLNZIAAQIECBAgQIDAdwtI4H93D6ifAAECBAgQIECAwB4E4vXvX5qfrp+zhx4TIwECBAgQIECAwBMISOA/QSdqAgECBAgQIECAAIG7C/z+2by8tJfQcQPbu1urgAABAgQIECBAgMBVQALfUCBAgAABAgQIECBAYFbADWxniaxAgAABAgQIECBA4OYCEvg3J1UgAQIECBAgQIAAgWcT6K5//+IGts/WudpDgAABAgQIECDwwAIS+A/cOUIjQIAAAQIECBAg8AgCf+Llc9pL6PxsfruH7SN0ixgIECBAgAABAgQOICCBf4BO1kQCBAgQIECAAAECawW6S+e0yfvw33Xw13rajgABAgQIECBAgMASAQn8JVrWJUCAAAECBAgQIECAAAECBAgQIECAAAECXyQggf9F0KohQIAAAQIECBAgQIAAAQIECBAgQIAAAQJLBCTwl2hZlwABAgQIECBAgAABAgQIECBAgAABAgQIfJGABP4XQauGAAECBAgQIECAAAECBAgQIECAAAECBAgsEZDAX6JlXQIECBAgQIAAAQIECBAgQIAAAQIECBAg8EUCEvhfBK0aAgQIECBAgAABAgQIECBAgAABAgQIECCwREACf4mWdQkQIECAAAECBAgQIECAAAECBAgQIECAwBcJSOB/EbRqCBAgQIAAAQIECBAgQIAAAQIECBAgQIDAEgEJ/CVa1iVAgAABAgQIECBAgAABAgQIECBAgAABAl8kIIH/RdCqIUCAAAECBAgQIECAAAECBAgQIECAAAECSwQk8JdoWZcAAQIECBAgQIAAAQIECBAgQIAAAQIECHyRgAT+F0GrhgABAgQIECBAgAABAgQIECBAgAABAgQILBGQwF+iZV0CBAgQIECAAAECBAgQIECAAAECBAgQIPBFAhL4XwStGgIECBAgQIAAAQIECBAgQIAAAQIECBAgsERAAn+JlnUJECBAgAABAgQIECBAgAABAgQIECBAgMAXCUjgfxG0aggQIECAAAECBAgQIECAAAECBAgQIECAwBIBCfwlWtYlQIAAAQIECBAgQIAAAQIECBAgQIAAAQJfJCCB/0XQqiFAgAABAgQIECBAgAABAgQIECBAgAABAksEJPCXaFmXAAECBAgQIECAAAECBAgQIECAAAECBAh8kYAE/hdBq4YAAQIECBAgQIAAAQIECBAgQIAAAQIECCwRkMBfomVdAgQIECBAgAABAgQIECBAgAABAgQIECDwRQIS+F8ErRoCBAgQIECAAAECBAgQIECAAAECBAgQILBEQAJ/iZZ1CRAgQIAAAQIECBAgQIAAAQIECBAgQIDAFwlI4H8RtGoeW+Dz/dS8vr42r28fjx2o6I4t8PnRvL+dmlM7Vq//T6dT8/7xeWyXJ2z9x9u1jzPHpHC8OmVee0KK6iaVzKoLseIuBG7R1/ajx+/q0EcPPTfzvvz4A+kBIywdw8K4/+r3+O+q9wG7R0gECBAgQOAhBQ6ZwP/8/GjeTv0kWJsMO53emrf3j0YqLB2rH81bkix8fT017zcF+mzeT10yMiQlqx5P7zfrqzBpfegPiWm3WD6gwHhfvOwnt94nD0j7gE2e/nCfHDNveAx8QILFIU2bLS7qITeI71PV/d6NldNt37i/3Wd7X3c2r9We397swwUQx/zDflnpfflwg/JGDZ4+hn3Xsem76r0RqGIIECBAgMABBA6WwP88n71alRye+rDw+dl8nv8fYHQ0TRMnmDGJf+tkYTJhjHVUJvRv+KH78T8kHmO8aeW0QLcvvjVOuJ92epZXYn9n3ovC8erZkrJb+65ktrXsR9g+9Ht9wrl7f322sXKLvg6ez2bzCGP1VjGEPnrUkyviOHz1vnyrPj9KOXHsPNB7fNjfHBOPMgq1kwABAgT2JnCoBH6cLFUkijPzqab5fO8uXXHD5PHDDpqPt3iZju5Lj1sn8KdbH/sr2xnT2615JUxaH/VD4po22eaZBLqz/L5gd3gmuN22Zcvx77ztEd6jBr27xWxQ1EP+Gd+nqvt2nwn8mvG7576uad9DDsBvCCqO+Yd84/u692Vj5hsG352r/OpjmDF05w5VPAECBAgQ+AKB4yTw0+R7SOCfTs3b29v1//Ua6OfX3prcldDjB4l2neoP0F/Qi3epovtg0iXv2zPjJfDvwq1QAkWBsD9+3f5XDMeLdxdY/+H+Olae/j1q3AXrzcZlPeIzcQ5S3bd7TODXjd/99nVd+x5x/H1HTHHMP3QC/97vy8bMd4y9e9f5tccwY+je/al8AgQIECDwFQKHSeDHDwExeZ+/fnp7ffz37LVir5Ofme2/otO+oo44sQztjY/3/qDStS7G8AUf3OL4+IK6uhZaIlArEI4/X7f/1UZmvfsIrD7+hV9OVSd57xP/d5S62uw7gl1RZ3yfqu7bHSbwK8fvbvu6sn0rhsdTbhLH/EPOzb7ofdmYecqx/aXHMGPoKceQRhEgQIDA8QSOm8Bf8mHgfNPbueuy58/ab5rP5vPjrTmd0jP82zP4T83p7b1wLevug/f5DPgY72fz8Ta4AW/7S4JbXhQ7TPTapH17Y9/eTWbzCcQ2pnCm/inGum2HWjO5/fx4P9/n4NSL+XKD4veC0fyHxPBBrfTri8/m473t63SsnM43R/743Hbn32XtSsZORV9E52xSaF2bLmUmY2WwD+Wur7msjcOxlYsz7YduOU+S2/42fddFmj8WtMeGdv/NjpDzF4pv3aW74hdpoT1Tx52u1nSpNW5v4B321ctjeyx6a0r7R3sc2zK2t/Ttlphzx96i9xUr7BNhrORiaG96Xja7FLa27SGG3GW9sq+1YyU5Dvf7+DJe2nEWbxoeGpcOkMFyrCd7bBis3Nyu7NubdbHljj1pS2Kbiz7b9oe0viXL8X2qqj/akufbnRvb7S/t7n1MGLW7avx2Ww37KdeOuX10WEZX+mUpV2adzbCktitq9s/MdhNzyJrjWK608Fxo+2WYh/em8L7SPmbmqOf38XXzz7X7dBzzk/vjN8zNqt+X5/e/YX/0jveLxszGuq6BXMbFsrnb1vlBMJh67I/VdlcazmMyY3VQ2Le069p/p3TelnxeC+3q9XmvH16b3Gtd03LvQ5fPO2/vH5c55aIxlNz3bHJ/a2sPx4v+XLLmmBTaHIof9+X857VzBKMxEI5ZdfOyztASAQIECBDYl8BxE/jtDadq+ipNZqeTsNFyprzcZXtG2702+YR3Nxm/JGLaG2QlH1Qy5dzmsj5pHe0kfhhHMrEPfhmjMDkLq6x5DBO98gQ2lDyM8zqZGzjlrdvbG1wnotnAP7ovMaYSJ4MEdS55Npc4Ci3pP65rV2zP7Djv+nsU34Y2hb47c2bGR7+udW3snJL+eb1+eBl+yXVNSL3lvjTb0M4uhpmlijraL8uG3zGdv6xrv+xLvxQ6/90+d/2CYabq8HL6JVtufE5eHqsi9n5/hhrbx219e8+Yc94h8jB+23bNxTB1TNne9msyLXNMCvGlx8bP85eH/eTaZYyEsdJ+UXS+M/n1C5zMe1YAOD8Wjg299bo/th93to6XKbOu3OmxemlHzrZr4SUR2/9S+1pn8l4zV0evvAV/RN+p96FRWeV2z43t+xwTRkGen6gev9fN036aa8fUPpqWMYxqrsxJm2FB17+Xtu+8WcWxt3Qcmwjl/HRo++n9o/tSLxnD3XvE5bgRx152nVKisRuDaZm9pGb7vp05zrWBxnqzryfv/VP7RIXh0v21HRuXY2uy72ffl7u2z9UR+mPVMf0yWGI/rqkrjJUQR/+9omvnqOw7+IZYwmOIqa07LHdjqYutfW4U37WQsN2Xtas9cWtqX2mfP703H4XPHSHedDwEj/Pj3OfL6/6w9LgzX2+yz021LzOXDbGH8i992f8CYNinU8eEWx+bQ2weCRAgQIDAHgTulMDvJz3aM82zZ5d+pVBuslNzBmUm+TicZFz+HiRDcvVNTXayk85u4p+vrz9pDetMTV5rqcPk6lzeZabbvPXiftQE/uWDXv6Mu/YslW6imPscOP0hMemHqQ+ITZfoGn+Ynq97rm/a2Ja3q4sp195YZxzfw37ttl/TpjCO2rM4zx9izhP6cBQIjzGK84f05W28bB/qyn2BFft18t4N29rZtaC0NKyj3/7Pz/ZssrA/D44jsdhQxrCf4grlhbSfh98SnM+mem/aLzf6kbVFhnovv8bpb1o3tteN3zTRfMqc6d6eAVYbc79VNd5xTF2PfW2Sa1BKL7E/tY+tbvu5+dcxkSk8xpd5LY75iuNVZvNuHMUxMzUmu1W7pW681JU9Hs/3MeuO43PvkSXbW+wPndXypfm+HZZZaHfs3637V1pn3TEh3WK4XNvG2E8b9tFYxnCwrrYZtmb8d237xmNtcASqet8Y1x+eiW0/+52at/f+r8Da4+soATlKzPXn+kPGUNeWfTp6jQrvxnbuvf9Sd3c8WjOPCfFPP4byx8exyzZdjFuOO9Fg8pje1nabusK4qJu7hfavnx9M23avhJi6zzmD9+P2LPM4h3q9fFHdbX5eCmV8SbvSz39tor636/aPkd1nrX7AId5sAr9XfnviR1rBZW40/HVg3RiaOwN/2N9pvU3zJXOrOx6b+z3gLwIECBAg8JgCd0ngx4lHL/G7JAlwH6x8XJeJ53Cyk0bw+Xn5uWCYPJ4fz5Oyz+b8Wvt6bx7TTaTjNoNJ3PnSDj2f4QeATBnt+ucvHT6aj4+PyyUtemW0CZ8NznFilJaTTNjOdQ3jPJ8iNfigl1knBa1cjv01+uBWWUBvtc4z90EqTm57dXXbTH9ATM4QK3y4iuVv6Z9ee8IfXYzDdtX4Ta0T413ZpljueczmEsMh/prH6TY28YPM1JgrbJue3beynTXRdxalfTPZz3pjMNQQXp9qZ1gv/xj7M1t2fpv22bjd3Xym+yfWvTDmW3h3ZUyf0ZcmTLIfsqdZr69Mt71dIcaQaX/ptehW6LO4fc06mfpLTYtlF7arWSdfx1qz8nZpXaXYamzjOjc/1tftj2lb0jE6fH+IcRb6qV/W5a+4XWHsxHVWGMRtC+W3kcR+yp4AESLv+j23j8YyBgYxhsHzodQtj7Hs6vZted+YjjS2veSXnRMOyywbD9ce/91tPxyj7brRq9cX3TbfOzebe1/u4sy1LbWI/dFr52WNaFAcM7epK8ZRMXeriSuus+JYEHzSmKYdu/bnxkRaRu71UFf7GGMueMd1Mu2KdVVtn//1SiwjMx7ia4Xy0/bUtqldL5ZdqjfT5q6+sE/MtKt03Em+jBoet6N7Jr4uBksECBAgQOB5BW6fwI8JtXBGaff4/e+3yQRvlPjOnUGSdHzvg0y7biEpOVx3YrITJyLXWPoT01ysmQ9yGe91zsmk6zU9g6X//OTPxs/XWXw7n8XbP9skMVy4WJpILizqvHr0zgCNX0v8S32dnKGcKbYLM+mn4nrdFtVL49ivm8ZxmBk351W6vu3HNPX8IKRCm2LfTZ75Pihr5s/1bSx9INnezpmw249D8RcsfePMlsX+CuVsTOAXx/IwplBnejwYrnP+tBu/wJttY3bz/OWrYp/fI+Y2joJ3N36n9p1LQ2KMaxqeJgoy28cYFr4WYyq5xX13ajxV9n2mP0uul9U3lL3arDue999nxw2Ydq+MO9rO7DfjqmefqerbXinT7V5eVlvw/Q1q44r9NDG/CgyxvAX7UdymtA+FChY+1pVd6XzukrfKS2L1A63yS8Zyab+JbcoY92vN/1XafvxaN6aL8/AvGKvd/jB1HO1iLflduvH6WSljGA2K4/E2dXXjYqpNoQ8rx2gyhjJNC4UVH7uYyu/H3XvPOPaujPFr/cq3tqty+2R8DpPUbTwx3hFabfn9VtWNoRvVe8e5VW07+q33FwECBAgQeB6B2yfw4xt3l7gPZ6HPTWC/hrX9+WLp2oQTN4QdtqswkY4TjPAlwWgCdm1pMrE9G/XW6ybjc35xojdXXwG4V0avbd1k8RLH3OS3UMnCl2JMPZeFhSSrx37JlNd/LbnOZs8iKSwsxj6c+WCRTNZvvR/0Yw+BtY/dGMrWGcf0IPYbtCn23ZxfGm5hebKNU21IyoqxDPv9Bu1Mqskvxvgq9psYTy7xF/bDinJykSRljy8lkNsgTcwPxsdo9RBb6Wz10Ubxicm+XRPzjbzjmJkZvzH2mfViYwcLcfvh2Cx+gC99yK47e3D1sWEQf/7PlcedfGGjZ9eZzcSU1BL7ftgncTzed39IQhktxrZXj7dCu2N7Zk5eSKOI29zPoLaNsZ9mLErlxTIm+3qBTepUWC7FEze70XEslpdZiG0v+nXH9iFRWmRVm9INBstx+0wl/dcebW4WfKbelwv738Ag9kfJoNhXt6krxlGs6+vmBy1TdUzJPHvIWF3G1mNc9b7b9deiBH4sf+4Y3B9gcT+a6dfoNAa8flE4NdaT+qLheC4by5+JYzLepOzquWwSmkUCBAgQILB3gdsn8NM315BQvj4O5wPfi1dK5GcmKHHSdP1iojD5iBOUQftDIn7ysVdmMrmb8YsTnVBfgC70Re9M+l7bhm0PH1DCFzLD1+/Xi9ExtKemqvaXAO9vzdv1hmJZ60x50fDto/uw8Hq96WOp3p5dMCo/ZpPppTra17a2qze2zgXGa4aO4rlBm76s7+IYnxqX3X50j3bOdVt3RljNh61uXxsP0fDaVDtnI2k/Bccz5c/7xenyZWXv6l9pMTcYB7G4leN3fczbvGvHbzxujPav2PLV+24phtJrVTG14YX+zcReKj9p2eTidAyF/TEtbeV4mY67st40WTTcCYNXeJ+teBwdc9I2rliedp0qbKbd33lMmAi5to3Tfd0vuFResYylNv1qJ/8qxRM3imNt23EslpdZKLY9rl/3vlPVppX7dCz7Iedmcz4z+190TpLUw+POOVd+/ZVa5ljdFXGbuurGRfL+UXEcDPPwtcfD6pgKJ61UlxH3vfI8PrSpfey1K24/v++WYpp6Le4PM7886sbFZSluVxxDhXG4oF3dL1MKCfzMOE9jLsZ7p2NzWr9lAgQIECDwqAK3T+CnH4B7E7v5ycz3IPVvwhUnZcPJRZy8XCd1hUlQnHj12l8xGeyV2U3GQ0zDkIJXnOiE+sKKMbmZqzskAsMHkMs6vYnouYL+673EfwjgTo/RMbSnVM/nR3Ij0Gtbrkn89qZVb+3NVMNNrjLljQyDZa9PxgH0tgv1zTy2N4ur/rexXZPXiI9jI4yDLqJbtOnr+i7ZT94GNzY7f+8xfXmBW7SzU8svdXXUHP+6fW16Pxz3V77mqWfzX1yecnbJjZ9fZ8b06fr6aGxvHb/nZqyJeZt37fiN/Zs7TmxseymG0mvFmHrDohtv/UNieH7DWJs6vkw9H+K6m1l3nBjvW6Hyy+OUbXRt3xvW7g/9qhb/FWPIjbdsaTXtXrN/3c+gto1T/TRkKJU3X0a9zbDeqb9L8YRt4jpVSbqwvw4SiaGwicf5trcbhrLLx4IYb25cbtynY9lhThYec3Ulbe1td7f9dc6nZv+7BF3qj9iWYptvU1cpjoS3u078FxwPa2Mq/bKstoxovbJd3fbzc5BSTFOvxfKLYyHtqcty7Xaz9W48Jk2VP4x4Pt7bH5uHMfibAAECBAg8osBdEvjtJOrj7XrGSHt2wlvhevEPohInC1MfDjYl8E9NSHAVH3tO3WQ8JPCnEg9xQhRiD9mYmCyZTuCP2h3KqHiciudWXRrbFdozWXD4EFX+uXupvJ5De8Phj/fubOVS/XFczE/WJ8OffGF7u6Y+0MT25j4E3KBNJet+c2/Qxt44PzXhC5u38IXN1C8pbtDOflsyfy2qo7MYD7nwWjmRkolg8qnPYWLlNBjDi2LPVRNiXr9fDku9bcxdfEPv2vE7vR91ZZd+5l2qZ+1r0zENNfNn2y3ZflxieKZ7/0rfJ8pl39MsH0+INn2cdN+8P6S1rFsu++XKrG93u/Vt969cPPPP1bZxsp8GVZTKqy2jymZQ79SfpXjiNovGWrffDI9jsbzMQl3bQ9nl953pNoXt178HxLLbOenDzM0CaGjflE/9/lfqj2iQm6+FUApnn8dVrgulukqv9cpZNEZ7Wy7+ozqmgkF1GVvbtWD7UkxTr9WNhTFx7XZT9cZf7C1M4A+PSZPlD0KujbfdbPZ9a1C2PwkQIECAwJ4F7pTA3yFJLwnYJrynklnXZHhhIh0nHiEJPpzBVPF0E/+QwM9dJzFN0Ib1uoTJZ/Px8TH5vz0PfBRriLnisaunqkGLV1o80Rv22aDGUnnRIf0SJU7EC2e2xXWmPsANgljwZ4xpQ7vO1YUY45jtxla2D8P6G25AW7JOCW7Wxs/3eLPYsB+0vxZpvzycvKnyDdqZtiW7HI8rFeMjrjv+2XHtmZDZGGae/Ey+rOqNh40+N+vbTPyTMUfDbd6Lx2/cty7B3qLtpRhKr8W6BzFlGNs3gOsXleH9bubYkC1k4skwfmIc5bJj3BuOd9Mu5bq7FnTrjd5vQ3s2HBe7elYuxRhCf82VExKMuWPK9LaT+1esv2L/mi6++EocB3Hc5Fef7uv++qXyastIS5y0SVcqLJfiiZvF/bLCOa67rI/r2h7GTzmOqTbF5zfs07GMB5qbxX6a/YVCdzzpvbd2BVyXuvVGx510nl7cJ7oyttRVNy7SS+iUx8aoqSueiDEV298WHMbreF+IZcx9Htt6jIvbzx+jSzFNvrag/JQ67kczhpP1xuNMRX/Hddf3Q228vTZOzWXTlSwTIECAAIGdCxwkgd9ObNtk3kfzOXH1kjhZCInr4SQnTprmE/jdmQrhzPf5idx4HHWT8S4hmSknmSiF9ebmp2ldo3aH9lc8ph8S2jMg3s+XqikkTNOKK5YnJ5KDbevWSzwzQNFh8FosezJp031gSD0GIa76M9Y9iKlfWLldl3VDjNeJdxwzmfF03iCsX/jioh/E6K+62PNnAI8KS86qyn24PX9oO59t/zadrB8X2vuwd+u+66rrLIvd2G4QjzG5fgnlVHx46iqvXorjv3fcC3WuGwd1Y6Bm/OabMRfzFu+62JMvQHtutxnXpRiv+cJjAAAgAElEQVRKr+Vd8obpF8Bnr3hsuMU4C+On7rhTalMXfXm8lMoovdaVH2J+bcbHmu61+x0vukiyS7F/xomR7PrxmLK8P/Pj6P4G+XrHravrz+l9tC2xtoxh7bUxDrdr/67btnPechzL1R+eq2t7iKM8fqbaVFdHeZ+OZQ8gYtnfMDcLhl3CeNonxjmIvyujXQrOueNO7ZipHc/luuri7cd87+NhjGnmi6BuDjXuj1hGsR9u0a7Ot1xVt974vabQl0vfA64DLe5Hg7nK9eX4MO3UxVtuV3kuO11+DOG8UBtvf6v6fWW4nb8JECBAgMBeBA6UwA/J9PYxucxGm3Q+dZf7CUnw0YQ0fhDuyjmf3Xs+w/39nLzuzvRNPpDERPj1hpGfn81n8r+9VMv726k5jSamuTIusb+9X8+qfx/clPJcVy75VxqO/XjS2C7L3aTtYnNq3j+u24RikwllXGfii5KwSc1j7UQvrleamKb9l5l9xsni6LW0H/K2sf7JD5I1rR2vE8vd0K5QaiirHdfTbQ1rJx8eVrYp1Jf7YNLVktSzoY2hPaN9Nq1oYjnGubKdE8X2ng7xjX7V01sr2c9GY7BdMbw+/mDaK2blHzHGQd1bfOK2G/q21JypmOPzo2NqWlrwzCdMYuwDj7SEdjnWNWhj3H7wfG/7mWNSLCMTQ+m1LomRP171Ykjb0H7BHe57kKlzuF3N3yHOmuNOWLe9TMbk28ctzArlx/a376UZgxjj2uPFx/v5fixv3WShhrG3ThfDzBeW7SWywvwj05ZeoZk/osVg267++xyLasdvjGMQ37ApsR2Zfq8tY7LMmbqH253/jmO4vH/GuDccx7L1X5+sa3sYQ+W+jrEOjGMdg+d7cUWP/D4Xyx5Zf9/crIt/3qfGILZx4rizeJ8oeM/VFeMdeXetDktx3bXHw1DQzGNXT+lkgmQ8ZNofy/iCdsW6MnHEps6M+1hGJt74Wqn8WNF1IdZXPu7EsjP1dmOnVEbYJ/L7c6n8NORY15I2DuYzaXmWCRAgQIDAswgcNIHfJeFDwr7/mJucJJOS8KG49zj4gDNKai+tM5mM9uopl7MmiVkezMN2D9rZbhwnhl1smblfuZrMq7UTvbT+0/vwRqbtjY4GX9BkgouTxcxrXfI0PyHtvX6+3vrnKAHV/kLho/3CZclkNHFd267IGso6tV9YXfop29Rugy75s6JN39J3S2xv1M5YTHEh2Yfa68wPfgbUv35n7tjTFh7KyOx/xbovL362Y2/ickLlS0KEetsxc/0SclDf5NgOY669D8qK/fImMa/0rh2/8bgxHHsb237u8bfr8TSzoxbjS957cjcnHnRfMrbam33XHBvGJUw+Exxqjjth3ZXjZc4sfZ9ok/P9Lwnq3ie6/XDF/hD34cu2S+5l3vcd7JPtvpU25nN4c7/8MeUm+9fSY0K/Ifm/KsdvcR9ISp7cR89Tl/w+tt4mqXhqsbJ9vbG28jg2FUL7fJ1fGGvl951J4xvs07HszHGwZzT3+j3GatynCz6JwerjTu2YuUFddeMijKwwPtYcD0MZ848xputnodF8ov0FcHLPo9yxNZaRHSfDGDa2K+mv830b0uNz89l8fgxOvsrEVIy3V/7wi9z2BKuP5n0450q2Kc0LivXG8R7uadFr2OBa9Pn3nXL5XT/E/X4wt7rrsbmr3hIBAgQIEHhYAQn8YXL8/EEp319xQjHc5vx3ZgI/vElkdrvrB8jRWVbDBP6pecuecR+2b28W/JEPfNOz6UT2MkkfTY7TDw3XNt4ilNqJXnoZiPhFzOBXFecJa4gzE1zs28xrZ76w7Tm51J+0nl+v7evBZLTcNcMx0E6a+19GzLWrK39QVk0cG9r0lX3X+xA/sY+dMgmQaLOhnbGMuYWaOgrHnq6NmePMXN3pWUnRp/3VT3fsOO83o6TmteCa2NuyRmNqMObO69SP37hPxjhvHHPBu3b8xhhv3PZWvhRD6bXetle708yXdrG88/r5D94VwyyzymAMjJzSTQbrLhwvvXZPHMc/3vrjL75fhDFW8yuE1ftD+l66bj+OWtUxDJM7sYTu1xah7e0vE+Py9dhw82NCV39pqT8eX5vc+I3rTPR1KH96H53ex+I20WOBTai48Bhjv5afa99585p+LhzHCiEUjy/ddmHMlsdr9Brt39v36Vj2VD9/y9wsCNX53OK4UztmttYV65nyDk0PjzVjtB3no7ERCph/DDG1ifsuUT+Yv1z3palfN4Uycr+sykawsV1tkn70/hKPJ1ePsE7Gejbe4ZcAadkT3rHM67q5405cJxPT2anGpXBMmi3/2hlxvx+Mm/h8bO9tj83ZseBJAgQIECDwQAIHSeBfxM9nJbSXq4lnaoQJYPvc2/nSMHN9cz5zYrj9qU2uD8/o60pqz3C9XCYn1Bce23qv245ywuMPPuf51Pla8/0JS23sXURLlsIHlC7mUQL/nGzqEiO3+iKhdqJ3ac31rMNB3/RswhkomYlpnBRmXgtacZ3X6esPt32dvSTTZD+H0qcet7UrLTWNf8kvNda06Uv77mwexmf5cerDXeu0pp2pb81yro7zMaC9LFWxgLAflhMpk0WEs3IHXwCdLydWfexbM7Y3jN87xVzjXTt+4z41+JB56YcNbd+YwG+/1Lz84ifZH07t5c8mRkg4NrYfigvHwImti09Ho6kvP3tbZ+Jut0vHaIg1E2dNv+X3weT9v5BUSUPNldMmbKbf09uE8fV9Mjte0tJrltszOXP7ZOV85k7715xBTctqxm9NX7d1xfGXMZ8s4wY25XZmxnlh/8z1c81xrBTDZNt7G9W975SMs325YJ+OZWf29xBqXOdL52Zt7XU+7Zr5Plxy3KkfM1vqqhsXQb57zNV5m2PB+Iu2cV3tZVHL99/6lnZlPq+1J+HEeWjhvaYq3vY4lflM23u/7LqoHYWz84KqeifHc/5XmmkI1eWHX04Pj9t3Pzan0VomQIAAAQKPJ3CoBP7j8ZcimkjglzbxGoGDCcQP7oUzftp7ObyHy5GMfulyMDDNJZAVCImo6S8ns5t5kgABAgQI3FGgNul7xxAUTYAAAQIECBB4CAEJ/IfohlwQEvg5Fc8RiALhTNyqpHxIUK48gz1WaoHAEwqEMwGHZ7s9YVM1iQABAgT2IyCBv5++EikBAgQIECBwXwEJ/Pv6bihdAn8Dnk0PIBDPvi/8tL5jkMDvLCwRSAW695oll9ZKS7BMgAABAgTuISCBfw9VZRIgQIAAAQJ7FJDAf9he65Iq4UZIVXnKh22PwAjcViAm8GvOGg5nGFedrX/bOJVG4KEF4r7h1ykP3U+CI0CAwAEFJPAP2OmaTIAAAQIECGQFJPCzLI/wpAT+I/SCGB5YIF5C57U5Td5E+nrTrvbmnFU30Xzg9gqNwI0F2psBnuwbN1ZVHAECBAjcSkAC/1aSyiFAgAABAgT2LiCB/7A9KIH/sF0jsIcRiGfhhyTk6dSc4v9L0j78gsXlQR6m2wTybQLj95Xz/lHzK5Zvi1nFBAgQIHBUAQn8o/a8dhMgQIAAAQJDAQn8ocjD/D1OtLiEzsN0jkAeSeDzo3l/axP3/YT962v73Fvz1p6d//lIAYuFwHcJDN9XTpf947vCUS8BAgQIECgISOAXcLxEgAABAgQIHEpAAv9Q3a2xBAgQIECAAAECBAgQIECAAAECBAgQILAXAQn8vfSUOAkQIECAAAECBAgQIECAAAECBAgQIEDgUAIS+Ifqbo0lQIAAAQIECBAgQIAAAQIECBAgQIAAgb0ISODvpafESYAAAQIECBAgQIAAAQIECBAgQIAAAQKHEpDAP1R3aywBAgQIECBAgAABAgQIECBAgAABAgQI7EVAAn8vPSVOAgQIECBAgAABAgQIECBAgAABAgQIEDiUgAT+obpbYwkQIECAAAECBAgQIECAAAECBAgQIEBgLwIS+HvpKXESIECAAAECBAgQIECAAAECBAgQIECAwKEEJPAP1d0aS4AAAQIECBAgQIAAAQIECBAgQIAAAQJ7EZDA30tPiZMAAQIECBAgQIAAAQIECBAgQIAAAQIEDiUggX+o7tZYAgQIECBAgAABAgQIECBAgAABAgQIENiLgAT+XnpKnAQIECBAgAABAgQIECBAgAABAgQIECBwKAEJ/EN1t8YSIECAAAECBAgQIECAAAECBAgQIECAwF4EJPD30lPiJECAAAECBAgQIECAAAECBAgQIECAAIFDCUjgH6q7NZYAAQIECBAgQIAAAQIECBAgQIAAAQIE9iIggb+XnhInAQIECBAgQIAAAQIECBAgQIAAAQIECBxKQAL/UN2tsQQIECBAgAABAgQIECBAgAABAgQIECCwFwEJ/L30lDgJECBAgAABAgQIECBAgAABAgQIECBA4FACEviH6m6NJUCAAAECBAgQIECAAAECBAgQIECAAIG9CEjg76WnxEmAAAECBAgQIECAAAECBAgQIECAAAEChxKQwD9Ud2ssAQIECBAgQIAAAQIECBAgQIAAAQIECOxFQAJ/Lz0lTgIECBAgQIAAAQIECBAgQIAAAQIECBA4lIAE/qG6W2MJECBAgAABAgQIECBAgAABAgQIECBAYC8CEvh76SlxEiBAgAABAgQIECBAgAABAgQIECBAgMChBCTwD9XdGkuAAAECBAgQIECAAAECBAgQIECAAAECexGQwN9LT4mTAAECBAgQIECAAAECBAgQIECAAAECBA4lIIF/qO7WWAIECBAgQIAAAQIECBAgQIAAAQIECBDYi4AE/l56SpwECBAgQIAAAQIECBAgQIAAAQIECBAgcCgBCfxDdbfGEiBAgAABAgQIECBAgAABAgQIECBAgMBeBCTw99JT4iRAgAABAgQIECBAgAABAgQIECBAgACBQwlI4B+quzWWAAECBAgQIECAAAECBAgQIECAAAECBPYiIIG/l54SJwECBAgQIECAAAECBAgQIECAAAECBAgcSkAC/1DdrbEECBAgQIAAAQIECBAgQIAAAQIECBAgsBcBCfy99JQ4CRAgQIAAAQIECBAgQIAAAQIECBAgQOBQAhL4h+pujSVAgAABAgQIECBAgAABAgQIECBAgACBvQhI4O+lp8RJgAABAgQIECBAgAABAgQIECBAgAABAocSkMA/VHdrLAECBAgQIECAAAECBAgQIECAAAECBAjsRUACfy89JU4CBAgQIECAAAECBAgQIECAAAECBAgQOJSABP6hultjCRAgQIAAAQIECBAgQIAAAQIECBAgQGAvAhL4e+kpcRIgQIAAAQIECBAgQIAAAQIECBAgQIDAoQQk8A/V3RpLgAABAgQIECBAgAABAgQIECBAgAABAnsRkMDfS0+JkwABAgQIECBAgAABAgQIECBAgAABAgQOJSCBf6ju1lgCBAgQIECAAAECBAgQIECAAAECBAgQ2IuABP5eekqcBAgQIECAAAECBAgQIECAAAECBAgQIHAoAQn8Q3W3xhIgQIAAAQIECBAgQIAAAQIECBAgQIDAXgQk8PfSU+IkQIAAAQIECBAgQIAAAQIECBAgQIAAgUMJSOAfqrs1lgABAgQIECBAgAABAgQIECBAgAABAgT2IiCBv5eeEicBAgQIECBAgAABAgQIECBAgAABAgQIHEpAAv9Q3a2xBAgQIECAAAECBAgQIECAAAECBAgQILAXAQn8vfSUOAkQIECAAAECBAgQIECAAAECBAgQIEDgUAIS+Ifqbo0lQIAAAQIECBAgQIAAAQIECBAgQIAAgb0ISODvpafESYAAAQIECBAgQIAAAQIECBAgQIAAAQKHEpDAP1R3aywBAgQIECBAgAABAgQIECBAgAABAgQI7EVAAn8vPSVOAgQIECBAgAABAgQIECBAgAABAgQIEDiUgAT+obpbYwkQIECAAAECBAgQIECAAAECBAgQIEBgLwIS+HvpKXESIECAAAECBAgQIECAAAECBAgQIECAwKEEJPAP1d0aS4AAAQIECBAgQIAAAQIECBAgQIAAAQJ7EZDA30tPiZMAAQIECBAgQIAAAQIECBAgQIAAAQIEDiUggX+o7tZYAgQIECBAgAABAgQIECBAgAABAgQIENiLgAT+XnpKnAQIECBAgAABAgQIECBAgAABAgQIECBwKAEJ/EN1t8YSIECAAAECBAgQIECAAAECBAgQIECAwF4EJPD30lPiJECAAAECBAgQIECAAAECBAgQIECAAIFDCUjgH6q7NZYAAQIECBAgQIAAAQIECBAgQIAAAQIE9iIggb+XnhInAQIECBAgQIAAAQIECBAgQIAAAQIECBxKQAL/UN2tsQQIECBAgAABAgQIECBAgAABAgQIECCwFwEJ/L30lDgJECBAgAABAgQIECBAgAABAgQIECBA4FACEviH6m6NJUCAAAECBAgQIECAAAECBAgQIECAAIG9CEjg76WnxEmAAAECBAgQIECAAAECBAgQIECAAAEChxKQwD9Ud2ssAQIECBAgQIAAAQIECBAgQIAAAQIECOxFQAJ/Lz0lTgIECBAgQIAAAQIECBAgQIAAAQIECBA4lIAE/qG6W2MJECBAgAABAgQIECBAgAABAgQIECBAYC8CEvh76SlxEiBAgAABAgQIECBAgAABAgQIECBAgMChBCTwD9XdGkuAAAECBAgQIECAAAECBAgQIECAAAECexGQwN9LT4mTAAECBAgQIECAAAECBAgQIECAAAECBA4lIIF/qO7WWAIECBAgQIAAAQIECBAgQIAAAQIECBDYi4AE/l56SpwECBAgQIAAAQIECBAgQIAAAQIECBAgcCgBCfxDdbfGEiBAgAABAgQIECBAgAABAgQIECBAgMBeBCTw99JT4iRAgAABAgQIECBAgAABAgQIECBAgACBQwlI4B+quzWWAAECBAgQIECAAAECBAgQIECAAAECBPYiIIG/l54SJwECBAgQIECAAAECBAgQIECAAAECBAgcSkAC/1DdrbEECBAgQIAAAQIECBAgQIAAAQIECBAgsBcBCfy99JQ4CRAgQIAAAQIECBAgQIAAAQIECBAgQOBQAhL4h+pujSVAgAABAgQIECBAgAABAgQIECBAgACBvQhI4O+lp8RJgAABAgQIECBAgAABAgQIECBAgAABAocSkMA/VHdrLAECBAgQIECAAAECBAgQIECAAAECBAjsRUACfy89JU4CBAgQIECAAAECBAgQIECAAAECBAgQOJSABP6hultjCRAgQIAAAQIECBAgQIAAAQIECBAgQGAvAhL4e+kpcRIgQIAAAQIECBAgQIAAAQIECBAgQIDAoQQk8A/V3RpLgAABAgQIECBAgAABAgQIECBAgAABAnsRkMDfS0+JkwABAgQIECBAgAABAgQIECBAgAABAgQOJSCBf6ju1lgCBAgQIECAAAECBAgQIECAAAECBAgQ2IuABP5eekqcBAgQIECAAAECBAgQIECAAAECBAgQIHAoAQn8Q3W3xhIgQIAAAQIECBAgQIAAAQIECBAgQIDAXgQk8PfSU+IkQIAAAQIECBAgQIAAAQIECBAgQIAAgUMJSOAfqrs1lgABAgQIECBAgAABAgQIECBAgAABAgT2IiCBv5eeEicBAgQIECBAgAABAgQIECBAgAABAgQIHEpAAv9Q3a2xBAgQIECAAAECBAgQIECAAAECBAgQILAXAQn8vfSUOAkQIECAAAECBAgQIECAAAECBAgQIEDgUAIS+Ifqbo0lQIAAAQIECBAgQIAAAQIECBAgQIAAgb0ISODvpafESYAAAQIECBAgQIAAAQIECBAgQIAAAQKHEpDAP1R3aywBAgQIECBAgAABAgQIECBAgAABAgQI7EVAAn8vPSVOAgQIECBAgAABAgQIECBAgAABAgQIEDiUgAT+obpbYwkQIECAAAECBAgQIECAAAECBAgQIEBgLwIS+HvpKXESIECAAAECBAgQIECAAAECBAgQIECAwKEEJPAP1d0aS4AAAQIECBAgQIAAAQIECBAgQIAAAQJ7EZDA30tPiZMAAQIECBAgQIAAAQIECBAgQIAAAQIEDiUggX+o7tZYAgQIECBAgAABAgQIECBAgAABAgQIENiLgAT+XnpKnAQIECBAgAABAgQIECBAgAABAgQIECBwKAEJ/EN1t8YSIECAAAECBAgQIECAAAECBAgQIECAwF4EJPD30lPiJECAAAECBAgQIECAAAECBAgQIECAAIFDCUjgH6q7NZYAAQIECBAgQIAAAQIECBAgQIAAAQIE9iIggb+XnhInAQIECBAgQIAAAQIECBAgQIAAAQIECBxKQAL/UN2tsQQIECBAgAABAgQIECBAgAABAgQIECCwFwEJ/L30lDgJECBAgAABAgQIECBAgAABAgQIECBA4FACEviH6m6NJUCAAAECBAgQIECAAAECBAgQIECAAIG9CEjg76WnxEmAAAECBAgQIECAAAECBAgQIECAAAEChxKQwD9Ud2ssAQIECBAgQIAAAQIECBAgQIAAAQIECOxFQAJ/Lz0lTgIECBAgQIAAAQIECBAgQIAAAQIECBA4lIAE/qG6W2MJECBAgAABAgQIECBAgAABAgQIECBAYC8CEvh76SlxEiBAgAABAgQIECBAgAABAgQIECBAgMChBCTwD9XdGkuAAAECBAgQIECAAAECBAgQIECAAAECexGQwN9LT4mTAAECBAgQIECAAAECBAgQIECAAAECBA4lIIF/qO7WWAIECBAgQIAAAQIECBAgQIAAAQIECBDYi4AE/l56SpwECBAgQIAAAQIECBAgQIAAAQIECBAgcCgBCfxDdbfGEiBAgAABAgQIECBAgAABAgQIECBAgMBeBCTw99JT4iRAgAABAgQIECBAgAABAgQIECBAgACBQwlI4B+quzWWAAECBAgQIHA7gY+31+b19bV5ffu4XaFKInBHAWP2jrgPWrQ+f9COERYBAgQIECBQLSCBX01lRQIECBAgQGCdwGfzfromettk75L/p/fmc12lN9pqz7HfiKBQzFckxj4/3pu302kwbk7N6XRq3t4/ms/vHSDNo8dX6L5DvnTXMfv53pzOx7dT836PcXnv8p90RNy1z5/UTLMIECBAgACBxxKQwH+s/hANAQIECBB4QoE9J8H3HPv9h9J9E2O19m/N95z//+jx3b//91jDXcfsvRPs9y5/jx1aEfNd+7yifqsQIECAAAECBLYKSOBvFbQ9AQIECBAgsFpgz4mVPce+usMGG97TIJb9+tqc3toz7cMpzZ/n5Y/zmfnfd/meR49v0FX+vArEfrvHZZ/unWC/d/lPOkru2udPaqZZBAgQIECAwGMJSOA/Vn+IhgABAgQIHEpgz4mVPcd+q0F2N4OYqHxt7pFn3dz+R49vcwOft4C7jdmWLI4Ll9B5pBF01z5/pIaKhQABAgQIEHhaAQn8p+1aDSNAgAABAo8vsOfEyp5jv9XIuJvBx9v1mvffdXmcGaFHj28m/CO/fLcx26JK4D/k0Lprnz9kiwVFgAABAgQIPJuABP6z9aj2ECBAgACBHQnsObGyJPbLuslZuZ8fzVtyY99T9o6Xn83H+1tzStZ7fW1v3vrWfMTLyYw7O8QVzlzP3WS1LeP9I1ySZlxGfObzo3l/O11vzHm9AXF789jrtqGu11BZ3HDjwqMnyG8W37o+Drpt3577pzdGXs9jZK5/c+PiPL7e5sbGZ/P50Y7L/o2FzzcV/vgs3nQ6jJcwXHIx1I7NtW0PMdx8zLad8s0J/Evb6o4zS9YN461ptozX3Lb5m5qH8dHWF26Anj9GdpGV+rX0Wihh23iqMw91eSRAgAABAgQILBWQwF8qZn0CBAgQIEDgZgI1iZWqymJCNZ8Qen0dP98liapqGK20JPaw7rnOTKyj5NQgwZ+Lf7TNNcJQV/v6x1s/yTosp722/OS/NkmbcYtlnN6bj/dr+aVyJisovBAToSsuoZPxjTFPtGdx+FviC83e0MdpYrNr2+CLluu9A0J16ePcuGgT+fnvlPpfPHV1J/vX+QumtLZu+TZjs0vqdvUvafs11sWd3rVjcimOi4zfLcZlqfymaYLvuWmZ+tJjxpJ1z+3dNF7746b9kuZt+MVg++XkW/v8e9N9t9j1dRp7zj+0J/fFTOm17fvSZTzVmOfi9hwBAgQIECBAoEZAAr9GyToECBAgQIDAXQTKiZUFVV7PCG7PAq79vzV/tyT2sG6boDonxXtn0Q/PhP9o3kKieZQMbc9i7ZLyuTaEukJy8/T+MTgrup/Yz5XRnUn82ry2ifpeiP0YzvVkC1nQf6NVu8Rdm0wOZ/yPVss98SVjYUN855i39XFbxOf75dcY4zPt+/0z6pqY2D1lfoXRnl3/fk6i9ro8G3N/jc/P9+RXJflLH91kbG5pe5LkziV6c8Np0XOlBPstxmWp/KRtNceZ0Bc16zbNtvEa6mqPJf1RcxnHl2NV5kuPLzoDf/W+tNB80ViyMgECBAgQIEAgEZDATzAsEiBAgAABAl8rEBM7oyzj18axprYlscd128R8JomV1t8mk84JrcJ6cZ3XcaI0rWv6rNUkAZ2xj2VUxfDa3CUZmiYNz25zl3ZJFb9iOUlqLowv9l+V77iP51vX9e9wDMS6M/1eKjeOicyY67ZLTDLld2W8NsO4ujK62NeNq277XB0xhkx8XQwrl2YS7CtL7TabKT+2reI4s2TdOGbWjNeZmNMz4Mf9Ve7LDqb79UFuzMS2rurzcgyx7ArzNF7LBAgQIECAAIElAhL4S7SsS4AAAQIECNxUICY/ViVWbhrK4sKWxB7Xnbo0Say9S4AWSWJSbHyJma6ucuI3JuVGFVXGkCbYR2XEBm1c+Dxf4z38miCcqdte+qdwG4CNdS7ZfE18lb6FPq6JcKp/4/OFZOy4/MqY2w3jGf7j8bd9bI4jy24xXaIAAAvCSURBVD0T25gZlzGGzGu5shY9F/ssdzb5opLyK8+UH9s2e5xJEt6z61b2fYxtcEwqjIfQyBj3qE/KyfOwffs4XUb5tbSMqeWq8TTrOFW65wkQIECAAAEC8wIS+PNG1iBAgAABAgTuJFBKutypypsVuyT2uO5c0jQmwcbJz37gXVJteNZqbV0xKTWMKSbc5pKQXXItd9ZrP96Nf11vpttP5L8250T+xqJvsvmS+G7QxzUxx/4dJkVj/e2vQdobIleUVj0m0hu5DhK5aZJ1OOYGIcTYZ9YbbBb/jNsP257GkHktFrB2IdrO7TsrK5gpv3bfb2uvXjfWufKYFMfO9PYxllGfdMeY4XFuKDhdRtLWUfnDUvJ/V42nlWM1X6NnCRAgQIAAAQJ9AQn8voe/CBAgQIAAgS8UKCVdvjCMVVUtib163ZjsSm4K2l6aofB/mNiqrSsmpYaJpxjDdMItgNXWFda/xeP5Gu2nxGRlUu4WseTKmI0v+iZtKPRv2/fDPo71tl8cvL81b9d7P2THSc5neIPi0+U+A5O5/Bjz/JhIr5c+rLp2vEyOzdjw9ouCdW2vjSGtqno5Jru/OYE/hM80oNoh9v3K8TprUkrSl17rN6rUntJrsZRHHE8xOAsECBAgQIDA0QUk8I8+ArSfAAECBAh8o0BVYqUmvlvcILKmnmSdJbHXrhsTl+frKdfdkPftvZ92XVzXIIHfxTCfrK2tK2G70WLhRrzfMBbGjZqOr/Ntz4Bf18dt8vot/RKjTfKHst7emrf2Zsnh9clkbnuz2+tNlZMvEHK/auhinh8TaQJ/+MVD7XiJ9Q3G5tl5Y9trYxj3acUzpWT1LcZlqfz0rPrJPu/aUOsQ+2L1MalLwre/1OkfrdrvYd6uX1Dmxla37XAsdS25LJXaU3pt675ULHsYpL8JECBAgAABAisFJPBXwtmMAAECBAgQ2C5ws+RHTALVnyVakeMqNnBJ7NXrxnbkklnFcOKLtXXFxNwwSboghtq6YnA3XeiSe71L+MT4v24s5Js1F9/aPu4un1S6BM6SvvkcJsXbS+ukjYqmg+fTdeJyF99wH6uNaXJspvddKFz+p1RP6bXYhLULpQR7NNwwLkvl3ymBX7qnQTVTjLtt+6k5Xb9k6r6Ean8Bkiut24fuk8Dvxurafemu4ylH4jkCBAgQIEDgkAIS+Ifsdo0mQIAAAQKPIbDn5MeS2KvXjUm+9ZfgqK1rMkkaY5hP1tbWda/R9t31z7UrG1/0XdfHsd9ey/2TrXsm4PbyP6fr2fi9hGlMwFbEHNctXAM/n62N0cU2Dr5cis9vaPsalxjY3EJse4XTXFm512fKX9K26nU3jtfYjM/35i35pcflck9tMv+9cB+G2gR+t17vy7xr5VNtffjxFPEsECBAgAABAkcXkMA/+gjQfgIECBAg8I0CU4mVbwypuuolsdev250R2kugVkdVf8PGmLwaJEnTS6CU86xdrLmk2YKQV69a77q6ik0b5uPr3Nb0cb7MYZjlhOZw7fTv/LjoYi6PifNp4JOXRKmLvWnyMdSO7XLba2NITaqXZxLs1eVMrThT/pK21a/b9f2a8XppSrjkU+VNk5P218XZxZg7Fk2VMfV8Un17s4XmvXA5qroy+iX6iwABAgQIECCwVEACf6mY9QkQIECAAIGbCew5+bEk9lXrvq47i7e2rqkkadu5sYxRcj/p+nhm7muTS5ola95nMSYzx2d636fChaUW4ou+K/o4bnunvonjYpCpj88Xz35fl0gdysa6Bm28RdtjGYP2DWNY9Xfs83X77mydM+UvaduqdVeM17ZNoT/XfAEQ4xyMhdQqlH8+qz/Tr7GMwWvx+ULZ3SWE8se5WMag7DQ+ywQIECBAgACBrQIS+FsFbU+AAAECBAisFthz8mNJ7EvWTc+Ab68X/fbxOb7x4+fH5QakmcRTbV0x6ZUpo4mJwvZGq8NLXHyebzwZLrUymzQrJnzzQ+cc2+mteX//aD4/B+3/HNx8NRd/vtibPbs9viTRvbSPky9OTq1Pr1Wtzel6Bvz1WuuDxOJne+PaicuWTF5C51xHEvP5+vODmnvX0c9f3mfz2NzY9rYZpRjiayvG7Jko7jfPlcDfekwqHmt64zfzR9Ln7ReFg1E3O96LfZ6UvWZfKpadaYqnCBAgQIAAAQJrBSTw18rZjgABAgQIENgsEBNmgyTj5oK/oIAlsS9Z9xx6LxlauOllJnldW9dcUu0zSW5drlc9iKOtO6wz6r/kshOZGOe6J8Y2umZ2Joa5wu7w+k3iW93HiW3wOfWT9qc20TnRN+PYT/G697GfR4nSK2JNzCtvLpt2U4xxNHa2tb2tY3r/SMoe1ZtGV1h+2gR+exp9uAzOYB8MYzA8Zu2SL3/CeoPHU+ZLoSD98dYf33GchjLa8Rq+uBodiyr7PJS1YF8qj6cQvUcCBAgQIECAwHYBCfzthkogQIAAAQIEVgpMJ9NWFviFmy2Jfcm6aRPaM6LfBgmlNnl1Op2at/PZ6enal+XaumLCK5twu5b7+dG8vw0SvG3dH9fzYCeSxOkZ/Gsum9Fcz7Jv29470/+cZLvc+PI9xDAmuP8zN4xvTR+31+X+aM+kD9fmviYf2yRodAnJ5GFCM/yCYTSuTk1v+4JiLubzmMz8WiQt5jZjc0PbSwn84NXuX+/987zTNhSXYxnPdgZ+1+pc388dky7bzCT+r2M4Hlu6Ks9LuXp743XqWFTq80vJ6/el2bIHjfAnAQIECBAgQGClgAT+SjibESBAgAABAgQITAiEZNraS5FMFOtpAncTMGbvQtt9UTh9A9v2MlnvbyHBn7/80l2CUygBAgQIECBAYCcCEvg76ShhEiBAgAABAgT2IhCTdsOzv/fSAHEeTsCYvUOXx18k1CTlw2V27vTrhTs0T5EECBAgQIAAga8SkMD/Kmn1ECBAgAABAgQOIdBdS1z+/hAd/gSNNGbv0YnLvhSRwL9HHyiTAAECBAgQeA4BCfzn6EetIECAAAECBAg8iMA1EVe6tv6DRCoMAhcBY/YeIyEm8GuOBS5hdI8uUCYBAgQIECDwJAIS+E/SkZpBgAABAgQIECBAgACBhxGIl9Bpbwz80eRvDXy9KXG4EfPaGwg/TKMFQoAAAQIECBC4vYAE/u1NlUiAAAECBAgQIECAAIHDC8Sz8EOC/nRqTvF/uHHt5fEkeX/48QKAAAECBAgQyAtI4OddPEuAAAECBAgQIECAAAECWwU+P5r3tzZx30/Yv762z701b+3Z+fnT87fWbHsCBAgQIECAwFMISOA/RTdqBAECBAgQIECAAAECBAgQIECAAAECBAg8m4AE/rP1qPYQIECAAAECBAgQIECAAAECBAgQIECAwFMISOA/RTdqBAECBAgQIECAAAECBAgQIECAAAECBAg8m4AE/rP1qPYQIECAAAECBAgQIECAAAECBAgQIECAwFMISOA/RTdqBAECBAgQIECAAAECBAgQIECAAAECBAg8m4AE/rP1qPYQIECAAAECBAgQIECAAAECBAgQIECAwFMISOA/RTdqBAECBAgQIECAAAECBAgQIECAAAECBAg8m4AE/rP1qPYQIECAAAECBAgQIECAAAECBAgQIECAwFMISOA/RTdqBAECBAgQIECAAAECBAgQIECAAAECBAg8m4AE/rP1qPYQIECAAAECBAgQIECAAAECBAgQIECAwFMISOA/RTdqBAECBAgQIECAAAECBAgQIECAAAECBAg8m4AE/rP1qPYQIECAAAECBAgQIECAAAECBAgQIECAwFMISOA/RTdqBAECBAgQIECAAAECBAgQIECAAAECBAg8m4AE/rP1qPYQIECAAAECBAgQIECAAAECBAgQIECAwFMISOA/RTdqBAECBAgQIECAAAECBAgQIECAAAECBAg8m4AE/rP1qPYQIECAAAECBAgQIECAAAECBAgQIECAwFMISOA/RTdqBAECBAgQIECAAAECBAgQIECAAAECBAg8m8D/Afi0inl2E4mQAAAAAElFTkSuQmCC)"
   ]
  },
  {
   "cell_type": "code",
   "execution_count": null,
   "metadata": {
    "colab": {
     "base_uri": "https://localhost:8080/",
     "height": 198
    },
    "executionInfo": {
     "elapsed": 930,
     "status": "ok",
     "timestamp": 1608266690437,
     "user": {
      "displayName": "freeai time",
      "photoUrl": "https://lh3.googleusercontent.com/a-/AOh14GgxvlF_Oni7ZMdvrndxf2178ORhoNGeclnb7GQ6=s64",
      "userId": "11272871337215191422"
     },
     "user_tz": -330
    },
    "id": "4mEcX7a3EjYj",
    "outputId": "977ef534-716e-44a5-f7c9-4e84a16f31a2"
   },
   "outputs": [],
   "source": [
    "df_train.tail()"
   ]
  },
  {
   "cell_type": "code",
   "execution_count": null,
   "metadata": {
    "colab": {
     "base_uri": "https://localhost:8080/",
     "height": 198
    },
    "executionInfo": {
     "elapsed": 1301,
     "status": "ok",
     "timestamp": 1608266690817,
     "user": {
      "displayName": "freeai time",
      "photoUrl": "https://lh3.googleusercontent.com/a-/AOh14GgxvlF_Oni7ZMdvrndxf2178ORhoNGeclnb7GQ6=s64",
      "userId": "11272871337215191422"
     },
     "user_tz": -330
    },
    "id": "z7W85FuPKfzG",
    "outputId": "d4b19b14-2f65-43e2-dd4c-9fb9b0981251"
   },
   "outputs": [],
   "source": [
    "df_test.head()"
   ]
  },
  {
   "cell_type": "markdown",
   "metadata": {
    "id": "mphi6yMCKsaB"
   },
   "source": [
    "**Step-1: Linear Regression with time and Sales**"
   ]
  },
  {
   "cell_type": "code",
   "execution_count": null,
   "metadata": {
    "id": "ulxlAujZK15c"
   },
   "outputs": [],
   "source": [
    "df_train2 = df_train.copy()\n",
    "df_test2 = df_test.copy()"
   ]
  },
  {
   "cell_type": "code",
   "execution_count": null,
   "metadata": {
    "colab": {
     "base_uri": "https://localhost:8080/"
    },
    "executionInfo": {
     "elapsed": 622,
     "status": "ok",
     "timestamp": 1608266846714,
     "user": {
      "displayName": "freeai time",
      "photoUrl": "https://lh3.googleusercontent.com/a-/AOh14GgxvlF_Oni7ZMdvrndxf2178ORhoNGeclnb7GQ6=s64",
      "userId": "11272871337215191422"
     },
     "user_tz": -330
    },
    "id": "ZNuopQnlKisw",
    "outputId": "9ce460c5-ba28-4e64-ae97-a605844245d1"
   },
   "outputs": [],
   "source": [
    "X_t = df_train2[['time']].values\n",
    "y_true_mul = df_train2['Sales'].values\n",
    "\n",
    "X_t.shape, y_true_mul.shape"
   ]
  },
  {
   "cell_type": "code",
   "execution_count": null,
   "metadata": {
    "colab": {
     "base_uri": "https://localhost:8080/"
    },
    "executionInfo": {
     "elapsed": 1364,
     "status": "ok",
     "timestamp": 1608266883856,
     "user": {
      "displayName": "freeai time",
      "photoUrl": "https://lh3.googleusercontent.com/a-/AOh14GgxvlF_Oni7ZMdvrndxf2178ORhoNGeclnb7GQ6=s64",
      "userId": "11272871337215191422"
     },
     "user_tz": -330
    },
    "id": "D_KNz9epLIwB",
    "outputId": "9c913edc-c66b-4e58-8429-72f31de80af6"
   },
   "outputs": [],
   "source": [
    "X_t_test = df_test2[['time']].values\n",
    "y_true_test_mul = df_test2['Sales'].values\n",
    "\n",
    "X_t_test.shape, y_true_test_mul.shape"
   ]
  },
  {
   "cell_type": "code",
   "execution_count": null,
   "metadata": {
    "colab": {
     "base_uri": "https://localhost:8080/"
    },
    "executionInfo": {
     "elapsed": 1171,
     "status": "ok",
     "timestamp": 1608266954008,
     "user": {
      "displayName": "freeai time",
      "photoUrl": "https://lh3.googleusercontent.com/a-/AOh14GgxvlF_Oni7ZMdvrndxf2178ORhoNGeclnb7GQ6=s64",
      "userId": "11272871337215191422"
     },
     "user_tz": -330
    },
    "id": "iiiU_MQ6LR1p",
    "outputId": "07993bd6-afa6-4e61-b86d-df2a3bb3a93f"
   },
   "outputs": [],
   "source": [
    "from sklearn.linear_model import LinearRegression\n",
    "model_trend_mul = LinearRegression()\n",
    "model_trend_mul.fit(X_t,y_true_mul)"
   ]
  },
  {
   "cell_type": "markdown",
   "metadata": {
    "id": "DcISH20DMHuI"
   },
   "source": [
    "**Step-2: Take Trend (T) and TSI (True Sample)**"
   ]
  },
  {
   "cell_type": "code",
   "execution_count": null,
   "metadata": {
    "id": "hb9HsxjMLtfp"
   },
   "outputs": [],
   "source": [
    "y_fittedvalues_trend = model_trend_mul.predict(X_t)"
   ]
  },
  {
   "cell_type": "code",
   "execution_count": null,
   "metadata": {
    "colab": {
     "base_uri": "https://localhost:8080/",
     "height": 198
    },
    "executionInfo": {
     "elapsed": 1034,
     "status": "ok",
     "timestamp": 1608267080650,
     "user": {
      "displayName": "freeai time",
      "photoUrl": "https://lh3.googleusercontent.com/a-/AOh14GgxvlF_Oni7ZMdvrndxf2178ORhoNGeclnb7GQ6=s64",
      "userId": "11272871337215191422"
     },
     "user_tz": -330
    },
    "id": "ydsCTwUZLh8S",
    "outputId": "56c96f3f-d183-4cfd-bc29-6aa83de2295c"
   },
   "outputs": [],
   "source": [
    "df_train2['predicted_T'] = y_fittedvalues_trend\n",
    "df_train2.head()"
   ]
  },
  {
   "cell_type": "markdown",
   "metadata": {
    "id": "n5oM9iH1MP2S"
   },
   "source": [
    "**Step-3: Deviation to TSI**\n",
    "\n",
    "SI = $\\frac{TSI}{ T}$"
   ]
  },
  {
   "cell_type": "code",
   "execution_count": null,
   "metadata": {
    "colab": {
     "base_uri": "https://localhost:8080/",
     "height": 649
    },
    "executionInfo": {
     "elapsed": 1168,
     "status": "ok",
     "timestamp": 1608267236442,
     "user": {
      "displayName": "freeai time",
      "photoUrl": "https://lh3.googleusercontent.com/a-/AOh14GgxvlF_Oni7ZMdvrndxf2178ORhoNGeclnb7GQ6=s64",
      "userId": "11272871337215191422"
     },
     "user_tz": -330
    },
    "id": "ineTEtJELpI5",
    "outputId": "71d09e87-58ca-4d55-ed56-f5a1a49333d1"
   },
   "outputs": [],
   "source": [
    "df_train2['SI'] = df_train2['Sales'] / df_train2['predicted_T']\n",
    "df_train2.head(20)"
   ]
  },
  {
   "cell_type": "markdown",
   "metadata": {
    "id": "mk72ZOxZMsiL"
   },
   "source": [
    "**Step-4: Avg Seasonal Deviation**"
   ]
  },
  {
   "cell_type": "code",
   "execution_count": null,
   "metadata": {
    "colab": {
     "base_uri": "https://localhost:8080/",
     "height": 439
    },
    "executionInfo": {
     "elapsed": 938,
     "status": "ok",
     "timestamp": 1608267448935,
     "user": {
      "displayName": "freeai time",
      "photoUrl": "https://lh3.googleusercontent.com/a-/AOh14GgxvlF_Oni7ZMdvrndxf2178ORhoNGeclnb7GQ6=s64",
      "userId": "11272871337215191422"
     },
     "user_tz": -330
    },
    "id": "NT8EFCn-MlRK",
    "outputId": "1883da4b-2674-4a24-b517-3c161b0d17de"
   },
   "outputs": [],
   "source": [
    "deviation_season = df_train2[['month_name','SI']].groupby(by='month_name').mean().rename(columns={'SI':'correction_factor'})\n",
    "deviation_season"
   ]
  },
  {
   "cell_type": "markdown",
   "metadata": {
    "id": "As7LT_YwNNmE"
   },
   "source": [
    "**Step-5: Computing the Fitted Values**"
   ]
  },
  {
   "cell_type": "code",
   "execution_count": null,
   "metadata": {
    "id": "x-7cOsCCNDT4"
   },
   "outputs": [],
   "source": [
    "df_train2 = df_train2.merge(deviation_season,on='month_name')"
   ]
  },
  {
   "cell_type": "code",
   "execution_count": null,
   "metadata": {
    "colab": {
     "base_uri": "https://localhost:8080/",
     "height": 198
    },
    "executionInfo": {
     "elapsed": 1034,
     "status": "ok",
     "timestamp": 1608267493740,
     "user": {
      "displayName": "freeai time",
      "photoUrl": "https://lh3.googleusercontent.com/a-/AOh14GgxvlF_Oni7ZMdvrndxf2178ORhoNGeclnb7GQ6=s64",
      "userId": "11272871337215191422"
     },
     "user_tz": -330
    },
    "id": "v9EtnvBDNTya",
    "outputId": "756d6ecc-8f5a-4cd0-aab8-920aa7ac60ce"
   },
   "outputs": [],
   "source": [
    "df_train2.head()"
   ]
  },
  {
   "cell_type": "code",
   "execution_count": null,
   "metadata": {
    "id": "Adj781whNmlq"
   },
   "outputs": [],
   "source": [
    "df_train2['Fitted_values'] = df_train2['predicted_T'] * df_train2['correction_factor']"
   ]
  },
  {
   "cell_type": "code",
   "execution_count": null,
   "metadata": {
    "colab": {
     "base_uri": "https://localhost:8080/",
     "height": 198
    },
    "executionInfo": {
     "elapsed": 1016,
     "status": "ok",
     "timestamp": 1608267554273,
     "user": {
      "displayName": "freeai time",
      "photoUrl": "https://lh3.googleusercontent.com/a-/AOh14GgxvlF_Oni7ZMdvrndxf2178ORhoNGeclnb7GQ6=s64",
      "userId": "11272871337215191422"
     },
     "user_tz": -330
    },
    "id": "dEKIkkejN0NJ",
    "outputId": "c98b0505-e75f-4868-9a25-4b1e9e904a20"
   },
   "outputs": [],
   "source": [
    "df_train2.head()"
   ]
  },
  {
   "cell_type": "markdown",
   "metadata": {
    "id": "L24Br5OJODFp"
   },
   "source": [
    "**Forecasting**"
   ]
  },
  {
   "cell_type": "code",
   "execution_count": null,
   "metadata": {
    "colab": {
     "base_uri": "https://localhost:8080/",
     "height": 198
    },
    "executionInfo": {
     "elapsed": 1461,
     "status": "ok",
     "timestamp": 1608267714464,
     "user": {
      "displayName": "freeai time",
      "photoUrl": "https://lh3.googleusercontent.com/a-/AOh14GgxvlF_Oni7ZMdvrndxf2178ORhoNGeclnb7GQ6=s64",
      "userId": "11272871337215191422"
     },
     "user_tz": -330
    },
    "id": "C5vNRZBGN1bD",
    "outputId": "ead3dc4c-4dc2-4f4d-ff37-a2537d4f2e45"
   },
   "outputs": [],
   "source": [
    "ftrend = model_trend_mul.predict(X_t_test)\n",
    "df_test2['Forecasted_Trend']= ftrend \n",
    "df_test2.head()"
   ]
  },
  {
   "cell_type": "code",
   "execution_count": null,
   "metadata": {
    "colab": {
     "base_uri": "https://localhost:8080/",
     "height": 198
    },
    "executionInfo": {
     "elapsed": 1112,
     "status": "ok",
     "timestamp": 1608267773494,
     "user": {
      "displayName": "freeai time",
      "photoUrl": "https://lh3.googleusercontent.com/a-/AOh14GgxvlF_Oni7ZMdvrndxf2178ORhoNGeclnb7GQ6=s64",
      "userId": "11272871337215191422"
     },
     "user_tz": -330
    },
    "id": "G-Rr1OFnOaQC",
    "outputId": "6ad89ecf-dafa-4b60-ae69-a4e8ee33f316"
   },
   "outputs": [],
   "source": [
    "df_test2 = pd.merge(df_test2,deviation_season,on='month_name')\n",
    "df_test2.head()"
   ]
  },
  {
   "cell_type": "code",
   "execution_count": null,
   "metadata": {
    "colab": {
     "base_uri": "https://localhost:8080/",
     "height": 198
    },
    "executionInfo": {
     "elapsed": 1014,
     "status": "ok",
     "timestamp": 1608267809525,
     "user": {
      "displayName": "freeai time",
      "photoUrl": "https://lh3.googleusercontent.com/a-/AOh14GgxvlF_Oni7ZMdvrndxf2178ORhoNGeclnb7GQ6=s64",
      "userId": "11272871337215191422"
     },
     "user_tz": -330
    },
    "id": "NdpTAHnxOq-N",
    "outputId": "484447a1-c844-48bc-8d4d-ab0aeba72250"
   },
   "outputs": [],
   "source": [
    "df_test2['Forecasted_mul'] = df_test2['Forecasted_Trend'] * df_test2['correction_factor']\n",
    "df_test2.head()"
   ]
  },
  {
   "cell_type": "code",
   "execution_count": null,
   "metadata": {
    "colab": {
     "base_uri": "https://localhost:8080/"
    },
    "executionInfo": {
     "elapsed": 1635,
     "status": "ok",
     "timestamp": 1608267923408,
     "user": {
      "displayName": "freeai time",
      "photoUrl": "https://lh3.googleusercontent.com/a-/AOh14GgxvlF_Oni7ZMdvrndxf2178ORhoNGeclnb7GQ6=s64",
      "userId": "11272871337215191422"
     },
     "user_tz": -330
    },
    "id": "p1Svsr4YOz3B",
    "outputId": "ee5ea282-e038-4819-ce7f-50e68a51a15b"
   },
   "outputs": [],
   "source": [
    "# margin error (train)\n",
    "# ME = 1.96 * SE\n",
    "# SE = \n",
    "error = df_train2['Sales'] - df_train2['Fitted_values']\n",
    "SE = error.std()\n",
    "ME = 1.96*SE\n",
    "print(ME)"
   ]
  },
  {
   "cell_type": "code",
   "execution_count": null,
   "metadata": {
    "id": "P8LefLnMP_Fb"
   },
   "outputs": [],
   "source": [
    "df_train2.sort_values(by='Years',inplace=True)\n",
    "df_test2.sort_values(by='Years',inplace=True)"
   ]
  },
  {
   "cell_type": "code",
   "execution_count": null,
   "metadata": {
    "id": "iW6jmFPiP-7W"
   },
   "outputs": [],
   "source": []
  },
  {
   "cell_type": "code",
   "execution_count": null,
   "metadata": {
    "colab": {
     "base_uri": "https://localhost:8080/",
     "height": 483
    },
    "executionInfo": {
     "elapsed": 1301,
     "status": "ok",
     "timestamp": 1608268205409,
     "user": {
      "displayName": "freeai time",
      "photoUrl": "https://lh3.googleusercontent.com/a-/AOh14GgxvlF_Oni7ZMdvrndxf2178ORhoNGeclnb7GQ6=s64",
      "userId": "11272871337215191422"
     },
     "user_tz": -330
    },
    "id": "N7WYzHhoO8t5",
    "outputId": "8141944d-a533-43bd-e47f-35e03e905ee2"
   },
   "outputs": [],
   "source": [
    "# visualize the data\n",
    "plt.figure(figsize=(15,8))\n",
    "plt.plot(df_train2['Years'],df_train2['Sales'],'bo:')\n",
    "plt.plot(df_train2['Years'],df_train2['Fitted_values'],'c') # fitted\n",
    "# forecasted data\n",
    "plt.plot(df_test2['Years'],df_test2['Sales'],'o:',color='orange')\n",
    "plt.plot(df_test2['Years'],df_test2['Forecasted_mul'],'b',color='red')\n",
    "# margin of error\n",
    "ci_plus = df_test2['Forecasted_mul'] + ME\n",
    "ci_minus = df_test2['Forecasted_mul'] - ME\n",
    "plt.fill_between(df_test1['Years'],(ci_plus),(ci_minus),alpha=0.1,color='black')\n",
    "\n",
    "\n",
    "plt.legend(['TimeSeries Data','Fitted Multiplicative Model','True Future Data','Forecasted Multiplicative Model Data','95% Confidence Interval'])\n",
    "plt.show()"
   ]
  },
  {
   "cell_type": "code",
   "execution_count": null,
   "metadata": {
    "id": "Lfgl1Z8jP4vE"
   },
   "outputs": [],
   "source": []
  }
 ],
 "metadata": {
  "colab": {
   "authorship_tag": "ABX9TyPO3xpdY2Lmu7qp1qDhP9LF",
   "name": "Regression with Time.ipynb",
   "provenance": []
  },
  "kernelspec": {
   "display_name": "Python 3 (ipykernel)",
   "language": "python",
   "name": "python3"
  },
  "language_info": {
   "codemirror_mode": {
    "name": "ipython",
    "version": 3
   },
   "file_extension": ".py",
   "mimetype": "text/x-python",
   "name": "python",
   "nbconvert_exporter": "python",
   "pygments_lexer": "ipython3",
   "version": "3.11.3"
  }
 },
 "nbformat": 4,
 "nbformat_minor": 4
}
