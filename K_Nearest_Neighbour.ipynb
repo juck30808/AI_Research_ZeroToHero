{
 "cells": [
  {
   "cell_type": "code",
   "execution_count": 1,
   "id": "604a83c0",
   "metadata": {},
   "outputs": [],
   "source": [
    "from collections import Counter\n",
    "import math\n",
    "\n",
    "def knn(data, query, k, distance_fn, choice_fn):\n",
    "    dis_ind = []\n",
    "    \n",
    "    # For each example in the data\n",
    "    for index, example in enumerate(data):\n",
    "        # \"Calculate the distance\" between the query and the data & Add the distance and the index \n",
    "        distance = distance_fn(example[:-1], query)\n",
    "        dis_ind.append((distance, index))\n",
    "    \n",
    "    # Sort the collection of distances_indices from smallest to largest (in ascending order) by the distances\n",
    "    sorted_dis_ind = sorted(dis_ind)\n",
    "    \n",
    "    # Pick the first K entries from the sorted collection,Get the labels of the selected K entries\n",
    "    k_nearest_dis_ind = sorted_dis_ind[:k]\n",
    "    k_nearest_labels = [data[i][-1] for distance, i in k_nearest_dis_ind]\n",
    "\n",
    "    # If regression (choice_fn = mean), return the average of the K labels\n",
    "    # If classification (choice_fn = mode), return the mode of the K labels\n",
    "    return k_nearest_dis_ind, choice_fn(k_nearest_labels)\n",
    "\n",
    "\n",
    "def mean(labels):\n",
    "    return sum(labels) / len(labels)\n",
    "\n",
    "def mode(labels):\n",
    "    return Counter(labels).most_common(1)[0][0]\n",
    "\n",
    "def euclidean_distance(point1, point2):\n",
    "    sum_squared_distance = 0\n",
    "    for i in range(len(point1)):\n",
    "        sum_squared_distance += math.pow(point1[i] - point2[i], 2)\n",
    "    return math.sqrt(sum_squared_distance)"
   ]
  },
  {
   "cell_type": "code",
   "execution_count": 2,
   "id": "5166e49e",
   "metadata": {},
   "outputs": [
    {
     "name": "stdout",
     "output_type": "stream",
     "text": [
      "128.24666666666667\n"
     ]
    }
   ],
   "source": [
    "'''\n",
    "Regression Data\n",
    "# Column 0: height (inches)\n",
    "# Column 1: weight (pounds)\n",
    "'''\n",
    "# Question:\n",
    "# Given the data we have, what's the best-guess at someone's weight if they are 60 inches tall?\n",
    "\n",
    "reg_data = [[65.75, 112.99],[71.52, 136.49],[69.40, 153.03],[68.22, 142.34],[67.79, 144.30],\n",
    "            [68.70, 123.30],[69.80, 141.49],[70.01, 136.46],[67.90, 112.37],[66.49, 127.45],]\n",
    "reg_query = [60]\n",
    "\n",
    "                                                                                          #如果回歸，返回K個標籤的均值 (mean)\n",
    "reg_k_nearest_neighbors, reg_prediction = knn(reg_data, reg_query, k=3, distance_fn=euclidean_distance, choice_fn=mean) \n",
    "print(reg_prediction)"
   ]
  },
  {
   "cell_type": "code",
   "execution_count": 4,
   "id": "99a8e458",
   "metadata": {},
   "outputs": [
    {
     "data": {
      "text/plain": [
       "list"
      ]
     },
     "execution_count": 4,
     "metadata": {},
     "output_type": "execute_result"
    }
   ],
   "source": [
    "type(reg_data)"
   ]
  },
  {
   "cell_type": "code",
   "execution_count": 3,
   "id": "0cb0fd83",
   "metadata": {},
   "outputs": [
    {
     "name": "stdout",
     "output_type": "stream",
     "text": [
      "0\n"
     ]
    }
   ],
   "source": [
    "'''\n",
    "Classification Data\n",
    "# Column 0: age\n",
    "# Column 1: likes pineapple\n",
    "'''\n",
    "# Question:\n",
    "# Given the data we have, does a 33 year old like pineapples(1) on their pizza(0)?\n",
    "\n",
    "clf_data = [[22, 1],[23, 1],[21, 1],[18, 1],[19, 1],[25, 0],[27, 0],[29, 0],[31, 0],[45, 0],]\n",
    "clf_query = [33]\n",
    "\n",
    "                                                                                          #如果分類，返回K個標籤的眾數 (mode)\n",
    "clf_k_nearest_neighbors, clf_prediction = knn(clf_data, clf_query, k=3, distance_fn=euclidean_distance, choice_fn=mode)\n",
    "print(clf_prediction)"
   ]
  },
  {
   "cell_type": "code",
   "execution_count": null,
   "id": "05f89069",
   "metadata": {},
   "outputs": [],
   "source": []
  }
 ],
 "metadata": {
  "kernelspec": {
   "display_name": "Python 3 (ipykernel)",
   "language": "python",
   "name": "python3"
  },
  "language_info": {
   "codemirror_mode": {
    "name": "ipython",
    "version": 3
   },
   "file_extension": ".py",
   "mimetype": "text/x-python",
   "name": "python",
   "nbconvert_exporter": "python",
   "pygments_lexer": "ipython3",
   "version": "3.9.7"
  }
 },
 "nbformat": 4,
 "nbformat_minor": 5
}
